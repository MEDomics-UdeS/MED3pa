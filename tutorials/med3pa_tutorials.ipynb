{
 "cells": [
  {
   "cell_type": "markdown",
   "metadata": {},
   "source": [
    "Working with the med3pa Subpackage\n",
    "-----------------------------------------\n",
    "\n",
    "This tutorial guides you through the process of setting up and running comprehensive experiments using the `med3pa` subpackage. It includes steps to execute MED3pa experiment with `Med3paExperiment` and the combination of MED3pa and Detectron using `Med3paDetectronExperiment`.\n"
   ]
  },
  {
   "cell_type": "markdown",
   "metadata": {},
   "source": [
    "## Running the MED3pa Experiment\n"
   ]
  },
  {
   "cell_type": "markdown",
   "metadata": {},
   "source": [
    "### Step 1: Setting up the Datasets\n",
    "First, configure the `DatasetsManager`. In the case of MED3pa only experiment you only need to set the DatasetManager with either `testing` and `reference` dataset:\n"
   ]
  },
  {
   "cell_type": "code",
   "execution_count": 1,
   "metadata": {},
   "outputs": [],
   "source": [
    "import sys\n",
    "import os\n",
    "\n",
    "sys.path.insert(0, os.path.abspath(os.path.join(os.getcwd(), '..')))\n",
    "\n",
    "from MED3pa.datasets import DatasetsManager\n",
    "\n",
    "# Initialize the DatasetsManager\n",
    "datasets = DatasetsManager()\n",
    "\n",
    "# Load datasets for reference, and testing\n",
    "datasets.set_from_file(dataset_type=\"reference\", file='./data/test_data.csv', target_column_name='Outcome')\n",
    "datasets.set_from_file(dataset_type=\"testing\", file='./data/test_data_shifted_0.6.csv', target_column_name='Outcome')\n"
   ]
  },
  {
   "cell_type": "markdown",
   "metadata": {},
   "source": [
    "## Step 2: Configuring the Model\n",
    "Next, utilize the `ModelFactory` to load a pre-trained model, and set it as the base model for the experiment. Alternatively, you can train your own model and use it:\n"
   ]
  },
  {
   "cell_type": "code",
   "execution_count": null,
   "metadata": {},
   "outputs": [],
   "source": [
    "from MED3pa.models import BaseModelManager, ModelFactory\n",
    "\n",
    "# Initialize the model factory and load the pre-trained model\n",
    "factory = ModelFactory()\n",
    "model = factory.create_model_from_pickled(\"./models/diabetes_xgb_model.pkl\")\n",
    "\n",
    "# Set the base model using BaseModelManager\n",
    "base_model_manager = BaseModelManager()\n",
    "base_model_manager.set_base_model(model=model)\n"
   ]
  },
  {
   "cell_type": "markdown",
   "metadata": {},
   "source": [
    "## Step 3: Running the MED3pa Experiment\n",
    "Execute the MED3PA experiment with the specified datasets and base model. You can also specify other parameters as needed. See the documentation of the subpackage for more information about the parameters.\n",
    "\n",
    "The experiment outputs two structure one for the reference set and the other for the testing set, both containing files indicating the extracted profiles at different declaration rates, the performance of the model on these profiles..etc.\n"
   ]
  },
  {
   "cell_type": "code",
   "execution_count": null,
   "metadata": {},
   "outputs": [
    {
     "name": "stdout",
     "output_type": "stream",
     "text": [
      "Running MED3pa Experiment on the reference set:\n"
     ]
    },
    {
     "ename": "AttributeError",
     "evalue": "'IPCModel' object has no attribute 'regressors_mapping'",
     "output_type": "error",
     "traceback": [
      "\u001b[1;31m---------------------------------------------------------------------------\u001b[0m",
      "\u001b[1;31mAttributeError\u001b[0m                            Traceback (most recent call last)",
      "Cell \u001b[1;32mIn[3], line 10\u001b[0m\n\u001b[0;32m      7\u001b[0m med3pa_metrics \u001b[38;5;241m=\u001b[39m [\u001b[38;5;124m'\u001b[39m\u001b[38;5;124mAuc\u001b[39m\u001b[38;5;124m'\u001b[39m, \u001b[38;5;124m'\u001b[39m\u001b[38;5;124mAccuracy\u001b[39m\u001b[38;5;124m'\u001b[39m, \u001b[38;5;124m'\u001b[39m\u001b[38;5;124mBalancedAccuracy\u001b[39m\u001b[38;5;124m'\u001b[39m]\n\u001b[0;32m      9\u001b[0m \u001b[38;5;66;03m# Execute the MED3PA experiment\u001b[39;00m\n\u001b[1;32m---> 10\u001b[0m reference_results, test_results \u001b[38;5;241m=\u001b[39m \u001b[43mMed3paExperiment\u001b[49m\u001b[38;5;241;43m.\u001b[39;49m\u001b[43mrun\u001b[49m\u001b[43m(\u001b[49m\n\u001b[0;32m     11\u001b[0m \u001b[43m                                    \u001b[49m\u001b[43mdatasets_manager\u001b[49m\u001b[38;5;241;43m=\u001b[39;49m\u001b[43mdatasets\u001b[49m\u001b[43m,\u001b[49m\n\u001b[0;32m     12\u001b[0m \u001b[43m                                    \u001b[49m\u001b[43mbase_model_manager\u001b[49m\u001b[38;5;241;43m=\u001b[39;49m\u001b[43mbase_model_manager\u001b[49m\u001b[43m,\u001b[49m\n\u001b[0;32m     13\u001b[0m \u001b[43m                                    \u001b[49m\u001b[43muncertainty_metric\u001b[49m\u001b[38;5;241;43m=\u001b[39;49m\u001b[43mAbsoluteError\u001b[49m\u001b[43m,\u001b[49m\n\u001b[0;32m     14\u001b[0m \u001b[43m                                    \u001b[49m\u001b[43mipc_type\u001b[49m\u001b[38;5;241;43m=\u001b[39;49m\u001b[38;5;124;43m'\u001b[39;49m\u001b[38;5;124;43mRandomForestRegressor\u001b[39;49m\u001b[38;5;124;43m'\u001b[39;49m\u001b[43m,\u001b[49m\n\u001b[0;32m     15\u001b[0m \u001b[43m                                    \u001b[49m\u001b[43mipc_params\u001b[49m\u001b[38;5;241;43m=\u001b[39;49m\u001b[43mipc_params\u001b[49m\u001b[43m,\u001b[49m\n\u001b[0;32m     16\u001b[0m \u001b[43m                                    \u001b[49m\u001b[43mapc_params\u001b[49m\u001b[38;5;241;43m=\u001b[39;49m\u001b[43mapc_params\u001b[49m\u001b[43m,\u001b[49m\n\u001b[0;32m     17\u001b[0m \u001b[43m                                    \u001b[49m\u001b[43msamples_ratio_min\u001b[49m\u001b[38;5;241;43m=\u001b[39;49m\u001b[38;5;241;43m0\u001b[39;49m\u001b[43m,\u001b[49m\n\u001b[0;32m     18\u001b[0m \u001b[43m                                    \u001b[49m\u001b[43msamples_ratio_max\u001b[49m\u001b[38;5;241;43m=\u001b[39;49m\u001b[38;5;241;43m50\u001b[39;49m\u001b[43m,\u001b[49m\n\u001b[0;32m     19\u001b[0m \u001b[43m                                    \u001b[49m\u001b[43msamples_ratio_step\u001b[49m\u001b[38;5;241;43m=\u001b[39;49m\u001b[38;5;241;43m5\u001b[39;49m\u001b[43m,\u001b[49m\n\u001b[0;32m     20\u001b[0m \u001b[43m                                    \u001b[49m\u001b[43mmed3pa_metrics\u001b[49m\u001b[38;5;241;43m=\u001b[39;49m\u001b[43mmed3pa_metrics\u001b[49m\u001b[43m,\u001b[49m\n\u001b[0;32m     21\u001b[0m \u001b[43m                                    \u001b[49m\u001b[43mevaluate_models\u001b[49m\u001b[38;5;241;43m=\u001b[39;49m\u001b[38;5;28;43;01mTrue\u001b[39;49;00m\u001b[43m,\u001b[49m\n\u001b[0;32m     22\u001b[0m \u001b[43m                                    \u001b[49m\u001b[43mmodels_metrics\u001b[49m\u001b[38;5;241;43m=\u001b[39;49m\u001b[43m[\u001b[49m\u001b[38;5;124;43m'\u001b[39;49m\u001b[38;5;124;43mMSE\u001b[39;49m\u001b[38;5;124;43m'\u001b[39;49m\u001b[43m,\u001b[49m\u001b[43m \u001b[49m\u001b[38;5;124;43m'\u001b[39;49m\u001b[38;5;124;43mRMSE\u001b[39;49m\u001b[38;5;124;43m'\u001b[39;49m\u001b[43m]\u001b[49m\n\u001b[0;32m     23\u001b[0m \u001b[43m                                \u001b[49m\u001b[43m)\u001b[49m\n",
      "File \u001b[1;32md:\\det3pa\\MED3pa\\med3pa\\experiment.py:181\u001b[0m, in \u001b[0;36mMed3paExperiment.run\u001b[1;34m(datasets_manager, base_model_manager, uncertainty_metric, ipc_type, ipc_params, ipc_grid_params, ipc_cv, apc_params, apc_grid_params, apc_cv, samples_ratio_min, samples_ratio_max, samples_ratio_step, med3pa_metrics, evaluate_models, mode, models_metrics)\u001b[0m\n\u001b[0;32m    157\u001b[0m \u001b[38;5;250m\u001b[39m\u001b[38;5;124;03m\"\"\"Runs the MED3PA experiment on both reference and testing sets.\u001b[39;00m\n\u001b[0;32m    158\u001b[0m \n\u001b[0;32m    159\u001b[0m \u001b[38;5;124;03mArgs:\u001b[39;00m\n\u001b[1;32m   (...)\u001b[0m\n\u001b[0;32m    178\u001b[0m \u001b[38;5;124;03m    Tuple[Med3paResults, Med3paResults]: the results of the MED3PA experiment on the reference set and testing set.\u001b[39;00m\n\u001b[0;32m    179\u001b[0m \u001b[38;5;124;03m\"\"\"\u001b[39;00m\n\u001b[0;32m    180\u001b[0m \u001b[38;5;28mprint\u001b[39m(\u001b[38;5;124m\"\u001b[39m\u001b[38;5;124mRunning MED3pa Experiment on the reference set:\u001b[39m\u001b[38;5;124m\"\u001b[39m)\n\u001b[1;32m--> 181\u001b[0m results_reference \u001b[38;5;241m=\u001b[39m \u001b[43mMed3paExperiment\u001b[49m\u001b[38;5;241;43m.\u001b[39;49m\u001b[43m_run_by_set\u001b[49m\u001b[43m(\u001b[49m\u001b[43mdatasets_manager\u001b[49m\u001b[38;5;241;43m=\u001b[39;49m\u001b[43mdatasets_manager\u001b[49m\u001b[43m,\u001b[49m\u001b[38;5;28;43mset\u001b[39;49m\u001b[38;5;241;43m=\u001b[39;49m\u001b[43m \u001b[49m\u001b[38;5;124;43m'\u001b[39;49m\u001b[38;5;124;43mreference\u001b[39;49m\u001b[38;5;124;43m'\u001b[39;49m\u001b[43m,\u001b[49m\u001b[43mbase_model_manager\u001b[49m\u001b[38;5;241;43m=\u001b[39;49m\u001b[43m \u001b[49m\u001b[43mbase_model_manager\u001b[49m\u001b[43m,\u001b[49m\u001b[43m \u001b[49m\n\u001b[0;32m    182\u001b[0m \u001b[43m                                                 \u001b[49m\u001b[43muncertainty_metric\u001b[49m\u001b[38;5;241;43m=\u001b[39;49m\u001b[43muncertainty_metric\u001b[49m\u001b[43m,\u001b[49m\n\u001b[0;32m    183\u001b[0m \u001b[43m                                                 \u001b[49m\u001b[43mipc_type\u001b[49m\u001b[38;5;241;43m=\u001b[39;49m\u001b[43mipc_type\u001b[49m\u001b[43m,\u001b[49m\u001b[43m \u001b[49m\u001b[43mipc_params\u001b[49m\u001b[38;5;241;43m=\u001b[39;49m\u001b[43mipc_params\u001b[49m\u001b[43m,\u001b[49m\u001b[43m \u001b[49m\u001b[43mipc_grid_params\u001b[49m\u001b[38;5;241;43m=\u001b[39;49m\u001b[43mipc_grid_params\u001b[49m\u001b[43m,\u001b[49m\u001b[43m \u001b[49m\u001b[43mipc_cv\u001b[49m\u001b[38;5;241;43m=\u001b[39;49m\u001b[43mipc_cv\u001b[49m\u001b[43m,\u001b[49m\u001b[43m \u001b[49m\n\u001b[0;32m    184\u001b[0m \u001b[43m                                                 \u001b[49m\u001b[43mapc_params\u001b[49m\u001b[38;5;241;43m=\u001b[39;49m\u001b[43mapc_params\u001b[49m\u001b[43m,\u001b[49m\u001b[43mapc_grid_params\u001b[49m\u001b[38;5;241;43m=\u001b[39;49m\u001b[43mapc_grid_params\u001b[49m\u001b[43m,\u001b[49m\u001b[43m \u001b[49m\u001b[43mapc_cv\u001b[49m\u001b[38;5;241;43m=\u001b[39;49m\u001b[43mapc_cv\u001b[49m\u001b[43m,\u001b[49m\u001b[43m \u001b[49m\n\u001b[0;32m    185\u001b[0m \u001b[43m                                                 \u001b[49m\u001b[43msamples_ratio_min\u001b[49m\u001b[38;5;241;43m=\u001b[39;49m\u001b[43msamples_ratio_min\u001b[49m\u001b[43m,\u001b[49m\u001b[43m \u001b[49m\u001b[43msamples_ratio_max\u001b[49m\u001b[38;5;241;43m=\u001b[39;49m\u001b[43msamples_ratio_max\u001b[49m\u001b[43m,\u001b[49m\u001b[43m \u001b[49m\u001b[43msamples_ratio_step\u001b[49m\u001b[38;5;241;43m=\u001b[39;49m\u001b[43msamples_ratio_step\u001b[49m\u001b[43m,\u001b[49m\u001b[43m \u001b[49m\n\u001b[0;32m    186\u001b[0m \u001b[43m                                                 \u001b[49m\u001b[43mmed3pa_metrics\u001b[49m\u001b[38;5;241;43m=\u001b[39;49m\u001b[43mmed3pa_metrics\u001b[49m\u001b[43m,\u001b[49m\u001b[43m \u001b[49m\u001b[43mevaluate_models\u001b[49m\u001b[38;5;241;43m=\u001b[39;49m\u001b[43mevaluate_models\u001b[49m\u001b[43m,\u001b[49m\u001b[43m \u001b[49m\u001b[43mmodels_metrics\u001b[49m\u001b[38;5;241;43m=\u001b[39;49m\u001b[43mmodels_metrics\u001b[49m\u001b[43m,\u001b[49m\u001b[43m \u001b[49m\u001b[43mmode\u001b[49m\u001b[38;5;241;43m=\u001b[39;49m\u001b[43mmode\u001b[49m\u001b[43m)\u001b[49m\n\u001b[0;32m    187\u001b[0m \u001b[38;5;28mprint\u001b[39m(\u001b[38;5;124m\"\u001b[39m\u001b[38;5;124mRunning MED3pa Experiment on the reference set:\u001b[39m\u001b[38;5;124m\"\u001b[39m)\n\u001b[0;32m    188\u001b[0m results_testing \u001b[38;5;241m=\u001b[39m Med3paExperiment\u001b[38;5;241m.\u001b[39m_run_by_set(datasets_manager\u001b[38;5;241m=\u001b[39mdatasets_manager,\u001b[38;5;28mset\u001b[39m\u001b[38;5;241m=\u001b[39m \u001b[38;5;124m'\u001b[39m\u001b[38;5;124mtesting\u001b[39m\u001b[38;5;124m'\u001b[39m,base_model_manager\u001b[38;5;241m=\u001b[39m base_model_manager, \n\u001b[0;32m    189\u001b[0m                                                  uncertainty_metric\u001b[38;5;241m=\u001b[39muncertainty_metric,\n\u001b[0;32m    190\u001b[0m                                                  ipc_type\u001b[38;5;241m=\u001b[39mipc_type, ipc_params\u001b[38;5;241m=\u001b[39mipc_params, ipc_grid_params\u001b[38;5;241m=\u001b[39mipc_grid_params, ipc_cv\u001b[38;5;241m=\u001b[39mipc_cv, \n\u001b[0;32m    191\u001b[0m                                                  apc_params\u001b[38;5;241m=\u001b[39mapc_params,apc_grid_params\u001b[38;5;241m=\u001b[39mapc_grid_params, apc_cv\u001b[38;5;241m=\u001b[39mapc_cv, \n\u001b[0;32m    192\u001b[0m                                                  samples_ratio_min\u001b[38;5;241m=\u001b[39msamples_ratio_min, samples_ratio_max\u001b[38;5;241m=\u001b[39msamples_ratio_max, samples_ratio_step\u001b[38;5;241m=\u001b[39msamples_ratio_step, \n\u001b[0;32m    193\u001b[0m                                                  med3pa_metrics\u001b[38;5;241m=\u001b[39mmed3pa_metrics, evaluate_models\u001b[38;5;241m=\u001b[39mevaluate_models, models_metrics\u001b[38;5;241m=\u001b[39mmodels_metrics, mode\u001b[38;5;241m=\u001b[39mmode)\n",
      "File \u001b[1;32md:\\det3pa\\MED3pa\\med3pa\\experiment.py:294\u001b[0m, in \u001b[0;36mMed3paExperiment._run_by_set\u001b[1;34m(datasets_manager, set, base_model_manager, uncertainty_metric, ipc_type, ipc_params, ipc_grid_params, ipc_cv, apc_params, apc_grid_params, apc_cv, samples_ratio_min, samples_ratio_max, samples_ratio_step, med3pa_metrics, evaluate_models, mode, models_metrics)\u001b[0m\n\u001b[0;32m    291\u001b[0m results \u001b[38;5;241m=\u001b[39m Med3paResults()\n\u001b[0;32m    293\u001b[0m \u001b[38;5;66;03m# Create and train IPCModel\u001b[39;00m\n\u001b[1;32m--> 294\u001b[0m IPC_model \u001b[38;5;241m=\u001b[39m \u001b[43mIPCModel\u001b[49m\u001b[43m(\u001b[49m\u001b[43mipc_type\u001b[49m\u001b[43m,\u001b[49m\u001b[43m \u001b[49m\u001b[43mipc_params\u001b[49m\u001b[43m)\u001b[49m\n\u001b[0;32m    295\u001b[0m IPC_model\u001b[38;5;241m.\u001b[39mtrain(x_train, uncertainty_train)\n\u001b[0;32m    296\u001b[0m \u001b[38;5;28mprint\u001b[39m(\u001b[38;5;124m\"\u001b[39m\u001b[38;5;124mIPC Model training completed.\u001b[39m\u001b[38;5;124m\"\u001b[39m)\n",
      "File \u001b[1;32md:\\det3pa\\MED3pa\\med3pa\\models.py:43\u001b[0m, in \u001b[0;36mIPCModel.__init__\u001b[1;34m(self, model_name, params)\u001b[0m\n\u001b[0;32m     35\u001b[0m \u001b[38;5;28;01mdef\u001b[39;00m \u001b[38;5;21m__init__\u001b[39m(\u001b[38;5;28mself\u001b[39m, model_name: \u001b[38;5;28mstr\u001b[39m \u001b[38;5;241m=\u001b[39m \u001b[38;5;124m'\u001b[39m\u001b[38;5;124mRandomForestRegressor\u001b[39m\u001b[38;5;124m'\u001b[39m, params: Optional[Dict[\u001b[38;5;28mstr\u001b[39m, Any]] \u001b[38;5;241m=\u001b[39m \u001b[38;5;28;01mNone\u001b[39;00m) \u001b[38;5;241m-\u001b[39m\u001b[38;5;241m>\u001b[39m \u001b[38;5;28;01mNone\u001b[39;00m:\n\u001b[0;32m     36\u001b[0m \u001b[38;5;250m    \u001b[39m\u001b[38;5;124;03m\"\"\"\u001b[39;00m\n\u001b[0;32m     37\u001b[0m \u001b[38;5;124;03m    Initializes the IPCModel with a regression model class name and optional parameters.\u001b[39;00m\n\u001b[0;32m     38\u001b[0m \n\u001b[1;32m   (...)\u001b[0m\n\u001b[0;32m     41\u001b[0m \u001b[38;5;124;03m        params (Optional[Dict[str, Any]]): Parameters to initialize the regression model, default is None.\u001b[39;00m\n\u001b[0;32m     42\u001b[0m \u001b[38;5;124;03m    \"\"\"\u001b[39;00m\n\u001b[1;32m---> 43\u001b[0m     \u001b[38;5;28;01mif\u001b[39;00m model_name \u001b[38;5;129;01mnot\u001b[39;00m \u001b[38;5;129;01min\u001b[39;00m \u001b[38;5;28;43mself\u001b[39;49m\u001b[38;5;241;43m.\u001b[39;49m\u001b[43mregressors_mapping\u001b[49m:\n\u001b[0;32m     44\u001b[0m         \u001b[38;5;28;01mraise\u001b[39;00m \u001b[38;5;167;01mValueError\u001b[39;00m(\u001b[38;5;124mf\u001b[39m\u001b[38;5;124m\"\u001b[39m\u001b[38;5;124mUnsupported model name: \u001b[39m\u001b[38;5;132;01m{\u001b[39;00mmodel_name\u001b[38;5;132;01m}\u001b[39;00m\u001b[38;5;124m. Supported models are: \u001b[39m\u001b[38;5;132;01m{\u001b[39;00m\u001b[38;5;28mself\u001b[39m\u001b[38;5;241m.\u001b[39msupported_ipc_models()\u001b[38;5;132;01m}\u001b[39;00m\u001b[38;5;124m\"\u001b[39m)\n\u001b[0;32m     46\u001b[0m     model_class \u001b[38;5;241m=\u001b[39m \u001b[38;5;28mself\u001b[39m\u001b[38;5;241m.\u001b[39mregressors_mapping[model_name]\n",
      "\u001b[1;31mAttributeError\u001b[0m: 'IPCModel' object has no attribute 'regressors_mapping'"
     ]
    }
   ],
   "source": [
    "from MED3pa.med3pa import Med3paExperiment\n",
    "from MED3pa.med3pa.uncertainty import AbsoluteError\n",
    "\n",
    "# Define parameters for the experiment\n",
    "ipc_params = {'n_estimators': 100}\n",
    "apc_params = {'max_depth': 3}\n",
    "med3pa_metrics = ['Auc', 'Accuracy', 'BalancedAccuracy']\n",
    "\n",
    "# Execute the MED3PA experiment\n",
    "reference_results, test_results = Med3paExperiment.run(\n",
    "                                    datasets_manager=datasets,\n",
    "                                    base_model_manager=base_model_manager,\n",
    "                                    uncertainty_metric=AbsoluteError,\n",
    "                                    ipc_type='RandomForestRegressor',\n",
    "                                    ipc_params=ipc_params,\n",
    "                                    apc_params=apc_params,\n",
    "                                    samples_ratio_min=0,\n",
    "                                    samples_ratio_max=50,\n",
    "                                    samples_ratio_step=5,\n",
    "                                    med3pa_metrics=med3pa_metrics,\n",
    "                                    evaluate_models=True,\n",
    "                                    models_metrics=['MSE', 'RMSE']\n",
    "                                )\n"
   ]
  },
  {
   "cell_type": "markdown",
   "metadata": {},
   "source": [
    "## Step 4: Analyzing and Saving the Results\n",
    "After running the experiment, you can analyze and save the results using the returned `Med3paResults` instance:\n"
   ]
  },
  {
   "cell_type": "code",
   "execution_count": null,
   "metadata": {},
   "outputs": [],
   "source": [
    "# Save the results to a specified directory\n",
    "reference_results.save(file_path='./med3pa_experiment_results/reference')\n",
    "test_results.save(file_path='./med3pa_experiment_results/test')\n"
   ]
  },
  {
   "cell_type": "markdown",
   "metadata": {},
   "source": [
    "## Running the MED3pa and Detectron Experiment\n",
    "You can also run an experiment that combines the forces of Detectron in covariate shift detection with MED3pa problematic profiles extraction using the `Med3paDetectronExperiment` class. To be able to run this experiment, all datasets of the `DatasetsManager` should be set, alongside the ``BaseModelManager``. This experiment will run MED3pa experiment on the `testing` and `reference` sets and then run the `detectron` experiment on the `testing` set as a whole, and then on the **extracted profiles** from MED3pa:\n"
   ]
  },
  {
   "cell_type": "code",
   "execution_count": null,
   "metadata": {},
   "outputs": [],
   "source": [
    "# We will add the training and validation set to the datasets\n",
    "datasets.set_from_file(dataset_type=\"training\", file='./data/train_data.csv', target_column_name='Outcome')\n",
    "datasets.set_from_file(dataset_type=\"validation\", file='./data/val_data.csv', target_column_name='Outcome')\n"
   ]
  },
  {
   "cell_type": "code",
   "execution_count": null,
   "metadata": {},
   "outputs": [
    {
     "name": "stdout",
     "output_type": "stream",
     "text": [
      "Running MED3pa Experiment on the reference set:\n",
      "IPC Model training completed.\n",
      "APC Model training completed.\n",
      "Confidence scores calculated for minimum_samples_ratio =  0\n",
      "Results extracted for minimum_samples_ratio =  0\n",
      "Confidence scores calculated for minimum_samples_ratio =  5\n",
      "Results extracted for minimum_samples_ratio =  5\n",
      "Confidence scores calculated for minimum_samples_ratio =  10\n",
      "Results extracted for minimum_samples_ratio =  10\n",
      "Running MED3pa Experiment on the reference set:\n",
      "IPC Model training completed.\n",
      "APC Model training completed.\n",
      "Confidence scores calculated for minimum_samples_ratio =  0\n",
      "Results extracted for minimum_samples_ratio =  0\n",
      "Confidence scores calculated for minimum_samples_ratio =  5\n",
      "Results extracted for minimum_samples_ratio =  5\n",
      "Confidence scores calculated for minimum_samples_ratio =  10\n",
      "Results extracted for minimum_samples_ratio =  10\n",
      "Running Global Detectron Experiment:\n"
     ]
    },
    {
     "name": "stderr",
     "output_type": "stream",
     "text": [
      "running seeds: 100%|██████████| 100/100 [00:10<00:00,  9.52it/s]\n"
     ]
    },
    {
     "name": "stdout",
     "output_type": "stream",
     "text": [
      "Detectron execution on reference set completed.\n"
     ]
    },
    {
     "name": "stderr",
     "output_type": "stream",
     "text": [
      "running seeds: 100%|██████████| 100/100 [00:11<00:00,  8.76it/s]\n"
     ]
    },
    {
     "name": "stdout",
     "output_type": "stream",
     "text": [
      "Detectron execution on testing set completed.\n",
      "Running Profiled Detectron Experiment:\n",
      "Running Detectron on Profile: *, Age <= -0.8201243877410889 & BloodPressure <= 0.4599476158618927 & Glucose <= -0.06547205429524183\n"
     ]
    },
    {
     "name": "stderr",
     "output_type": "stream",
     "text": [
      "running seeds: 100%|██████████| 100/100 [00:07<00:00, 13.26it/s]\n"
     ]
    },
    {
     "name": "stdout",
     "output_type": "stream",
     "text": [
      "Detectron execution on reference set completed.\n"
     ]
    },
    {
     "name": "stderr",
     "output_type": "stream",
     "text": [
      "running seeds: 100%|██████████| 100/100 [00:03<00:00, 26.26it/s]\n"
     ]
    },
    {
     "name": "stdout",
     "output_type": "stream",
     "text": [
      "Detectron execution on testing set completed.\n",
      "Running Detectron on Profile: *, Age <= -0.8201243877410889 & BloodPressure <= 0.4599476158618927\n",
      "Calibration record on reference set provided, skipping Detectron execution on reference set.\n"
     ]
    },
    {
     "name": "stderr",
     "output_type": "stream",
     "text": [
      "running seeds: 100%|██████████| 100/100 [00:04<00:00, 21.26it/s]\n"
     ]
    },
    {
     "name": "stdout",
     "output_type": "stream",
     "text": [
      "Detectron execution on testing set completed.\n",
      "Running Detectron on Profile: *, Age <= -0.8201243877410889\n",
      "Calibration record on reference set provided, skipping Detectron execution on reference set.\n"
     ]
    },
    {
     "name": "stderr",
     "output_type": "stream",
     "text": [
      "running seeds: 100%|██████████| 100/100 [00:07<00:00, 13.02it/s]\n"
     ]
    },
    {
     "name": "stdout",
     "output_type": "stream",
     "text": [
      "Detectron execution on testing set completed.\n",
      "Running Detectron on Profile: *, Age > -0.8201243877410889 & BMI <= -0.550771951675415\n",
      "Calibration record on reference set provided, skipping Detectron execution on reference set.\n"
     ]
    },
    {
     "name": "stderr",
     "output_type": "stream",
     "text": [
      "running seeds: 100%|██████████| 100/100 [00:07<00:00, 13.26it/s]\n"
     ]
    },
    {
     "name": "stdout",
     "output_type": "stream",
     "text": [
      "Detectron execution on testing set completed.\n",
      "Running Detectron on Profile: *, Age > -0.8201243877410889 & BMI > -0.550771951675415 & Glucose > -1.1373384594917297\n",
      "Calibration record on reference set provided, skipping Detectron execution on reference set.\n"
     ]
    },
    {
     "name": "stderr",
     "output_type": "stream",
     "text": [
      "running seeds: 100%|██████████| 100/100 [00:10<00:00,  9.37it/s]\n"
     ]
    },
    {
     "name": "stdout",
     "output_type": "stream",
     "text": [
      "Detectron execution on testing set completed.\n",
      "Running Detectron on Profile: *, Age > -0.8201243877410889 & BMI > -0.550771951675415\n",
      "Calibration record on reference set provided, skipping Detectron execution on reference set.\n"
     ]
    },
    {
     "name": "stderr",
     "output_type": "stream",
     "text": [
      "running seeds: 100%|██████████| 100/100 [00:10<00:00,  9.11it/s]\n"
     ]
    },
    {
     "name": "stdout",
     "output_type": "stream",
     "text": [
      "Detectron execution on testing set completed.\n",
      "Running Detectron on Profile: *, Age > -0.8201243877410889\n",
      "Calibration record on reference set provided, skipping Detectron execution on reference set.\n"
     ]
    },
    {
     "name": "stderr",
     "output_type": "stream",
     "text": [
      "running seeds: 100%|██████████| 100/100 [00:10<00:00,  9.66it/s]\n"
     ]
    },
    {
     "name": "stdout",
     "output_type": "stream",
     "text": [
      "Detectron execution on testing set completed.\n",
      "Running Detectron on Profile: *, \n",
      "Calibration record on reference set provided, skipping Detectron execution on reference set.\n"
     ]
    },
    {
     "name": "stderr",
     "output_type": "stream",
     "text": [
      "running seeds: 100%|██████████| 100/100 [00:10<00:00,  9.81it/s]\n"
     ]
    },
    {
     "name": "stdout",
     "output_type": "stream",
     "text": [
      "Detectron execution on testing set completed.\n"
     ]
    }
   ],
   "source": [
    "from MED3pa.med3pa import Med3paDetectronExperiment\n",
    "from MED3pa.detectron.strategies import EnhancedDisagreementStrategy\n",
    "\n",
    "# Execute the integrated MED3PA and Detectron experiment\n",
    "reference_det_results, test_det_results, detectron_results = Med3paDetectronExperiment.run(\n",
    "    datasets=datasets,\n",
    "    base_model_manager=base_model_manager,\n",
    "    uncertainty_metric=AbsoluteError,\n",
    "    samples_size=20,\n",
    "    ensemble_size=10,\n",
    "    num_calibration_runs=100,\n",
    "    patience=3,\n",
    "    test_strategies=EnhancedDisagreementStrategy,\n",
    "    allow_margin=False,\n",
    "    margin=0.05,\n",
    "    ipc_params=ipc_params,\n",
    "    apc_params=apc_params,\n",
    "    samples_ratio_min=0,\n",
    "    samples_ratio_max=50,\n",
    "    samples_ratio_step=5,\n",
    "    med3pa_metrics=med3pa_metrics,\n",
    "    evaluate_models=True,\n",
    "    models_metrics=['MSE', 'RMSE']\n",
    ")\n"
   ]
  },
  {
   "cell_type": "code",
   "execution_count": null,
   "metadata": {},
   "outputs": [],
   "source": [
    "# Save the results to a specified directory\n",
    "reference_det_results.save(file_path='./med3pa_detectron_experiment_results/reference')\n",
    "test_det_results.save(file_path='./med3pa_detectron_experiment_results/test')\n",
    "detectron_results.save(file_path='./med3pa_detectron_experiment_results/detectron')\n"
   ]
  }
 ],
 "metadata": {
  "kernelspec": {
   "display_name": "det3pa",
   "language": "python",
   "name": "python3"
  },
  "language_info": {
   "codemirror_mode": {
    "name": "ipython",
    "version": 3
   },
   "file_extension": ".py",
   "mimetype": "text/x-python",
   "name": "python",
   "nbconvert_exporter": "python",
   "pygments_lexer": "ipython3",
   "version": "3.12.3"
  }
 },
 "nbformat": 4,
 "nbformat_minor": 2
}
