{
 "cells": [
  {
   "cell_type": "markdown",
   "metadata": {},
   "source": [
    "Working with the med3pa Subpackage\n",
    "-----------------------------------------\n",
    "\n",
    "This tutorial guides you through the process of setting up and running comprehensive experiments using the `med3pa` subpackage. It includes steps to execute MED3pa experiment with `Med3paExperiment` and the combination of MED3pa and Detectron using `Med3paDetectronExperiment`.\n"
   ]
  },
  {
   "cell_type": "markdown",
   "metadata": {},
   "source": [
    "## Running the MED3pa Experiment\n"
   ]
  },
  {
   "cell_type": "markdown",
   "metadata": {},
   "source": [
    "### Step 1: Setting up the Datasets\n",
    "First, configure the `DatasetsManager`. In the case of MED3pa only experiment you only need to set the DatasetManager with either `testing` and `reference` dataset:\n"
   ]
  },
  {
   "cell_type": "code",
   "execution_count": 1,
   "metadata": {},
   "outputs": [],
   "source": [
    "import sys\n",
    "import os\n",
    "\n",
    "sys.path.insert(0, os.path.abspath(os.path.join(os.getcwd(), '..')))\n",
    "\n",
    "from MED3pa.datasets import DatasetsManager\n",
    "\n",
    "# Initialize the DatasetsManager\n",
    "datasets = DatasetsManager()\n",
    "\n",
    "# Load datasets for reference, and testing\n",
    "datasets.set_from_file(dataset_type=\"training\", file='./data/train_data.csv', target_column_name='Outcome')\n",
    "datasets.set_from_file(dataset_type=\"validation\", file='./data/val_data.csv', target_column_name='Outcome')\n",
    "datasets.set_from_file(dataset_type=\"reference\", file='./data/test_data.csv', target_column_name='Outcome')\n",
    "datasets.set_from_file(dataset_type=\"testing\", file='./data/test_data_shifted_0.1.csv', target_column_name='Outcome')\n",
    "\n",
    "\n",
    "# Initialize the DatasetsManager\n",
    "datasets2 = DatasetsManager()\n",
    "\n",
    "# Load datasets for reference, and testing\n",
    "datasets2.set_from_file(dataset_type=\"training\", file='./data/train_data.csv', target_column_name='Outcome')\n",
    "datasets2.set_from_file(dataset_type=\"validation\", file='./data/val_data.csv', target_column_name='Outcome')\n",
    "datasets2.set_from_file(dataset_type=\"reference\", file='./data/test_data.csv', target_column_name='Outcome')\n",
    "datasets2.set_from_file(dataset_type=\"testing\", file='./data/test_data_shifted_1.6.csv', target_column_name='Outcome')\n"
   ]
  },
  {
   "cell_type": "markdown",
   "metadata": {},
   "source": [
    "## Step 2: Configuring the Model\n",
    "Next, utilize the `ModelFactory` to load a pre-trained model, and set it as the base model for the experiment. Alternatively, you can train your own model and use it:\n"
   ]
  },
  {
   "cell_type": "code",
   "execution_count": 2,
   "metadata": {},
   "outputs": [],
   "source": [
    "from MED3pa.models import BaseModelManager, ModelFactory\n",
    "\n",
    "# Initialize the model factory and load the pre-trained model\n",
    "factory = ModelFactory()\n",
    "model = factory.create_model_from_pickled(\"./models/diabetes_xgb_model.pkl\")\n",
    "\n",
    "# Set the base model using BaseModelManager\n",
    "base_model_manager = BaseModelManager()\n",
    "base_model_manager.set_base_model(model=model)\n"
   ]
  },
  {
   "cell_type": "markdown",
   "metadata": {},
   "source": [
    "## Step 3: Running the MED3pa Experiment\n",
    "Execute the MED3PA experiment with the specified datasets and base model. You can also specify other parameters as needed. See the documentation of the subpackage for more information about the parameters.\n",
    "\n",
    "The experiment outputs two structure one for the reference set and the other for the testing set, both containing files indicating the extracted profiles at different declaration rates, the performance of the model on these profiles..etc.\n"
   ]
  },
  {
   "cell_type": "code",
   "execution_count": 3,
   "metadata": {},
   "outputs": [
    {
     "name": "stdout",
     "output_type": "stream",
     "text": [
      "Running MED3pa Experiment on the reference set:\n",
      "IPC Model training complete.\n",
      "IPC Model optimization complete.\n",
      "Individualized confidence scores calculated.\n",
      "APC Model training complete.\n",
      "APC Model optimization complete.\n",
      "Aggregated confidence scores calculated.\n",
      "Mixed confidence scores calculated.\n",
      "Results extracted for minimum_samples_ratio =  0\n",
      "Results extracted for minimum_samples_ratio =  5\n",
      "Results extracted for minimum_samples_ratio =  10\n",
      "Running MED3pa Experiment on the test set:\n",
      "IPC Model training complete.\n",
      "IPC Model optimization complete.\n",
      "Individualized confidence scores calculated.\n",
      "APC Model training complete.\n",
      "APC Model optimization complete.\n",
      "Aggregated confidence scores calculated.\n",
      "Mixed confidence scores calculated.\n",
      "Results extracted for minimum_samples_ratio =  0\n",
      "Results extracted for minimum_samples_ratio =  5\n",
      "Results extracted for minimum_samples_ratio =  10\n",
      "Running MED3pa Experiment on the reference set:\n",
      "IPC Model training complete.\n",
      "IPC Model optimization complete.\n",
      "Individualized confidence scores calculated.\n",
      "APC Model training complete.\n",
      "APC Model optimization complete.\n",
      "Aggregated confidence scores calculated.\n",
      "Mixed confidence scores calculated.\n",
      "Results extracted for minimum_samples_ratio =  0\n",
      "Results extracted for minimum_samples_ratio =  5\n",
      "Results extracted for minimum_samples_ratio =  10\n",
      "Running MED3pa Experiment on the test set:\n",
      "IPC Model training complete.\n",
      "IPC Model optimization complete.\n",
      "Individualized confidence scores calculated.\n",
      "APC Model training complete.\n",
      "APC Model optimization complete.\n",
      "Aggregated confidence scores calculated.\n",
      "Mixed confidence scores calculated.\n",
      "Results extracted for minimum_samples_ratio =  0\n",
      "Results extracted for minimum_samples_ratio =  5\n",
      "Results extracted for minimum_samples_ratio =  10\n"
     ]
    }
   ],
   "source": [
    "from MED3pa.med3pa import Med3paExperiment\n",
    "\n",
    "# Define parameters for the experiment\n",
    "ipc_params = {'n_estimators': 100}\n",
    "ipc_grid = {\n",
    "    'n_estimators': [50, 100, 200],\n",
    "    'max_depth': [2, 3, 4, 5],\n",
    "    'min_samples_leaf':[1, 2, 4]\n",
    "\n",
    "}\n",
    "apc_grid = {\n",
    "    'max_depth': [2, 3, 4, 5],\n",
    "    'min_samples_leaf':[1, 2, 4]\n",
    "}\n",
    "apc_params = {'max_depth': 3}\n",
    "med3pa_metrics = ['Auc', 'Accuracy', 'BalancedAccuracy']\n",
    "\n",
    "apc_grid2 = {\n",
    "    'max_depth': [2, 3, 4, 5],\n",
    "    'min_samples_leaf':[1, 2, 4]\n",
    "}\n",
    "apc_params2 = {'max_depth': 3}\n",
    "\n",
    "# Execute the MED3PA experiment\n",
    "results = Med3paExperiment.run(\n",
    "                                datasets_manager=datasets,\n",
    "                                base_model_manager=base_model_manager,\n",
    "                                uncertainty_metric=\"absolute_error\",\n",
    "                                ipc_type='RandomForestRegressor',\n",
    "                                ipc_params=ipc_params,\n",
    "                                apc_params=apc_params,\n",
    "                                ipc_grid_params=ipc_grid,\n",
    "                                apc_grid_params=apc_grid,\n",
    "                                samples_ratio_min=0,\n",
    "                                samples_ratio_max=10,\n",
    "                                samples_ratio_step=5,\n",
    "                                med3pa_metrics=med3pa_metrics,\n",
    "                                evaluate_models=True,\n",
    "                                )\n",
    "\n",
    "BaseModelManager.reset()\n",
    "# Initialize the model factory and load the pre-trained model\n",
    "factory = ModelFactory()\n",
    "model = factory.create_model_from_pickled(\"./models/diabetes_xgb_model.pkl\")\n",
    "\n",
    "# Set the base model using BaseModelManager\n",
    "base_model_manager = BaseModelManager()\n",
    "base_model_manager.set_base_model(model=model)\n",
    "\n",
    "results2 = Med3paExperiment.run(\n",
    "                                datasets_manager=datasets2,\n",
    "                                base_model_manager=base_model_manager,\n",
    "                                uncertainty_metric=\"absolute_error\",\n",
    "                                ipc_type='RandomForestRegressor',\n",
    "                                ipc_params=ipc_params,\n",
    "                                apc_params=apc_params2,\n",
    "                                ipc_grid_params=ipc_grid,\n",
    "                                apc_grid_params=apc_grid2,\n",
    "                                samples_ratio_min=0,\n",
    "                                samples_ratio_max=10,\n",
    "                                samples_ratio_step=5,\n",
    "                                med3pa_metrics=med3pa_metrics,\n",
    "                                evaluate_models=True,\n",
    "                                )"
   ]
  },
  {
   "cell_type": "markdown",
   "metadata": {},
   "source": [
    "## Step 4: Analyzing and Saving the Results\n",
    "After running the experiment, you can analyze and save the results using the returned `Med3paResults` instance:\n"
   ]
  },
  {
   "cell_type": "code",
   "execution_count": 4,
   "metadata": {},
   "outputs": [],
   "source": [
    "# Save the results to a specified directory\n",
    "results.save(file_path='./med3pa_experiment_results')\n",
    "results2.save(file_path='./med3pa_experiment_results_2')"
   ]
  },
  {
   "cell_type": "markdown",
   "metadata": {},
   "source": [
    "Additonnally, you can save the instances the IPC and APC models as pickled files:\n"
   ]
  },
  {
   "cell_type": "code",
   "execution_count": 5,
   "metadata": {},
   "outputs": [],
   "source": [
    "results.save_models(file_path='./med3pa_experiment_results_models')"
   ]
  },
  {
   "cell_type": "markdown",
   "metadata": {},
   "source": [
    "## Step 5: Running experiments from pretrained models\n",
    "If you don't want to re-train new APC and IPC models in your experiment, you can directly use a previously saved instances. as follows:"
   ]
  },
  {
   "cell_type": "code",
   "execution_count": 6,
   "metadata": {},
   "outputs": [
    {
     "name": "stdout",
     "output_type": "stream",
     "text": [
      "Running MED3pa Experiment on the reference set:\n",
      "Loaded a pretrained IPC model.\n",
      "Individualized confidence scores calculated.\n",
      "Loaded a pretrained APC model.\n",
      "Aggregated confidence scores calculated.\n",
      "Mixed confidence scores calculated.\n",
      "Results extracted for minimum_samples_ratio =  0\n",
      "Results extracted for minimum_samples_ratio =  5\n",
      "Results extracted for minimum_samples_ratio =  10\n",
      "Running MED3pa Experiment on the test set:\n",
      "Loaded a pretrained IPC model.\n",
      "Individualized confidence scores calculated.\n",
      "Loaded a pretrained APC model.\n",
      "Aggregated confidence scores calculated.\n",
      "Mixed confidence scores calculated.\n",
      "Results extracted for minimum_samples_ratio =  0\n",
      "Results extracted for minimum_samples_ratio =  5\n",
      "Results extracted for minimum_samples_ratio =  10\n",
      "Running MED3pa Experiment on the reference set:\n",
      "Loaded a pretrained IPC model.\n",
      "Individualized confidence scores calculated.\n",
      "Loaded a pretrained APC model.\n",
      "Aggregated confidence scores calculated.\n",
      "Mixed confidence scores calculated.\n",
      "Results extracted for minimum_samples_ratio =  0\n",
      "Results extracted for minimum_samples_ratio =  5\n",
      "Results extracted for minimum_samples_ratio =  10\n",
      "Running MED3pa Experiment on the test set:\n",
      "Loaded a pretrained IPC model.\n",
      "Individualized confidence scores calculated.\n",
      "Loaded a pretrained APC model.\n",
      "Aggregated confidence scores calculated.\n",
      "Mixed confidence scores calculated.\n",
      "Results extracted for minimum_samples_ratio =  0\n",
      "Results extracted for minimum_samples_ratio =  5\n",
      "Results extracted for minimum_samples_ratio =  10\n"
     ]
    }
   ],
   "source": [
    "from MED3pa.med3pa import Med3paExperiment\n",
    "from MED3pa.med3pa.uncertainty import AbsoluteError\n",
    "\n",
    "# Define parameters for the experiment\n",
    "ipc_params = {'n_estimators': 100}\n",
    "apc_params = {'max_depth': 3}\n",
    "med3pa_metrics = ['Auc', 'Accuracy', 'BalancedAccuracy']\n",
    "\n",
    "# Execute the MED3PA experiment\n",
    "results = Med3paExperiment.run(\n",
    "                                datasets_manager=datasets,\n",
    "                                base_model_manager=base_model_manager,\n",
    "                                uncertainty_metric=\"absolute_error\",\n",
    "                                ipc_type='RandomForestRegressor',\n",
    "                                pretrained_ipc='./med3pa_experiment_results_models/ipc_model.pkl',\n",
    "                                pretrained_apc='./med3pa_experiment_results_models/apc_model.pkl',\n",
    "                                samples_ratio_min=0,\n",
    "                                samples_ratio_max=10,\n",
    "                                samples_ratio_step=5,\n",
    "                                med3pa_metrics=med3pa_metrics,\n",
    "                                evaluate_models=True,\n",
    "                                use_ref_models=True\n",
    "                                )\n",
    "\n",
    "results2 = Med3paExperiment.run(\n",
    "                                datasets_manager=datasets2,\n",
    "                                base_model_manager=base_model_manager,\n",
    "                                uncertainty_metric=\"absolute_error\",\n",
    "                                ipc_type='RandomForestRegressor',\n",
    "                                pretrained_ipc='./med3pa_experiment_results_models/ipc_model.pkl',\n",
    "                                pretrained_apc='./med3pa_experiment_results_models/apc_model.pkl',\n",
    "                                samples_ratio_min=0,\n",
    "                                samples_ratio_max=10,\n",
    "                                samples_ratio_step=5,\n",
    "                                med3pa_metrics=med3pa_metrics,\n",
    "                                evaluate_models=True,\n",
    "                                use_ref_models=True\n",
    "                                )"
   ]
  },
  {
   "cell_type": "code",
   "execution_count": 7,
   "metadata": {},
   "outputs": [],
   "source": [
    "# Save the results to a specified directory\n",
    "results.save(file_path='./med3pa_experiment_results_pretrained')\n",
    "results2.save(file_path='./med3pa_experiment_results_2_pretrained')"
   ]
  },
  {
   "cell_type": "markdown",
   "metadata": {},
   "source": [
    "## Step 6: Comparing two experiments\n",
    "You can compare between two experiments bu using the ``Med3paComparaison`` class, this class works as follows:\n",
    "- the two experiments need to be of the same type, either ``Med3paExperiment`` or ``Med3paDetectronExperiment``.\n",
    "- if the two experiments were executed using the same tree structure, or the same apc/ipc models, the profiles will also be compared.\n",
    "- if the experiments are of type ``Med3paDetectronExperiment``, the detectron results will be also compared."
   ]
  },
  {
   "cell_type": "code",
   "execution_count": 8,
   "metadata": {},
   "outputs": [],
   "source": [
    "import sys\n",
    "import os\n",
    "\n",
    "sys.path.insert(0, os.path.abspath(os.path.join(os.getcwd(), '..')))\n",
    "\n",
    "from MED3pa.med3pa.comparaison import Med3paComparison\n",
    "\n",
    "comparaison = Med3paComparison('./med3pa_experiment_results_pretrained', './med3pa_experiment_results_2_pretrained')\n",
    "comparaison.compare_experiments()\n",
    "comparaison.save('./med3pa_comparaison_results')"
   ]
  },
  {
   "cell_type": "markdown",
   "metadata": {},
   "source": [
    "## Running the MED3pa and Detectron Experiment\n",
    "You can also run an experiment that combines the forces of Detectron in covariate shift detection with MED3pa problematic profiles extraction using the `Med3paDetectronExperiment` class. To be able to run this experiment, all datasets of the `DatasetsManager` should be set, alongside the ``BaseModelManager``. This experiment will run MED3pa experiment on the `testing` and `reference` sets and then run the `detectron` experiment on the `testing` set as a whole, and then on the **extracted profiles** from MED3pa:\n"
   ]
  },
  {
   "cell_type": "code",
   "execution_count": 9,
   "metadata": {},
   "outputs": [],
   "source": [
    "import sys\n",
    "import os\n",
    "\n",
    "sys.path.insert(0, os.path.abspath(os.path.join(os.getcwd(), '..')))\n",
    "\n",
    "from MED3pa.datasets import DatasetsManager\n",
    "\n",
    "# Initialize the DatasetsManager\n",
    "datasets = DatasetsManager()\n",
    "\n",
    "# Load datasets for reference, and testing\n",
    "datasets.set_from_file(dataset_type=\"training\", file='./data/train_data.csv', target_column_name='Outcome')\n",
    "datasets.set_from_file(dataset_type=\"validation\", file='./data/val_data.csv', target_column_name='Outcome')\n",
    "datasets.set_from_file(dataset_type=\"reference\", file='./data/test_data.csv', target_column_name='Outcome')\n",
    "datasets.set_from_file(dataset_type=\"testing\", file='./data/test_data_shifted_0.1.csv', target_column_name='Outcome')\n",
    "\n",
    "\n",
    "# Initialize the DatasetsManager\n",
    "datasets2 = DatasetsManager()\n",
    "\n",
    "# Load datasets for reference, and testing\n",
    "datasets2.set_from_file(dataset_type=\"training\", file='./data/train_data.csv', target_column_name='Outcome')\n",
    "datasets2.set_from_file(dataset_type=\"validation\", file='./data/val_data.csv', target_column_name='Outcome')\n",
    "datasets2.set_from_file(dataset_type=\"reference\", file='./data/test_data.csv', target_column_name='Outcome')\n",
    "datasets2.set_from_file(dataset_type=\"testing\", file='./data/test_data_shifted_1.6.csv', target_column_name='Outcome')\n"
   ]
  },
  {
   "cell_type": "code",
   "execution_count": 10,
   "metadata": {},
   "outputs": [],
   "source": [
    "from MED3pa.models import BaseModelManager, ModelFactory\n",
    "\n",
    "BaseModelManager.reset()\n",
    "# Initialize the model factory and load the pre-trained model\n",
    "factory = ModelFactory()\n",
    "model = factory.create_model_from_pickled(\"./models/diabetes_xgb_model.pkl\")\n",
    "\n",
    "# Set the base model using BaseModelManager\n",
    "base_model_manager = BaseModelManager()\n",
    "base_model_manager.set_base_model(model=model)\n"
   ]
  },
  {
   "cell_type": "code",
   "execution_count": 11,
   "metadata": {},
   "outputs": [
    {
     "name": "stdout",
     "output_type": "stream",
     "text": [
      "Running MED3pa Experiment on the reference set:\n",
      "IPC Model training complete.\n",
      "Individualized confidence scores calculated.\n",
      "APC Model training complete.\n",
      "Aggregated confidence scores calculated.\n",
      "Mixed confidence scores calculated.\n",
      "Results extracted for minimum_samples_ratio =  0\n",
      "Results extracted for minimum_samples_ratio =  5\n",
      "Results extracted for minimum_samples_ratio =  10\n",
      "Running MED3pa Experiment on the test set:\n",
      "IPC Model training complete.\n",
      "Individualized confidence scores calculated.\n",
      "APC Model training complete.\n",
      "Aggregated confidence scores calculated.\n",
      "Mixed confidence scores calculated.\n"
     ]
    },
    {
     "ename": "KeyboardInterrupt",
     "evalue": "",
     "output_type": "error",
     "traceback": [
      "\u001b[1;31m---------------------------------------------------------------------------\u001b[0m",
      "\u001b[1;31mKeyboardInterrupt\u001b[0m                         Traceback (most recent call last)",
      "Cell \u001b[1;32mIn[11], line 10\u001b[0m\n\u001b[0;32m      7\u001b[0m \u001b[38;5;28;01mfrom\u001b[39;00m \u001b[38;5;21;01mMED3pa\u001b[39;00m\u001b[38;5;21;01m.\u001b[39;00m\u001b[38;5;21;01mdetectron\u001b[39;00m\u001b[38;5;21;01m.\u001b[39;00m\u001b[38;5;21;01mstrategies\u001b[39;00m \u001b[38;5;28;01mimport\u001b[39;00m EnhancedDisagreementStrategy\n\u001b[0;32m      9\u001b[0m \u001b[38;5;66;03m# Execute the integrated MED3PA and Detectron experiment\u001b[39;00m\n\u001b[1;32m---> 10\u001b[0m med3pa_detectron_results \u001b[38;5;241m=\u001b[39m Med3paDetectronExperiment\u001b[38;5;241m.\u001b[39mrun(\n\u001b[0;32m     11\u001b[0m     datasets\u001b[38;5;241m=\u001b[39mdatasets,\n\u001b[0;32m     12\u001b[0m     base_model_manager\u001b[38;5;241m=\u001b[39mbase_model_manager,\n\u001b[0;32m     13\u001b[0m     uncertainty_metric\u001b[38;5;241m=\u001b[39m\u001b[38;5;124m\"\u001b[39m\u001b[38;5;124mabsolute_error\u001b[39m\u001b[38;5;124m\"\u001b[39m,\n\u001b[0;32m     14\u001b[0m     samples_size\u001b[38;5;241m=\u001b[39m\u001b[38;5;241m20\u001b[39m,\n\u001b[0;32m     15\u001b[0m     ensemble_size\u001b[38;5;241m=\u001b[39m\u001b[38;5;241m10\u001b[39m,\n\u001b[0;32m     16\u001b[0m     num_calibration_runs\u001b[38;5;241m=\u001b[39m\u001b[38;5;241m100\u001b[39m,\n\u001b[0;32m     17\u001b[0m     patience\u001b[38;5;241m=\u001b[39m\u001b[38;5;241m3\u001b[39m,\n\u001b[0;32m     18\u001b[0m     test_strategies\u001b[38;5;241m=\u001b[39m\u001b[38;5;124m\"\u001b[39m\u001b[38;5;124menhanced_disagreement_strategy\u001b[39m\u001b[38;5;124m\"\u001b[39m,\n\u001b[0;32m     19\u001b[0m     allow_margin\u001b[38;5;241m=\u001b[39m\u001b[38;5;28;01mFalse\u001b[39;00m,\n\u001b[0;32m     20\u001b[0m     margin\u001b[38;5;241m=\u001b[39m\u001b[38;5;241m0.05\u001b[39m,\n\u001b[0;32m     21\u001b[0m     samples_ratio_min\u001b[38;5;241m=\u001b[39m\u001b[38;5;241m0\u001b[39m,\n\u001b[0;32m     22\u001b[0m     samples_ratio_max\u001b[38;5;241m=\u001b[39m\u001b[38;5;241m10\u001b[39m,\n\u001b[0;32m     23\u001b[0m     samples_ratio_step\u001b[38;5;241m=\u001b[39m\u001b[38;5;241m5\u001b[39m,\n\u001b[0;32m     24\u001b[0m     evaluate_models\u001b[38;5;241m=\u001b[39m\u001b[38;5;28;01mTrue\u001b[39;00m,\n\u001b[0;32m     25\u001b[0m )\n\u001b[0;32m     27\u001b[0m med3pa_detectron_results2 \u001b[38;5;241m=\u001b[39m Med3paDetectronExperiment\u001b[38;5;241m.\u001b[39mrun(\n\u001b[0;32m     28\u001b[0m     datasets\u001b[38;5;241m=\u001b[39mdatasets2,\n\u001b[0;32m     29\u001b[0m     base_model_manager\u001b[38;5;241m=\u001b[39mbase_model_manager,\n\u001b[1;32m   (...)\u001b[0m\n\u001b[0;32m     42\u001b[0m     evaluate_models\u001b[38;5;241m=\u001b[39m\u001b[38;5;28;01mTrue\u001b[39;00m,\n\u001b[0;32m     43\u001b[0m )\n",
      "File \u001b[1;32md:\\MED3pa-package\\MED3pa\\MED3pa\\med3pa\\experiment.py:623\u001b[0m, in \u001b[0;36mMed3paDetectronExperiment.run\u001b[1;34m(datasets, base_model_manager, uncertainty_metric, training_params, samples_size, samples_size_profiles, ensemble_size, num_calibration_runs, patience, test_strategies, allow_margin, margin, ipc_type, ipc_params, ipc_grid_params, ipc_cv, pretrained_ipc, apc_params, apc_grid_params, apc_cv, pretrained_apc, samples_ratio_min, samples_ratio_max, samples_ratio_step, med3pa_metrics, evaluate_models, use_ref_models, models_metrics, mode, all_dr)\u001b[0m\n\u001b[0;32m    620\u001b[0m \u001b[38;5;28;01mif\u001b[39;00m mode \u001b[38;5;129;01mnot\u001b[39;00m \u001b[38;5;129;01min\u001b[39;00m valid_modes:\n\u001b[0;32m    621\u001b[0m     \u001b[38;5;28;01mraise\u001b[39;00m \u001b[38;5;167;01mValueError\u001b[39;00m(\u001b[38;5;124mf\u001b[39m\u001b[38;5;124m\"\u001b[39m\u001b[38;5;124mInvalid mode \u001b[39m\u001b[38;5;124m'\u001b[39m\u001b[38;5;132;01m{\u001b[39;00mmode\u001b[38;5;132;01m}\u001b[39;00m\u001b[38;5;124m'\u001b[39m\u001b[38;5;124m. The mode must be one of \u001b[39m\u001b[38;5;132;01m{\u001b[39;00mvalid_modes\u001b[38;5;132;01m}\u001b[39;00m\u001b[38;5;124m.\u001b[39m\u001b[38;5;124m\"\u001b[39m)\n\u001b[1;32m--> 623\u001b[0m med3pa_results \u001b[38;5;241m=\u001b[39m Med3paExperiment\u001b[38;5;241m.\u001b[39mrun(datasets_manager\u001b[38;5;241m=\u001b[39mdatasets, \n\u001b[0;32m    624\u001b[0m                                                         base_model_manager\u001b[38;5;241m=\u001b[39mbase_model_manager, uncertainty_metric\u001b[38;5;241m=\u001b[39muncertainty_metric,\n\u001b[0;32m    625\u001b[0m                                                         ipc_params\u001b[38;5;241m=\u001b[39mipc_params, ipc_grid_params\u001b[38;5;241m=\u001b[39mipc_grid_params, ipc_cv\u001b[38;5;241m=\u001b[39mipc_cv, ipc_type\u001b[38;5;241m=\u001b[39mipc_type, pretrained_ipc\u001b[38;5;241m=\u001b[39mpretrained_ipc,\n\u001b[0;32m    626\u001b[0m                                                         apc_params\u001b[38;5;241m=\u001b[39mapc_params, apc_grid_params\u001b[38;5;241m=\u001b[39mapc_grid_params, apc_cv\u001b[38;5;241m=\u001b[39mapc_cv, pretrained_apc\u001b[38;5;241m=\u001b[39mpretrained_apc,\n\u001b[0;32m    627\u001b[0m                                                         evaluate_models\u001b[38;5;241m=\u001b[39mevaluate_models, models_metrics\u001b[38;5;241m=\u001b[39mmodels_metrics,\n\u001b[0;32m    628\u001b[0m                                                         samples_ratio_min\u001b[38;5;241m=\u001b[39msamples_ratio_min, samples_ratio_max\u001b[38;5;241m=\u001b[39msamples_ratio_max, samples_ratio_step\u001b[38;5;241m=\u001b[39msamples_ratio_step,\n\u001b[0;32m    629\u001b[0m                                                         med3pa_metrics\u001b[38;5;241m=\u001b[39mmed3pa_metrics, mode\u001b[38;5;241m=\u001b[39mmode, use_ref_models\u001b[38;5;241m=\u001b[39muse_ref_models)\n\u001b[0;32m    631\u001b[0m \u001b[38;5;28mprint\u001b[39m(\u001b[38;5;124m\"\u001b[39m\u001b[38;5;124mRunning Global Detectron Experiment:\u001b[39m\u001b[38;5;124m\"\u001b[39m)\n\u001b[0;32m    632\u001b[0m detectron_results \u001b[38;5;241m=\u001b[39m DetectronExperiment\u001b[38;5;241m.\u001b[39mrun(datasets\u001b[38;5;241m=\u001b[39mdatasets, training_params\u001b[38;5;241m=\u001b[39mtraining_params, base_model_manager\u001b[38;5;241m=\u001b[39mbase_model_manager,\n\u001b[0;32m    633\u001b[0m                                             samples_size\u001b[38;5;241m=\u001b[39msamples_size, num_calibration_runs\u001b[38;5;241m=\u001b[39mnum_calibration_runs, ensemble_size\u001b[38;5;241m=\u001b[39mensemble_size,\n\u001b[0;32m    634\u001b[0m                                             patience\u001b[38;5;241m=\u001b[39mpatience, allow_margin\u001b[38;5;241m=\u001b[39mallow_margin, margin\u001b[38;5;241m=\u001b[39mmargin)\n",
      "File \u001b[1;32md:\\MED3pa-package\\MED3pa\\MED3pa\\med3pa\\experiment.py:325\u001b[0m, in \u001b[0;36mMed3paExperiment.run\u001b[1;34m(datasets_manager, base_model_manager, uncertainty_metric, ipc_type, ipc_params, ipc_grid_params, ipc_cv, pretrained_ipc, apc_params, apc_grid_params, apc_cv, pretrained_apc, samples_ratio_min, samples_ratio_max, samples_ratio_step, med3pa_metrics, evaluate_models, use_ref_models, mode, models_metrics)\u001b[0m\n\u001b[0;32m    318\u001b[0m     results_testing, ipc_config, apc_config \u001b[38;5;241m=\u001b[39m Med3paExperiment\u001b[38;5;241m.\u001b[39m_run_by_set(datasets_manager\u001b[38;5;241m=\u001b[39mdatasets_manager,\u001b[38;5;28mset\u001b[39m\u001b[38;5;241m=\u001b[39m \u001b[38;5;124m'\u001b[39m\u001b[38;5;124mtesting\u001b[39m\u001b[38;5;124m'\u001b[39m,base_model_manager\u001b[38;5;241m=\u001b[39m base_model_manager, \n\u001b[0;32m    319\u001b[0m                                                     uncertainty_metric\u001b[38;5;241m=\u001b[39muncertainty_metric,\n\u001b[0;32m    320\u001b[0m                                                     ipc_type\u001b[38;5;241m=\u001b[39mipc_type, ipc_params\u001b[38;5;241m=\u001b[39mipc_params, ipc_grid_params\u001b[38;5;241m=\u001b[39mipc_grid_params, ipc_cv\u001b[38;5;241m=\u001b[39mipc_cv, pretrained_ipc\u001b[38;5;241m=\u001b[39mpretrained_ipc, ipc_instance\u001b[38;5;241m=\u001b[39mipc_config,\n\u001b[0;32m    321\u001b[0m                                                     apc_params\u001b[38;5;241m=\u001b[39mapc_params,apc_grid_params\u001b[38;5;241m=\u001b[39mapc_grid_params, apc_cv\u001b[38;5;241m=\u001b[39mapc_cv, pretrained_apc\u001b[38;5;241m=\u001b[39mpretrained_apc, apc_instance\u001b[38;5;241m=\u001b[39mapc_config,\n\u001b[0;32m    322\u001b[0m                                                     samples_ratio_min\u001b[38;5;241m=\u001b[39msamples_ratio_min, samples_ratio_max\u001b[38;5;241m=\u001b[39msamples_ratio_max, samples_ratio_step\u001b[38;5;241m=\u001b[39msamples_ratio_step, \n\u001b[0;32m    323\u001b[0m                                                     med3pa_metrics\u001b[38;5;241m=\u001b[39mmed3pa_metrics, evaluate_models\u001b[38;5;241m=\u001b[39mevaluate_models, models_metrics\u001b[38;5;241m=\u001b[39mmodels_metrics, mode\u001b[38;5;241m=\u001b[39mmode)\n\u001b[0;32m    324\u001b[0m \u001b[38;5;28;01melse\u001b[39;00m:\n\u001b[1;32m--> 325\u001b[0m     results_testing, ipc_config, apc_config \u001b[38;5;241m=\u001b[39m Med3paExperiment\u001b[38;5;241m.\u001b[39m_run_by_set(datasets_manager\u001b[38;5;241m=\u001b[39mdatasets_manager,\u001b[38;5;28mset\u001b[39m\u001b[38;5;241m=\u001b[39m \u001b[38;5;124m'\u001b[39m\u001b[38;5;124mtesting\u001b[39m\u001b[38;5;124m'\u001b[39m,base_model_manager\u001b[38;5;241m=\u001b[39m base_model_manager, \n\u001b[0;32m    326\u001b[0m                                                     uncertainty_metric\u001b[38;5;241m=\u001b[39muncertainty_metric,\n\u001b[0;32m    327\u001b[0m                                                     ipc_type\u001b[38;5;241m=\u001b[39mipc_type, ipc_params\u001b[38;5;241m=\u001b[39mipc_params, ipc_grid_params\u001b[38;5;241m=\u001b[39mipc_grid_params, ipc_cv\u001b[38;5;241m=\u001b[39mipc_cv, pretrained_ipc\u001b[38;5;241m=\u001b[39mpretrained_ipc, ipc_instance\u001b[38;5;241m=\u001b[39m\u001b[38;5;28;01mNone\u001b[39;00m,\n\u001b[0;32m    328\u001b[0m                                                     apc_params\u001b[38;5;241m=\u001b[39mapc_params,apc_grid_params\u001b[38;5;241m=\u001b[39mapc_grid_params, apc_cv\u001b[38;5;241m=\u001b[39mapc_cv, pretrained_apc\u001b[38;5;241m=\u001b[39mpretrained_apc, apc_instance\u001b[38;5;241m=\u001b[39m\u001b[38;5;28;01mNone\u001b[39;00m,\n\u001b[0;32m    329\u001b[0m                                                     samples_ratio_min\u001b[38;5;241m=\u001b[39msamples_ratio_min, samples_ratio_max\u001b[38;5;241m=\u001b[39msamples_ratio_max, samples_ratio_step\u001b[38;5;241m=\u001b[39msamples_ratio_step, \n\u001b[0;32m    330\u001b[0m                                                     med3pa_metrics\u001b[38;5;241m=\u001b[39mmed3pa_metrics, evaluate_models\u001b[38;5;241m=\u001b[39mevaluate_models, models_metrics\u001b[38;5;241m=\u001b[39mmodels_metrics, mode\u001b[38;5;241m=\u001b[39mmode)\n\u001b[0;32m    332\u001b[0m results \u001b[38;5;241m=\u001b[39m Med3paResults(results_reference, results_testing)\n\u001b[0;32m    333\u001b[0m med3pa_params \u001b[38;5;241m=\u001b[39m {\n\u001b[0;32m    334\u001b[0m     \u001b[38;5;124m'\u001b[39m\u001b[38;5;124muncertainty_metric\u001b[39m\u001b[38;5;124m'\u001b[39m: uncertainty_metric,\n\u001b[0;32m    335\u001b[0m     \u001b[38;5;124m'\u001b[39m\u001b[38;5;124msamples_ratio_min\u001b[39m\u001b[38;5;124m'\u001b[39m: samples_ratio_min,\n\u001b[1;32m   (...)\u001b[0m\n\u001b[0;32m    343\u001b[0m     \u001b[38;5;124m'\u001b[39m\u001b[38;5;124mapc_model\u001b[39m\u001b[38;5;124m'\u001b[39m: apc_config\u001b[38;5;241m.\u001b[39mget_info() \u001b[38;5;28;01mif\u001b[39;00m apc_config \u001b[38;5;129;01mis\u001b[39;00m \u001b[38;5;129;01mnot\u001b[39;00m \u001b[38;5;28;01mNone\u001b[39;00m \u001b[38;5;28;01melse\u001b[39;00m \u001b[38;5;28;01mNone\u001b[39;00m,\n\u001b[0;32m    344\u001b[0m }\n",
      "File \u001b[1;32md:\\MED3pa-package\\MED3pa\\MED3pa\\med3pa\\experiment.py:531\u001b[0m, in \u001b[0;36mMed3paExperiment._run_by_set\u001b[1;34m(datasets_manager, set, base_model_manager, uncertainty_metric, ipc_type, ipc_params, ipc_grid_params, ipc_cv, pretrained_ipc, ipc_instance, apc_params, apc_grid_params, apc_cv, apc_instance, pretrained_apc, samples_ratio_min, samples_ratio_max, samples_ratio_step, med3pa_metrics, evaluate_models, mode, models_metrics)\u001b[0m\n\u001b[0;32m    527\u001b[0m \u001b[38;5;28;01mfor\u001b[39;00m samples_ratio \u001b[38;5;129;01min\u001b[39;00m \u001b[38;5;28mrange\u001b[39m(samples_ratio_min, samples_ratio_max \u001b[38;5;241m+\u001b[39m \u001b[38;5;241m1\u001b[39m, samples_ratio_step):\n\u001b[0;32m    528\u001b[0m \n\u001b[0;32m    529\u001b[0m     \u001b[38;5;66;03m# Calculate profiles and their metrics by declaration rate                \u001b[39;00m\n\u001b[0;32m    530\u001b[0m     MDRCalculator\u001b[38;5;241m.\u001b[39mcalc_profiles(profiles_manager, tree, mpc_dataset, features, MPC_values, samples_ratio)                \n\u001b[1;32m--> 531\u001b[0m     MDRCalculator\u001b[38;5;241m.\u001b[39mcalc_metrics_by_profiles(profiles_manager, mpc_dataset, features, MPC_values, samples_ratio, med3pa_metrics)\n\u001b[0;32m    532\u001b[0m     results\u001b[38;5;241m.\u001b[39mset_profiles_manager(profiles_manager)                \n\u001b[0;32m    533\u001b[0m     \u001b[38;5;28mprint\u001b[39m(\u001b[38;5;124m\"\u001b[39m\u001b[38;5;124mResults extracted for minimum_samples_ratio = \u001b[39m\u001b[38;5;124m\"\u001b[39m, samples_ratio)\n",
      "File \u001b[1;32md:\\MED3pa-package\\MED3pa\\MED3pa\\med3pa\\mdr.py:385\u001b[0m, in \u001b[0;36mMDRCalculator.calc_metrics_by_profiles\u001b[1;34m(profiles_manager, dataset, features, confidence_scores, min_samples_ratio, metrics_list)\u001b[0m\n\u001b[0;32m    383\u001b[0m \u001b[38;5;66;03m# calculate the metrics for this profile\u001b[39;00m\n\u001b[0;32m    384\u001b[0m confidence_mask \u001b[38;5;241m=\u001b[39m confidence_scores \u001b[38;5;241m>\u001b[39m\u001b[38;5;241m=\u001b[39m min_confidence_level\n\u001b[1;32m--> 385\u001b[0m metrics_dict \u001b[38;5;241m=\u001b[39m MDRCalculator\u001b[38;5;241m.\u001b[39m_calculate_metrics(y_true\u001b[38;5;241m=\u001b[39my_true[confidence_mask],\n\u001b[0;32m    386\u001b[0m                                                 y_pred\u001b[38;5;241m=\u001b[39my_pred[confidence_mask], \n\u001b[0;32m    387\u001b[0m                                                 predicted_prob\u001b[38;5;241m=\u001b[39mpred_prob[confidence_mask],\n\u001b[0;32m    388\u001b[0m                                                 metrics_list\u001b[38;5;241m=\u001b[39mmetrics_list)\n\u001b[0;32m    389\u001b[0m info_dict \u001b[38;5;241m=\u001b[39m {}\n\u001b[0;32m    390\u001b[0m \u001b[38;5;66;03m# the remaining node population at the current dr compared to node population at dr = 100\u001b[39;00m\n",
      "File \u001b[1;32md:\\MED3pa-package\\MED3pa\\MED3pa\\med3pa\\mdr.py:66\u001b[0m, in \u001b[0;36mMDRCalculator._calculate_metrics\u001b[1;34m(y_true, y_pred, predicted_prob, metrics_list)\u001b[0m\n\u001b[0;32m     64\u001b[0m \u001b[38;5;28;01mif\u001b[39;00m metric_function:\n\u001b[0;32m     65\u001b[0m     \u001b[38;5;28;01mif\u001b[39;00m metric_name \u001b[38;5;129;01min\u001b[39;00m {\u001b[38;5;124m'\u001b[39m\u001b[38;5;124mAuc\u001b[39m\u001b[38;5;124m'\u001b[39m, \u001b[38;5;124m'\u001b[39m\u001b[38;5;124mAuprc\u001b[39m\u001b[38;5;124m'\u001b[39m, \u001b[38;5;124m'\u001b[39m\u001b[38;5;124mLogloss\u001b[39m\u001b[38;5;124m'\u001b[39m}:\n\u001b[1;32m---> 66\u001b[0m         metrics_dict[metric_name] \u001b[38;5;241m=\u001b[39m metric_function(y_true, predicted_prob)\n\u001b[0;32m     67\u001b[0m     \u001b[38;5;28;01melse\u001b[39;00m:\n\u001b[0;32m     68\u001b[0m         metrics_dict[metric_name] \u001b[38;5;241m=\u001b[39m metric_function(y_true, y_pred)\n",
      "File \u001b[1;32md:\\MED3pa-package\\MED3pa\\MED3pa\\models\\classification_metrics.py:92\u001b[0m, in \u001b[0;36mClassificationEvaluationMetrics.average_precision\u001b[1;34m(y_true, y_pred, sample_weight)\u001b[0m\n\u001b[0;32m     90\u001b[0m \u001b[38;5;28;01mwith\u001b[39;00m warnings\u001b[38;5;241m.\u001b[39mcatch_warnings():\n\u001b[0;32m     91\u001b[0m     warnings\u001b[38;5;241m.\u001b[39msimplefilter(\u001b[38;5;124m\"\u001b[39m\u001b[38;5;124mignore\u001b[39m\u001b[38;5;124m\"\u001b[39m)\n\u001b[1;32m---> 92\u001b[0m     \u001b[38;5;28;01mreturn\u001b[39;00m average_precision_score(y_true, y_pred, sample_weight\u001b[38;5;241m=\u001b[39msample_weight)\n",
      "File \u001b[1;32mc:\\Users\\lyna\\anaconda3\\envs\\MED3pa\\Lib\\site-packages\\sklearn\\utils\\_param_validation.py:213\u001b[0m, in \u001b[0;36mvalidate_params.<locals>.decorator.<locals>.wrapper\u001b[1;34m(*args, **kwargs)\u001b[0m\n\u001b[0;32m    207\u001b[0m \u001b[38;5;28;01mtry\u001b[39;00m:\n\u001b[0;32m    208\u001b[0m     \u001b[38;5;28;01mwith\u001b[39;00m config_context(\n\u001b[0;32m    209\u001b[0m         skip_parameter_validation\u001b[38;5;241m=\u001b[39m(\n\u001b[0;32m    210\u001b[0m             prefer_skip_nested_validation \u001b[38;5;129;01mor\u001b[39;00m global_skip_validation\n\u001b[0;32m    211\u001b[0m         )\n\u001b[0;32m    212\u001b[0m     ):\n\u001b[1;32m--> 213\u001b[0m         \u001b[38;5;28;01mreturn\u001b[39;00m func(\u001b[38;5;241m*\u001b[39margs, \u001b[38;5;241m*\u001b[39m\u001b[38;5;241m*\u001b[39mkwargs)\n\u001b[0;32m    214\u001b[0m \u001b[38;5;28;01mexcept\u001b[39;00m InvalidParameterError \u001b[38;5;28;01mas\u001b[39;00m e:\n\u001b[0;32m    215\u001b[0m     \u001b[38;5;66;03m# When the function is just a wrapper around an estimator, we allow\u001b[39;00m\n\u001b[0;32m    216\u001b[0m     \u001b[38;5;66;03m# the function to delegate validation to the estimator, but we replace\u001b[39;00m\n\u001b[0;32m    217\u001b[0m     \u001b[38;5;66;03m# the name of the estimator by the name of the function in the error\u001b[39;00m\n\u001b[0;32m    218\u001b[0m     \u001b[38;5;66;03m# message to avoid confusion.\u001b[39;00m\n\u001b[0;32m    219\u001b[0m     msg \u001b[38;5;241m=\u001b[39m re\u001b[38;5;241m.\u001b[39msub(\n\u001b[0;32m    220\u001b[0m         \u001b[38;5;124mr\u001b[39m\u001b[38;5;124m\"\u001b[39m\u001b[38;5;124mparameter of \u001b[39m\u001b[38;5;124m\\\u001b[39m\u001b[38;5;124mw+ must be\u001b[39m\u001b[38;5;124m\"\u001b[39m,\n\u001b[0;32m    221\u001b[0m         \u001b[38;5;124mf\u001b[39m\u001b[38;5;124m\"\u001b[39m\u001b[38;5;124mparameter of \u001b[39m\u001b[38;5;132;01m{\u001b[39;00mfunc\u001b[38;5;241m.\u001b[39m\u001b[38;5;18m__qualname__\u001b[39m\u001b[38;5;132;01m}\u001b[39;00m\u001b[38;5;124m must be\u001b[39m\u001b[38;5;124m\"\u001b[39m,\n\u001b[0;32m    222\u001b[0m         \u001b[38;5;28mstr\u001b[39m(e),\n\u001b[0;32m    223\u001b[0m     )\n",
      "File \u001b[1;32mc:\\Users\\lyna\\anaconda3\\envs\\MED3pa\\Lib\\site-packages\\sklearn\\metrics\\_ranking.py:268\u001b[0m, in \u001b[0;36maverage_precision_score\u001b[1;34m(y_true, y_score, average, pos_label, sample_weight)\u001b[0m\n\u001b[0;32m    263\u001b[0m     y_true \u001b[38;5;241m=\u001b[39m label_binarize(y_true, classes\u001b[38;5;241m=\u001b[39mpresent_labels)\n\u001b[0;32m    265\u001b[0m average_precision \u001b[38;5;241m=\u001b[39m partial(\n\u001b[0;32m    266\u001b[0m     _binary_uninterpolated_average_precision, pos_label\u001b[38;5;241m=\u001b[39mpos_label\n\u001b[0;32m    267\u001b[0m )\n\u001b[1;32m--> 268\u001b[0m \u001b[38;5;28;01mreturn\u001b[39;00m _average_binary_score(\n\u001b[0;32m    269\u001b[0m     average_precision, y_true, y_score, average, sample_weight\u001b[38;5;241m=\u001b[39msample_weight\n\u001b[0;32m    270\u001b[0m )\n",
      "File \u001b[1;32mc:\\Users\\lyna\\anaconda3\\envs\\MED3pa\\Lib\\site-packages\\sklearn\\metrics\\_base.py:75\u001b[0m, in \u001b[0;36m_average_binary_score\u001b[1;34m(binary_metric, y_true, y_score, average, sample_weight)\u001b[0m\n\u001b[0;32m     72\u001b[0m     \u001b[38;5;28;01mraise\u001b[39;00m \u001b[38;5;167;01mValueError\u001b[39;00m(\u001b[38;5;124m\"\u001b[39m\u001b[38;5;132;01m{0}\u001b[39;00m\u001b[38;5;124m format is not supported\u001b[39m\u001b[38;5;124m\"\u001b[39m\u001b[38;5;241m.\u001b[39mformat(y_type))\n\u001b[0;32m     74\u001b[0m \u001b[38;5;28;01mif\u001b[39;00m y_type \u001b[38;5;241m==\u001b[39m \u001b[38;5;124m\"\u001b[39m\u001b[38;5;124mbinary\u001b[39m\u001b[38;5;124m\"\u001b[39m:\n\u001b[1;32m---> 75\u001b[0m     \u001b[38;5;28;01mreturn\u001b[39;00m binary_metric(y_true, y_score, sample_weight\u001b[38;5;241m=\u001b[39msample_weight)\n\u001b[0;32m     77\u001b[0m check_consistent_length(y_true, y_score, sample_weight)\n\u001b[0;32m     78\u001b[0m y_true \u001b[38;5;241m=\u001b[39m check_array(y_true)\n",
      "File \u001b[1;32mc:\\Users\\lyna\\anaconda3\\envs\\MED3pa\\Lib\\site-packages\\sklearn\\metrics\\_ranking.py:230\u001b[0m, in \u001b[0;36maverage_precision_score.<locals>._binary_uninterpolated_average_precision\u001b[1;34m(y_true, y_score, pos_label, sample_weight)\u001b[0m\n\u001b[0;32m    227\u001b[0m \u001b[38;5;28;01mdef\u001b[39;00m \u001b[38;5;21m_binary_uninterpolated_average_precision\u001b[39m(\n\u001b[0;32m    228\u001b[0m     y_true, y_score, pos_label\u001b[38;5;241m=\u001b[39m\u001b[38;5;241m1\u001b[39m, sample_weight\u001b[38;5;241m=\u001b[39m\u001b[38;5;28;01mNone\u001b[39;00m\n\u001b[0;32m    229\u001b[0m ):\n\u001b[1;32m--> 230\u001b[0m     precision, recall, _ \u001b[38;5;241m=\u001b[39m precision_recall_curve(\n\u001b[0;32m    231\u001b[0m         y_true, y_score, pos_label\u001b[38;5;241m=\u001b[39mpos_label, sample_weight\u001b[38;5;241m=\u001b[39msample_weight\n\u001b[0;32m    232\u001b[0m     )\n\u001b[0;32m    233\u001b[0m     \u001b[38;5;66;03m# Return the step function integral\u001b[39;00m\n\u001b[0;32m    234\u001b[0m     \u001b[38;5;66;03m# The following works because the last entry of precision is\u001b[39;00m\n\u001b[0;32m    235\u001b[0m     \u001b[38;5;66;03m# guaranteed to be 1, as returned by precision_recall_curve\u001b[39;00m\n\u001b[0;32m    236\u001b[0m     \u001b[38;5;28;01mreturn\u001b[39;00m \u001b[38;5;241m-\u001b[39mnp\u001b[38;5;241m.\u001b[39msum(np\u001b[38;5;241m.\u001b[39mdiff(recall) \u001b[38;5;241m*\u001b[39m np\u001b[38;5;241m.\u001b[39marray(precision)[:\u001b[38;5;241m-\u001b[39m\u001b[38;5;241m1\u001b[39m])\n",
      "File \u001b[1;32mc:\\Users\\lyna\\anaconda3\\envs\\MED3pa\\Lib\\site-packages\\sklearn\\utils\\_param_validation.py:186\u001b[0m, in \u001b[0;36mvalidate_params.<locals>.decorator.<locals>.wrapper\u001b[1;34m(*args, **kwargs)\u001b[0m\n\u001b[0;32m    184\u001b[0m global_skip_validation \u001b[38;5;241m=\u001b[39m get_config()[\u001b[38;5;124m\"\u001b[39m\u001b[38;5;124mskip_parameter_validation\u001b[39m\u001b[38;5;124m\"\u001b[39m]\n\u001b[0;32m    185\u001b[0m \u001b[38;5;28;01mif\u001b[39;00m global_skip_validation:\n\u001b[1;32m--> 186\u001b[0m     \u001b[38;5;28;01mreturn\u001b[39;00m func(\u001b[38;5;241m*\u001b[39margs, \u001b[38;5;241m*\u001b[39m\u001b[38;5;241m*\u001b[39mkwargs)\n\u001b[0;32m    188\u001b[0m func_sig \u001b[38;5;241m=\u001b[39m signature(func)\n\u001b[0;32m    190\u001b[0m \u001b[38;5;66;03m# Map *args/**kwargs to the function signature\u001b[39;00m\n",
      "File \u001b[1;32mc:\\Users\\lyna\\anaconda3\\envs\\MED3pa\\Lib\\site-packages\\sklearn\\metrics\\_ranking.py:1003\u001b[0m, in \u001b[0;36mprecision_recall_curve\u001b[1;34m(y_true, probas_pred, pos_label, sample_weight, drop_intermediate)\u001b[0m\n\u001b[0;32m   1001\u001b[0m \u001b[38;5;66;03m# reverse the outputs so recall is decreasing\u001b[39;00m\n\u001b[0;32m   1002\u001b[0m sl \u001b[38;5;241m=\u001b[39m \u001b[38;5;28mslice\u001b[39m(\u001b[38;5;28;01mNone\u001b[39;00m, \u001b[38;5;28;01mNone\u001b[39;00m, \u001b[38;5;241m-\u001b[39m\u001b[38;5;241m1\u001b[39m)\n\u001b[1;32m-> 1003\u001b[0m \u001b[38;5;28;01mreturn\u001b[39;00m np\u001b[38;5;241m.\u001b[39mhstack((precision[sl], \u001b[38;5;241m1\u001b[39m)), np\u001b[38;5;241m.\u001b[39mhstack((recall[sl], \u001b[38;5;241m0\u001b[39m)), thresholds[sl]\n",
      "File \u001b[1;32mc:\\Users\\lyna\\anaconda3\\envs\\MED3pa\\Lib\\site-packages\\numpy\\core\\shape_base.py:357\u001b[0m, in \u001b[0;36mhstack\u001b[1;34m(tup, dtype, casting)\u001b[0m\n\u001b[0;32m    355\u001b[0m \u001b[38;5;66;03m# As a special case, dimension 0 of 1-dimensional arrays is \"horizontal\"\u001b[39;00m\n\u001b[0;32m    356\u001b[0m \u001b[38;5;28;01mif\u001b[39;00m arrs \u001b[38;5;129;01mand\u001b[39;00m arrs[\u001b[38;5;241m0\u001b[39m]\u001b[38;5;241m.\u001b[39mndim \u001b[38;5;241m==\u001b[39m \u001b[38;5;241m1\u001b[39m:\n\u001b[1;32m--> 357\u001b[0m     \u001b[38;5;28;01mreturn\u001b[39;00m _nx\u001b[38;5;241m.\u001b[39mconcatenate(arrs, \u001b[38;5;241m0\u001b[39m, dtype\u001b[38;5;241m=\u001b[39mdtype, casting\u001b[38;5;241m=\u001b[39mcasting)\n\u001b[0;32m    358\u001b[0m \u001b[38;5;28;01melse\u001b[39;00m:\n\u001b[0;32m    359\u001b[0m     \u001b[38;5;28;01mreturn\u001b[39;00m _nx\u001b[38;5;241m.\u001b[39mconcatenate(arrs, \u001b[38;5;241m1\u001b[39m, dtype\u001b[38;5;241m=\u001b[39mdtype, casting\u001b[38;5;241m=\u001b[39mcasting)\n",
      "\u001b[1;31mKeyboardInterrupt\u001b[0m: "
     ]
    }
   ],
   "source": [
    "import sys\n",
    "import os\n",
    "\n",
    "sys.path.insert(0, os.path.abspath(os.path.join(os.getcwd(), '..')))\n",
    "\n",
    "from MED3pa.med3pa import Med3paDetectronExperiment\n",
    "from MED3pa.detectron.strategies import EnhancedDisagreementStrategy\n",
    "\n",
    "# Execute the integrated MED3PA and Detectron experiment\n",
    "med3pa_detectron_results = Med3paDetectronExperiment.run(\n",
    "    datasets=datasets,\n",
    "    base_model_manager=base_model_manager,\n",
    "    uncertainty_metric=\"absolute_error\",\n",
    "    samples_size=20,\n",
    "    ensemble_size=10,\n",
    "    num_calibration_runs=100,\n",
    "    patience=3,\n",
    "    test_strategies=\"enhanced_disagreement_strategy\",\n",
    "    allow_margin=False,\n",
    "    margin=0.05,\n",
    "    samples_ratio_min=0,\n",
    "    samples_ratio_max=10,\n",
    "    samples_ratio_step=5,\n",
    "    evaluate_models=True,\n",
    ")\n",
    "\n",
    "med3pa_detectron_results2 = Med3paDetectronExperiment.run(\n",
    "    datasets=datasets2,\n",
    "    base_model_manager=base_model_manager,\n",
    "    uncertainty_metric=\"absolute_error\",\n",
    "    samples_size=20,\n",
    "    samples_size_profiles=20,\n",
    "    ensemble_size=10,\n",
    "    num_calibration_runs=100,\n",
    "    patience=3,\n",
    "    test_strategies=\"enhanced_disagreement_strategy\",\n",
    "    allow_margin=False,\n",
    "    margin=0.05,\n",
    "    samples_ratio_min=0,\n",
    "    samples_ratio_max=10,\n",
    "    samples_ratio_step=5,\n",
    "    evaluate_models=True,\n",
    ")"
   ]
  },
  {
   "cell_type": "code",
   "execution_count": null,
   "metadata": {},
   "outputs": [],
   "source": [
    "# Save the results to a specified directory\n",
    "med3pa_detectron_results.save(file_path='./med3pa_detectron_experiment_results/')\n",
    "med3pa_detectron_results2.save(file_path='./med3pa_detectron_experiment_results2/')\n",
    "\n"
   ]
  },
  {
   "cell_type": "code",
   "execution_count": null,
   "metadata": {},
   "outputs": [],
   "source": [
    "import sys\n",
    "import os\n",
    "\n",
    "sys.path.insert(0, os.path.abspath(os.path.join(os.getcwd(), '..')))\n",
    "\n",
    "from MED3pa.med3pa.comparaison import Med3paComparison\n",
    "\n",
    "comparaison = Med3paComparison('./med3pa_detectron_experiment_results', './med3pa_detectron_experiment_results2')\n",
    "comparaison.compare_experiments()\n",
    "comparaison.save('./med3pa_detectron_comparaison_results')"
   ]
  }
 ],
 "metadata": {
  "kernelspec": {
   "display_name": "det3pa",
   "language": "python",
   "name": "python3"
  },
  "language_info": {
   "codemirror_mode": {
    "name": "ipython",
    "version": 3
   },
   "file_extension": ".py",
   "mimetype": "text/x-python",
   "name": "python",
   "nbconvert_exporter": "python",
   "pygments_lexer": "ipython3",
   "version": "3.11.9"
  }
 },
 "nbformat": 4,
 "nbformat_minor": 2
}
