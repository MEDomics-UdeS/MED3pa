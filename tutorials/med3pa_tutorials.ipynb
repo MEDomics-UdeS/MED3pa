{
 "cells": [
  {
   "cell_type": "markdown",
   "metadata": {},
   "source": [
    "Working with the med3pa Subpackage\n",
    "-----------------------------------------\n",
    "\n",
    "This tutorial guides you through the process of setting up and running comprehensive experiments using the `med3pa` subpackage. It includes steps to execute MED3pa experiment with `Med3paExperiment` and the combination of MED3pa and Detectron using `Med3paDetectronExperiment`.\n"
   ]
  },
  {
   "cell_type": "markdown",
   "metadata": {},
   "source": [
    "## Running the MED3pa Experiment\n"
   ]
  },
  {
   "cell_type": "markdown",
   "metadata": {},
   "source": [
    "### Step 1: Setting up the Datasets\n",
    "First, configure the `DatasetsManager`. In the case of MED3pa only experiment you only need to set the DatasetManager with either `testing` and `reference` dataset:\n"
   ]
  },
  {
   "cell_type": "code",
   "execution_count": 1,
   "metadata": {},
   "outputs": [],
   "source": [
    "import sys\n",
    "import os\n",
    "\n",
    "sys.path.insert(0, os.path.abspath(os.path.join(os.getcwd(), '..')))\n",
    "\n",
    "from MED3pa.datasets import DatasetsManager\n",
    "\n",
    "# Initialize the DatasetsManager\n",
    "datasets = DatasetsManager()\n",
    "\n",
    "# Load datasets for reference, and testing\n",
    "datasets.set_from_file(dataset_type=\"training\", file='./data/train_data.csv', target_column_name='Outcome')\n",
    "datasets.set_from_file(dataset_type=\"validation\", file='./data/val_data.csv', target_column_name='Outcome')\n",
    "datasets.set_from_file(dataset_type=\"reference\", file='./data/test_data.csv', target_column_name='Outcome')\n",
    "datasets.set_from_file(dataset_type=\"testing\", file='./data/test_data_shifted_0.1.csv', target_column_name='Outcome')\n",
    "\n",
    "\n",
    "# Initialize the DatasetsManager\n",
    "datasets2 = DatasetsManager()\n",
    "\n",
    "# Load datasets for reference, and testing\n",
    "datasets2.set_from_file(dataset_type=\"training\", file='./data/train_data.csv', target_column_name='Outcome')\n",
    "datasets2.set_from_file(dataset_type=\"validation\", file='./data/val_data.csv', target_column_name='Outcome')\n",
    "datasets2.set_from_file(dataset_type=\"reference\", file='./data/test_data.csv', target_column_name='Outcome')\n",
    "datasets2.set_from_file(dataset_type=\"testing\", file='./data/test_data_shifted_1.6.csv', target_column_name='Outcome')\n"
   ]
  },
  {
   "cell_type": "markdown",
   "metadata": {},
   "source": [
    "## Step 2: Configuring the Model\n",
    "Next, utilize the `ModelFactory` to load a pre-trained model, and set it as the base model for the experiment. Alternatively, you can train your own model and use it:\n"
   ]
  },
  {
   "cell_type": "code",
   "execution_count": 2,
   "metadata": {},
   "outputs": [],
   "source": [
    "from MED3pa.models import BaseModelManager, ModelFactory\n",
    "\n",
    "# Initialize the model factory and load the pre-trained model\n",
    "factory = ModelFactory()\n",
    "model = factory.create_model_from_pickled(\"./models/diabetes_xgb_model.pkl\")\n",
    "\n",
    "# Set the base model using BaseModelManager\n",
    "base_model_manager = BaseModelManager()\n",
    "base_model_manager.set_base_model(model=model)\n"
   ]
  },
  {
   "cell_type": "markdown",
   "metadata": {},
   "source": [
    "## Step 3: Running the MED3pa Experiment\n",
    "Execute the MED3PA experiment with the specified datasets and base model. You can also specify other parameters as needed. See the documentation of the subpackage for more information about the parameters.\n",
    "\n",
    "The experiment outputs two structure one for the reference set and the other for the testing set, both containing files indicating the extracted profiles at different declaration rates, the performance of the model on these profiles..etc.\n"
   ]
  },
  {
   "cell_type": "code",
   "execution_count": 3,
   "metadata": {},
   "outputs": [
    {
     "name": "stdout",
     "output_type": "stream",
     "text": [
      "Running MED3pa Experiment on the reference set:\n",
      "IPC Model training complete.\n",
      "IPC Model optimization complete.\n",
      "Individualized confidence scores calculated.\n",
      "Running MED3pa Experiment on the test set:\n",
      "IPC Model training complete.\n",
      "IPC Model optimization complete.\n",
      "Individualized confidence scores calculated.\n",
      "Running MED3pa Experiment on the reference set:\n",
      "IPC Model training complete.\n",
      "IPC Model optimization complete.\n",
      "Individualized confidence scores calculated.\n",
      "Running MED3pa Experiment on the test set:\n",
      "IPC Model training complete.\n",
      "IPC Model optimization complete.\n",
      "Individualized confidence scores calculated.\n"
     ]
    }
   ],
   "source": [
    "from MED3pa.med3pa import Med3paExperiment\n",
    "\n",
    "# Define parameters for the experiment\n",
    "ipc_params = {'n_estimators': 100}\n",
    "ipc_grid = {\n",
    "    'n_estimators': [50, 100, 200],\n",
    "    'max_depth': [2, 3, 4, 5],\n",
    "    'min_samples_leaf':[1, 2, 4]\n",
    "\n",
    "}\n",
    "apc_grid = {\n",
    "    'max_depth': [2, 3, 4, 5],\n",
    "    'min_samples_leaf':[1, 2, 4]\n",
    "}\n",
    "apc_params = {'max_depth': 3}\n",
    "med3pa_metrics = ['Auc', 'Accuracy', 'BalancedAccuracy']\n",
    "\n",
    "apc_grid2 = {\n",
    "    'max_depth': [2, 3, 4, 5],\n",
    "    'min_samples_leaf':[1, 2, 4]\n",
    "}\n",
    "apc_params2 = {'max_depth': 3}\n",
    "\n",
    "# Execute the MED3PA experiment\n",
    "results = Med3paExperiment.run(\n",
    "                                datasets_manager=datasets,\n",
    "                                base_model_manager=base_model_manager,\n",
    "                                uncertainty_metric=\"absolute_error\",\n",
    "                                ipc_type='RandomForestRegressor',\n",
    "                                ipc_params=ipc_params,\n",
    "                                apc_params=apc_params,\n",
    "                                ipc_grid_params=ipc_grid,\n",
    "                                apc_grid_params=apc_grid,\n",
    "                                samples_ratio_min=0,\n",
    "                                samples_ratio_max=10,\n",
    "                                samples_ratio_step=5,\n",
    "                                med3pa_metrics=med3pa_metrics,\n",
    "                                evaluate_models=True,\n",
    "                                mode='ipc',\n",
    "                                )\n",
    "\n",
    "BaseModelManager.reset()\n",
    "# Initialize the model factory and load the pre-trained model\n",
    "factory = ModelFactory()\n",
    "model = factory.create_model_from_pickled(\"./models/diabetes_xgb_model.pkl\")\n",
    "\n",
    "# Set the base model using BaseModelManager\n",
    "base_model_manager = BaseModelManager()\n",
    "base_model_manager.set_base_model(model=model)\n",
    "\n",
    "results2 = Med3paExperiment.run(\n",
    "                                datasets_manager=datasets2,\n",
    "                                base_model_manager=base_model_manager,\n",
    "                                uncertainty_metric=\"absolute_error\",\n",
    "                                ipc_type='RandomForestRegressor',\n",
    "                                ipc_params=ipc_params,\n",
    "                                apc_params=apc_params2,\n",
    "                                ipc_grid_params=ipc_grid,\n",
    "                                apc_grid_params=apc_grid2,\n",
    "                                samples_ratio_min=0,\n",
    "                                samples_ratio_max=10,\n",
    "                                samples_ratio_step=5,\n",
    "                                med3pa_metrics=med3pa_metrics,\n",
    "                                evaluate_models=True,\n",
    "                                mode='ipc',\n",
    "                                )"
   ]
  },
  {
   "cell_type": "markdown",
   "metadata": {},
   "source": [
    "## Step 4: Analyzing and Saving the Results\n",
    "After running the experiment, you can analyze and save the results using the returned `Med3paResults` instance:\n"
   ]
  },
  {
   "cell_type": "code",
   "execution_count": 4,
   "metadata": {},
   "outputs": [],
   "source": [
    "# Save the results to a specified directory\n",
    "results.save(file_path='./med3pa_experiment_results')\n",
    "results2.save(file_path='./med3pa_experiment_results_2')"
   ]
  },
  {
   "cell_type": "markdown",
   "metadata": {},
   "source": [
    "Additonnally, you can save the instances the IPC and APC models as pickled files:\n"
   ]
  },
  {
   "cell_type": "code",
   "execution_count": 5,
   "metadata": {},
   "outputs": [],
   "source": [
    "results.save_models(file_path='./med3pa_experiment_results_models')"
   ]
  },
  {
   "cell_type": "markdown",
   "metadata": {},
   "source": [
    "## Step 5: Running experiments from pretrained models\n",
    "If you don't want to re-train new APC and IPC models in your experiment, you can directly use a previously saved instances. as follows:"
   ]
  },
  {
   "cell_type": "code",
   "execution_count": null,
   "metadata": {},
   "outputs": [],
   "source": [
    "from MED3pa.med3pa import Med3paExperiment\n",
    "from MED3pa.med3pa.uncertainty import AbsoluteError\n",
    "\n",
    "# Define parameters for the experiment\n",
    "ipc_params = {'n_estimators': 100}\n",
    "apc_params = {'max_depth': 3}\n",
    "med3pa_metrics = ['Auc', 'Accuracy', 'BalancedAccuracy']\n",
    "\n",
    "# Execute the MED3PA experiment\n",
    "results = Med3paExperiment.run(\n",
    "                                datasets_manager=datasets,\n",
    "                                base_model_manager=base_model_manager,\n",
    "                                uncertainty_metric=\"absolute_error\",\n",
    "                                ipc_type='RandomForestRegressor',\n",
    "                                pretrained_ipc='./med3pa_experiment_results_models/ipc_model.pkl',\n",
    "                                pretrained_apc='./med3pa_experiment_results_models/apc_model.pkl',\n",
    "                                samples_ratio_min=0,\n",
    "                                samples_ratio_max=10,\n",
    "                                samples_ratio_step=5,\n",
    "                                med3pa_metrics=med3pa_metrics,\n",
    "                                evaluate_models=True,\n",
    "                                use_ref_models=True\n",
    "                                )\n",
    "\n",
    "results2 = Med3paExperiment.run(\n",
    "                                datasets_manager=datasets2,\n",
    "                                base_model_manager=base_model_manager,\n",
    "                                uncertainty_metric=\"absolute_error\",\n",
    "                                ipc_type='RandomForestRegressor',\n",
    "                                pretrained_ipc='./med3pa_experiment_results_models/ipc_model.pkl',\n",
    "                                pretrained_apc='./med3pa_experiment_results_models/apc_model.pkl',\n",
    "                                samples_ratio_min=0,\n",
    "                                samples_ratio_max=10,\n",
    "                                samples_ratio_step=5,\n",
    "                                med3pa_metrics=med3pa_metrics,\n",
    "                                evaluate_models=True,\n",
    "                                use_ref_models=True\n",
    "                                )"
   ]
  },
  {
   "cell_type": "code",
   "execution_count": null,
   "metadata": {},
   "outputs": [],
   "source": [
    "# Save the results to a specified directory\n",
    "results.save(file_path='./med3pa_experiment_results_pretrained')\n",
    "results2.save(file_path='./med3pa_experiment_results_2_pretrained')"
   ]
  },
  {
   "cell_type": "markdown",
   "metadata": {},
   "source": [
    "## Step 6: Comparing two experiments\n",
    "You can compare between two experiments bu using the ``Med3paComparaison`` class, this class works as follows:\n",
    "- the two experiments need to be of the same type, either ``Med3paExperiment`` or ``Med3paDetectronExperiment``.\n",
    "- if the two experiments were executed using the same tree structure, or the same apc/ipc models, the profiles will also be compared.\n",
    "- if the experiments are of type ``Med3paDetectronExperiment``, the detectron results will be also compared."
   ]
  },
  {
   "cell_type": "code",
   "execution_count": 1,
   "metadata": {},
   "outputs": [],
   "source": [
    "import sys\n",
    "import os\n",
    "\n",
    "sys.path.insert(0, os.path.abspath(os.path.join(os.getcwd(), '..')))\n",
    "\n",
    "from MED3pa.med3pa.comparaison import Med3paComparison\n",
    "\n",
    "comparaison = Med3paComparison('./med3pa_experiment_results', './med3pa_experiment_results_2')\n",
    "comparaison.compare_experiments()\n",
    "comparaison.save('./med3pa_comparaison_results')"
   ]
  },
  {
   "cell_type": "markdown",
   "metadata": {},
   "source": [
    "## Running the MED3pa and Detectron Experiment\n",
    "You can also run an experiment that combines the forces of Detectron in covariate shift detection with MED3pa problematic profiles extraction using the `Med3paDetectronExperiment` class. To be able to run this experiment, all datasets of the `DatasetsManager` should be set, alongside the ``BaseModelManager``. This experiment will run MED3pa experiment on the `testing` and `reference` sets and then run the `detectron` experiment on the `testing` set as a whole, and then on the **extracted profiles** from MED3pa:\n"
   ]
  },
  {
   "cell_type": "code",
   "execution_count": null,
   "metadata": {},
   "outputs": [],
   "source": [
    "import sys\n",
    "import os\n",
    "\n",
    "sys.path.insert(0, os.path.abspath(os.path.join(os.getcwd(), '..')))\n",
    "\n",
    "from MED3pa.datasets import DatasetsManager\n",
    "\n",
    "# Initialize the DatasetsManager\n",
    "datasets = DatasetsManager()\n",
    "\n",
    "# Load datasets for reference, and testing\n",
    "datasets.set_from_file(dataset_type=\"training\", file='./data/train_data.csv', target_column_name='Outcome')\n",
    "datasets.set_from_file(dataset_type=\"validation\", file='./data/val_data.csv', target_column_name='Outcome')\n",
    "datasets.set_from_file(dataset_type=\"reference\", file='./data/test_data.csv', target_column_name='Outcome')\n",
    "datasets.set_from_file(dataset_type=\"testing\", file='./data/test_data_shifted_0.1.csv', target_column_name='Outcome')\n",
    "\n",
    "\n",
    "# Initialize the DatasetsManager\n",
    "datasets2 = DatasetsManager()\n",
    "\n",
    "# Load datasets for reference, and testing\n",
    "datasets2.set_from_file(dataset_type=\"training\", file='./data/train_data.csv', target_column_name='Outcome')\n",
    "datasets2.set_from_file(dataset_type=\"validation\", file='./data/val_data.csv', target_column_name='Outcome')\n",
    "datasets2.set_from_file(dataset_type=\"reference\", file='./data/test_data.csv', target_column_name='Outcome')\n",
    "datasets2.set_from_file(dataset_type=\"testing\", file='./data/test_data_shifted_1.6.csv', target_column_name='Outcome')\n"
   ]
  },
  {
   "cell_type": "code",
   "execution_count": 2,
   "metadata": {},
   "outputs": [],
   "source": [
    "from MED3pa.models import BaseModelManager, ModelFactory\n",
    "\n",
    "BaseModelManager.reset()\n",
    "# Initialize the model factory and load the pre-trained model\n",
    "factory = ModelFactory()\n",
    "model = factory.create_model_from_pickled(\"./models/diabetes_xgb_model.pkl\")\n",
    "\n",
    "# Set the base model using BaseModelManager\n",
    "base_model_manager = BaseModelManager()\n",
    "base_model_manager.set_base_model(model=model)\n"
   ]
  },
  {
   "cell_type": "code",
   "execution_count": 4,
   "metadata": {},
   "outputs": [
    {
     "name": "stdout",
     "output_type": "stream",
     "text": [
      "Running MED3pa Experiment on the reference set:\n",
      "IPC Model training complete.\n",
      "Individualized confidence scores calculated.\n"
     ]
    },
    {
     "ename": "FileNotFoundError",
     "evalue": "[Errno 2] No such file or directory: './med3pa_experiment_results_models/apc_model.pkl'",
     "output_type": "error",
     "traceback": [
      "\u001b[1;31m---------------------------------------------------------------------------\u001b[0m",
      "\u001b[1;31mFileNotFoundError\u001b[0m                         Traceback (most recent call last)",
      "Cell \u001b[1;32mIn[4], line 10\u001b[0m\n\u001b[0;32m      7\u001b[0m \u001b[38;5;28;01mfrom\u001b[39;00m \u001b[38;5;21;01mMED3pa\u001b[39;00m\u001b[38;5;21;01m.\u001b[39;00m\u001b[38;5;21;01mdetectron\u001b[39;00m\u001b[38;5;21;01m.\u001b[39;00m\u001b[38;5;21;01mstrategies\u001b[39;00m \u001b[38;5;28;01mimport\u001b[39;00m EnhancedDisagreementStrategy\n\u001b[0;32m      9\u001b[0m \u001b[38;5;66;03m# Execute the integrated MED3PA and Detectron experiment\u001b[39;00m\n\u001b[1;32m---> 10\u001b[0m med3pa_detectron_results \u001b[38;5;241m=\u001b[39m Med3paDetectronExperiment\u001b[38;5;241m.\u001b[39mrun(\n\u001b[0;32m     11\u001b[0m     datasets\u001b[38;5;241m=\u001b[39mdatasets,\n\u001b[0;32m     12\u001b[0m     base_model_manager\u001b[38;5;241m=\u001b[39mbase_model_manager,\n\u001b[0;32m     13\u001b[0m     uncertainty_metric\u001b[38;5;241m=\u001b[39m\u001b[38;5;124m\"\u001b[39m\u001b[38;5;124mabsolute_error\u001b[39m\u001b[38;5;124m\"\u001b[39m,\n\u001b[0;32m     14\u001b[0m     samples_size\u001b[38;5;241m=\u001b[39m\u001b[38;5;241m20\u001b[39m,\n\u001b[0;32m     15\u001b[0m     ensemble_size\u001b[38;5;241m=\u001b[39m\u001b[38;5;241m10\u001b[39m,\n\u001b[0;32m     16\u001b[0m     num_calibration_runs\u001b[38;5;241m=\u001b[39m\u001b[38;5;241m100\u001b[39m,\n\u001b[0;32m     17\u001b[0m     patience\u001b[38;5;241m=\u001b[39m\u001b[38;5;241m3\u001b[39m,\n\u001b[0;32m     18\u001b[0m     test_strategies\u001b[38;5;241m=\u001b[39m\u001b[38;5;124m\"\u001b[39m\u001b[38;5;124menhanced_disagreement_strategy\u001b[39m\u001b[38;5;124m\"\u001b[39m,\n\u001b[0;32m     19\u001b[0m     pretrained_apc\u001b[38;5;241m=\u001b[39m\u001b[38;5;124m'\u001b[39m\u001b[38;5;124m./med3pa_experiment_results_models/apc_model.pkl\u001b[39m\u001b[38;5;124m'\u001b[39m,\n\u001b[0;32m     20\u001b[0m     allow_margin\u001b[38;5;241m=\u001b[39m\u001b[38;5;28;01mFalse\u001b[39;00m,\n\u001b[0;32m     21\u001b[0m     margin\u001b[38;5;241m=\u001b[39m\u001b[38;5;241m0.05\u001b[39m,\n\u001b[0;32m     22\u001b[0m     samples_ratio_min\u001b[38;5;241m=\u001b[39m\u001b[38;5;241m0\u001b[39m,\n\u001b[0;32m     23\u001b[0m     samples_ratio_max\u001b[38;5;241m=\u001b[39m\u001b[38;5;241m10\u001b[39m,\n\u001b[0;32m     24\u001b[0m     samples_ratio_step\u001b[38;5;241m=\u001b[39m\u001b[38;5;241m5\u001b[39m,\n\u001b[0;32m     25\u001b[0m     evaluate_models\u001b[38;5;241m=\u001b[39m\u001b[38;5;28;01mTrue\u001b[39;00m,\n\u001b[0;32m     26\u001b[0m )\n\u001b[0;32m     28\u001b[0m med3pa_detectron_results2 \u001b[38;5;241m=\u001b[39m Med3paDetectronExperiment\u001b[38;5;241m.\u001b[39mrun(\n\u001b[0;32m     29\u001b[0m     datasets\u001b[38;5;241m=\u001b[39mdatasets2,\n\u001b[0;32m     30\u001b[0m     base_model_manager\u001b[38;5;241m=\u001b[39mbase_model_manager,\n\u001b[1;32m   (...)\u001b[0m\n\u001b[0;32m     44\u001b[0m     evaluate_models\u001b[38;5;241m=\u001b[39m\u001b[38;5;28;01mTrue\u001b[39;00m,\n\u001b[0;32m     45\u001b[0m )\n",
      "File \u001b[1;32md:\\MED3pa-package\\MED3pa\\MED3pa\\med3pa\\experiment.py:623\u001b[0m, in \u001b[0;36mMed3paDetectronExperiment.run\u001b[1;34m(datasets, base_model_manager, uncertainty_metric, training_params, samples_size, samples_size_profiles, ensemble_size, num_calibration_runs, patience, test_strategies, allow_margin, margin, ipc_type, ipc_params, ipc_grid_params, ipc_cv, pretrained_ipc, apc_params, apc_grid_params, apc_cv, pretrained_apc, samples_ratio_min, samples_ratio_max, samples_ratio_step, med3pa_metrics, evaluate_models, use_ref_models, models_metrics, mode, all_dr)\u001b[0m\n\u001b[0;32m    620\u001b[0m \u001b[38;5;28;01mif\u001b[39;00m mode \u001b[38;5;129;01mnot\u001b[39;00m \u001b[38;5;129;01min\u001b[39;00m valid_modes:\n\u001b[0;32m    621\u001b[0m     \u001b[38;5;28;01mraise\u001b[39;00m \u001b[38;5;167;01mValueError\u001b[39;00m(\u001b[38;5;124mf\u001b[39m\u001b[38;5;124m\"\u001b[39m\u001b[38;5;124mInvalid mode \u001b[39m\u001b[38;5;124m'\u001b[39m\u001b[38;5;132;01m{\u001b[39;00mmode\u001b[38;5;132;01m}\u001b[39;00m\u001b[38;5;124m'\u001b[39m\u001b[38;5;124m. The mode must be one of \u001b[39m\u001b[38;5;132;01m{\u001b[39;00mvalid_modes\u001b[38;5;132;01m}\u001b[39;00m\u001b[38;5;124m.\u001b[39m\u001b[38;5;124m\"\u001b[39m)\n\u001b[1;32m--> 623\u001b[0m med3pa_results \u001b[38;5;241m=\u001b[39m Med3paExperiment\u001b[38;5;241m.\u001b[39mrun(datasets_manager\u001b[38;5;241m=\u001b[39mdatasets, \n\u001b[0;32m    624\u001b[0m                                                         base_model_manager\u001b[38;5;241m=\u001b[39mbase_model_manager, uncertainty_metric\u001b[38;5;241m=\u001b[39muncertainty_metric,\n\u001b[0;32m    625\u001b[0m                                                         ipc_params\u001b[38;5;241m=\u001b[39mipc_params, ipc_grid_params\u001b[38;5;241m=\u001b[39mipc_grid_params, ipc_cv\u001b[38;5;241m=\u001b[39mipc_cv, ipc_type\u001b[38;5;241m=\u001b[39mipc_type, pretrained_ipc\u001b[38;5;241m=\u001b[39mpretrained_ipc,\n\u001b[0;32m    626\u001b[0m                                                         apc_params\u001b[38;5;241m=\u001b[39mapc_params, apc_grid_params\u001b[38;5;241m=\u001b[39mapc_grid_params, apc_cv\u001b[38;5;241m=\u001b[39mapc_cv, pretrained_apc\u001b[38;5;241m=\u001b[39mpretrained_apc,\n\u001b[0;32m    627\u001b[0m                                                         evaluate_models\u001b[38;5;241m=\u001b[39mevaluate_models, models_metrics\u001b[38;5;241m=\u001b[39mmodels_metrics,\n\u001b[0;32m    628\u001b[0m                                                         samples_ratio_min\u001b[38;5;241m=\u001b[39msamples_ratio_min, samples_ratio_max\u001b[38;5;241m=\u001b[39msamples_ratio_max, samples_ratio_step\u001b[38;5;241m=\u001b[39msamples_ratio_step,\n\u001b[0;32m    629\u001b[0m                                                         med3pa_metrics\u001b[38;5;241m=\u001b[39mmed3pa_metrics, mode\u001b[38;5;241m=\u001b[39mmode, use_ref_models\u001b[38;5;241m=\u001b[39muse_ref_models)\n\u001b[0;32m    631\u001b[0m \u001b[38;5;28mprint\u001b[39m(\u001b[38;5;124m\"\u001b[39m\u001b[38;5;124mRunning Global Detectron Experiment:\u001b[39m\u001b[38;5;124m\"\u001b[39m)\n\u001b[0;32m    632\u001b[0m detectron_results \u001b[38;5;241m=\u001b[39m DetectronExperiment\u001b[38;5;241m.\u001b[39mrun(datasets\u001b[38;5;241m=\u001b[39mdatasets, training_params\u001b[38;5;241m=\u001b[39mtraining_params, base_model_manager\u001b[38;5;241m=\u001b[39mbase_model_manager,\n\u001b[0;32m    633\u001b[0m                                             samples_size\u001b[38;5;241m=\u001b[39msamples_size, num_calibration_runs\u001b[38;5;241m=\u001b[39mnum_calibration_runs, ensemble_size\u001b[38;5;241m=\u001b[39mensemble_size,\n\u001b[0;32m    634\u001b[0m                                             patience\u001b[38;5;241m=\u001b[39mpatience, allow_margin\u001b[38;5;241m=\u001b[39mallow_margin, margin\u001b[38;5;241m=\u001b[39mmargin)\n",
      "File \u001b[1;32md:\\MED3pa-package\\MED3pa\\MED3pa\\med3pa\\experiment.py:310\u001b[0m, in \u001b[0;36mMed3paExperiment.run\u001b[1;34m(datasets_manager, base_model_manager, uncertainty_metric, ipc_type, ipc_params, ipc_grid_params, ipc_cv, pretrained_ipc, apc_params, apc_grid_params, apc_cv, pretrained_apc, samples_ratio_min, samples_ratio_max, samples_ratio_step, med3pa_metrics, evaluate_models, use_ref_models, mode, models_metrics)\u001b[0m\n\u001b[0;32m    285\u001b[0m \u001b[38;5;250m\u001b[39m\u001b[38;5;124;03m\"\"\"Runs the MED3PA experiment on both reference and testing sets.\u001b[39;00m\n\u001b[0;32m    286\u001b[0m \u001b[38;5;124;03mArgs:\u001b[39;00m\n\u001b[0;32m    287\u001b[0m \u001b[38;5;124;03m    datasets_manager (DatasetsManager): the datasets manager containing the dataset to use in the experiment.\u001b[39;00m\n\u001b[1;32m   (...)\u001b[0m\n\u001b[0;32m    307\u001b[0m \u001b[38;5;124;03m    Med3paResults: the results of the MED3PA experiment on the reference set and testing set.\u001b[39;00m\n\u001b[0;32m    308\u001b[0m \u001b[38;5;124;03m\"\"\"\u001b[39;00m\n\u001b[0;32m    309\u001b[0m \u001b[38;5;28mprint\u001b[39m(\u001b[38;5;124m\"\u001b[39m\u001b[38;5;124mRunning MED3pa Experiment on the reference set:\u001b[39m\u001b[38;5;124m\"\u001b[39m)\n\u001b[1;32m--> 310\u001b[0m results_reference, ipc_config, apc_config \u001b[38;5;241m=\u001b[39m Med3paExperiment\u001b[38;5;241m.\u001b[39m_run_by_set(datasets_manager\u001b[38;5;241m=\u001b[39mdatasets_manager,\u001b[38;5;28mset\u001b[39m\u001b[38;5;241m=\u001b[39m \u001b[38;5;124m'\u001b[39m\u001b[38;5;124mreference\u001b[39m\u001b[38;5;124m'\u001b[39m,base_model_manager\u001b[38;5;241m=\u001b[39m base_model_manager, \n\u001b[0;32m    311\u001b[0m                                                  uncertainty_metric\u001b[38;5;241m=\u001b[39muncertainty_metric,\n\u001b[0;32m    312\u001b[0m                                                  ipc_type\u001b[38;5;241m=\u001b[39mipc_type, ipc_params\u001b[38;5;241m=\u001b[39mipc_params, ipc_grid_params\u001b[38;5;241m=\u001b[39mipc_grid_params, ipc_cv\u001b[38;5;241m=\u001b[39mipc_cv, pretrained_ipc\u001b[38;5;241m=\u001b[39mpretrained_ipc,\n\u001b[0;32m    313\u001b[0m                                                  apc_params\u001b[38;5;241m=\u001b[39mapc_params,apc_grid_params\u001b[38;5;241m=\u001b[39mapc_grid_params, apc_cv\u001b[38;5;241m=\u001b[39mapc_cv, pretrained_apc\u001b[38;5;241m=\u001b[39mpretrained_apc,\n\u001b[0;32m    314\u001b[0m                                                  samples_ratio_min\u001b[38;5;241m=\u001b[39msamples_ratio_min, samples_ratio_max\u001b[38;5;241m=\u001b[39msamples_ratio_max, samples_ratio_step\u001b[38;5;241m=\u001b[39msamples_ratio_step, \n\u001b[0;32m    315\u001b[0m                                                  med3pa_metrics\u001b[38;5;241m=\u001b[39mmed3pa_metrics, evaluate_models\u001b[38;5;241m=\u001b[39mevaluate_models, models_metrics\u001b[38;5;241m=\u001b[39mmodels_metrics, mode\u001b[38;5;241m=\u001b[39mmode)\n\u001b[0;32m    316\u001b[0m \u001b[38;5;28mprint\u001b[39m(\u001b[38;5;124m\"\u001b[39m\u001b[38;5;124mRunning MED3pa Experiment on the test set:\u001b[39m\u001b[38;5;124m\"\u001b[39m)\n\u001b[0;32m    317\u001b[0m \u001b[38;5;28;01mif\u001b[39;00m use_ref_models:\n",
      "File \u001b[1;32md:\\MED3pa-package\\MED3pa\\MED3pa\\med3pa\\experiment.py:488\u001b[0m, in \u001b[0;36mMed3paExperiment._run_by_set\u001b[1;34m(datasets_manager, set, base_model_manager, uncertainty_metric, ipc_type, ipc_params, ipc_grid_params, ipc_cv, pretrained_ipc, ipc_instance, apc_params, apc_grid_params, apc_cv, apc_instance, pretrained_apc, samples_ratio_min, samples_ratio_max, samples_ratio_step, med3pa_metrics, evaluate_models, mode, models_metrics)\u001b[0m\n\u001b[0;32m    486\u001b[0m         \u001b[38;5;28mprint\u001b[39m(\u001b[38;5;124m\"\u001b[39m\u001b[38;5;124mAPC Model optimization complete.\u001b[39m\u001b[38;5;124m\"\u001b[39m)\n\u001b[0;32m    487\u001b[0m \u001b[38;5;28;01melif\u001b[39;00m pretrained_apc \u001b[38;5;129;01mis\u001b[39;00m \u001b[38;5;129;01mnot\u001b[39;00m \u001b[38;5;28;01mNone\u001b[39;00m:\n\u001b[1;32m--> 488\u001b[0m     APC_model \u001b[38;5;241m=\u001b[39m APCModel(features\u001b[38;5;241m=\u001b[39mfeatures, params\u001b[38;5;241m=\u001b[39mapc_params, pretrained_model\u001b[38;5;241m=\u001b[39mpretrained_apc)\n\u001b[0;32m    489\u001b[0m     APC_model\u001b[38;5;241m.\u001b[39mtrain(x, IPC_values)\n\u001b[0;32m    490\u001b[0m     \u001b[38;5;28mprint\u001b[39m(\u001b[38;5;124m\"\u001b[39m\u001b[38;5;124mLoaded a pretrained APC model.\u001b[39m\u001b[38;5;124m\"\u001b[39m)\n",
      "File \u001b[1;32md:\\MED3pa-package\\MED3pa\\MED3pa\\med3pa\\models.py:237\u001b[0m, in \u001b[0;36mAPCModel.__init__\u001b[1;34m(self, features, params, tree_file_path, pretrained_model)\u001b[0m\n\u001b[0;32m    234\u001b[0m    \u001b[38;5;28mself\u001b[39m\u001b[38;5;241m.\u001b[39mload_tree(tree_file_path)\n\u001b[0;32m    236\u001b[0m \u001b[38;5;28;01mif\u001b[39;00m pretrained_model:\n\u001b[1;32m--> 237\u001b[0m     \u001b[38;5;28mself\u001b[39m\u001b[38;5;241m.\u001b[39mload_model(pretrained_model)\n",
      "File \u001b[1;32md:\\MED3pa-package\\MED3pa\\MED3pa\\med3pa\\models.py:382\u001b[0m, in \u001b[0;36mAPCModel.load_model\u001b[1;34m(self, file_path)\u001b[0m\n\u001b[0;32m    375\u001b[0m \u001b[38;5;28;01mdef\u001b[39;00m \u001b[38;5;21mload_model\u001b[39m(\u001b[38;5;28mself\u001b[39m, file_path: \u001b[38;5;28mstr\u001b[39m) \u001b[38;5;241m-\u001b[39m\u001b[38;5;241m>\u001b[39m \u001b[38;5;28;01mNone\u001b[39;00m:\n\u001b[0;32m    376\u001b[0m \u001b[38;5;250m    \u001b[39m\u001b[38;5;124;03m\"\"\"\u001b[39;00m\n\u001b[0;32m    377\u001b[0m \u001b[38;5;124;03m    Loads a pre-trained model from a pickle file.\u001b[39;00m\n\u001b[0;32m    378\u001b[0m \n\u001b[0;32m    379\u001b[0m \u001b[38;5;124;03m    Args:\u001b[39;00m\n\u001b[0;32m    380\u001b[0m \u001b[38;5;124;03m        file_path (str): The path to the pickle file.\u001b[39;00m\n\u001b[0;32m    381\u001b[0m \u001b[38;5;124;03m    \"\"\"\u001b[39;00m\n\u001b[1;32m--> 382\u001b[0m     \u001b[38;5;28;01mwith\u001b[39;00m \u001b[38;5;28mopen\u001b[39m(file_path, \u001b[38;5;124m'\u001b[39m\u001b[38;5;124mrb\u001b[39m\u001b[38;5;124m'\u001b[39m) \u001b[38;5;28;01mas\u001b[39;00m file:\n\u001b[0;32m    383\u001b[0m         loaded_model \u001b[38;5;241m=\u001b[39m pickle\u001b[38;5;241m.\u001b[39mload(file)\n\u001b[0;32m    385\u001b[0m     \u001b[38;5;28;01mif\u001b[39;00m \u001b[38;5;129;01mnot\u001b[39;00m \u001b[38;5;28misinstance\u001b[39m(loaded_model, DecisionTreeRegressor):\n",
      "\u001b[1;31mFileNotFoundError\u001b[0m: [Errno 2] No such file or directory: './med3pa_experiment_results_models/apc_model.pkl'"
     ]
    }
   ],
   "source": [
    "import sys\n",
    "import os\n",
    "\n",
    "sys.path.insert(0, os.path.abspath(os.path.join(os.getcwd(), '..')))\n",
    "\n",
    "from MED3pa.med3pa import Med3paDetectronExperiment\n",
    "from MED3pa.detectron.strategies import EnhancedDisagreementStrategy\n",
    "\n",
    "# Execute the integrated MED3PA and Detectron experiment\n",
    "med3pa_detectron_results = Med3paDetectronExperiment.run(\n",
    "    datasets=datasets,\n",
    "    base_model_manager=base_model_manager,\n",
    "    uncertainty_metric=\"absolute_error\",\n",
    "    samples_size=20,\n",
    "    ensemble_size=10,\n",
    "    num_calibration_runs=100,\n",
    "    patience=3,\n",
    "    test_strategies=\"enhanced_disagreement_strategy\",\n",
    "    pretrained_apc='./med3pa_experiment_results_models/apc_model.pkl',\n",
    "    allow_margin=False,\n",
    "    margin=0.05,\n",
    "    samples_ratio_min=0,\n",
    "    samples_ratio_max=10,\n",
    "    samples_ratio_step=5,\n",
    "    evaluate_models=True,\n",
    ")\n",
    "\n",
    "med3pa_detectron_results2 = Med3paDetectronExperiment.run(\n",
    "    datasets=datasets2,\n",
    "    base_model_manager=base_model_manager,\n",
    "    uncertainty_metric=\"absolute_error\",\n",
    "    samples_size=20,\n",
    "    samples_size_profiles=20,\n",
    "    ensemble_size=10,\n",
    "    num_calibration_runs=100,\n",
    "    patience=3,\n",
    "    test_strategies=\"enhanced_disagreement_strategy\",\n",
    "    pretrained_apc='./med3pa_experiment_results_models/apc_model.pkl',\n",
    "    allow_margin=False,\n",
    "    margin=0.05,\n",
    "    samples_ratio_min=0,\n",
    "    samples_ratio_max=10,\n",
    "    samples_ratio_step=5,\n",
    "    evaluate_models=True,\n",
    ")"
   ]
  },
  {
   "cell_type": "code",
   "execution_count": null,
   "metadata": {},
   "outputs": [],
   "source": [
    "# Save the results to a specified directory\n",
    "med3pa_detectron_results.save(file_path='./med3pa_detectron_experiment_results/')\n",
    "med3pa_detectron_results2.save(file_path='./med3pa_detectron_experiment_results2/')\n",
    "\n"
   ]
  },
  {
   "cell_type": "code",
   "execution_count": null,
   "metadata": {},
   "outputs": [],
   "source": [
    "import sys\n",
    "import os\n",
    "\n",
    "sys.path.insert(0, os.path.abspath(os.path.join(os.getcwd(), '..')))\n",
    "\n",
    "from MED3pa.med3pa.comparaison import Med3paComparison\n",
    "\n",
    "comparaison = Med3paComparison('./med3pa_detectron_experiment_results', './med3pa_detectron_experiment_results2')\n",
    "comparaison.compare_experiments()\n",
    "comparaison.save('./med3pa_detectron_comparaison_results')"
   ]
  }
 ],
 "metadata": {
  "kernelspec": {
   "display_name": "det3pa",
   "language": "python",
   "name": "python3"
  },
  "language_info": {
   "codemirror_mode": {
    "name": "ipython",
    "version": 3
   },
   "file_extension": ".py",
   "mimetype": "text/x-python",
   "name": "python",
   "nbconvert_exporter": "python",
   "pygments_lexer": "ipython3",
   "version": "3.11.9"
  }
 },
 "nbformat": 4,
 "nbformat_minor": 2
}
