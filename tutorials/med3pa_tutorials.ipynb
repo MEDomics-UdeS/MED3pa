{
 "cells": [
  {
   "cell_type": "markdown",
   "metadata": {},
   "source": [
    "Working with the med3pa Subpackage\n",
    "-----------------------------------------\n",
    "\n",
    "This tutorial guides you through the process of setting up and running comprehensive experiments using the `med3pa` subpackage. It includes steps to execute MED3pa experiment with `Med3paExperiment` and the combination of MED3pa and Detectron using `Med3paDetectronExperiment`.\n"
   ]
  },
  {
   "cell_type": "markdown",
   "metadata": {},
   "source": [
    "## Running the MED3pa Experiment\n"
   ]
  },
  {
   "cell_type": "markdown",
   "metadata": {},
   "source": [
    "### Step 1: Setting up the Datasets\n",
    "First, configure the `DatasetsManager`. In the case of MED3pa only experiment you only need to set the DatasetManager with either `testing` and `reference` dataset:\n"
   ]
  },
  {
   "cell_type": "code",
   "execution_count": 1,
   "metadata": {},
   "outputs": [],
   "source": [
    "import sys\n",
    "import os\n",
    "\n",
    "sys.path.insert(0, os.path.abspath(os.path.join(os.getcwd(), '..')))\n",
    "\n",
    "from MED3pa.datasets import DatasetsManager\n",
    "\n",
    "# Initialize the DatasetsManager\n",
    "datasets = DatasetsManager()\n",
    "\n",
    "# Load datasets for reference, and testing\n",
    "datasets.set_from_file(dataset_type=\"training\", file='./data/train_data.csv', target_column_name='Outcome')\n",
    "datasets.set_from_file(dataset_type=\"validation\", file='./data/val_data.csv', target_column_name='Outcome')\n",
    "datasets.set_from_file(dataset_type=\"reference\", file='./data/test_data.csv', target_column_name='Outcome')\n",
    "datasets.set_from_file(dataset_type=\"testing\", file='./data/test_data_shifted_0.1.csv', target_column_name='Outcome')\n",
    "\n",
    "\n",
    "# Initialize the DatasetsManager\n",
    "datasets2 = DatasetsManager()\n",
    "\n",
    "# Load datasets for reference, and testing\n",
    "datasets2.set_from_file(dataset_type=\"training\", file='./data/train_data.csv', target_column_name='Outcome')\n",
    "datasets2.set_from_file(dataset_type=\"validation\", file='./data/val_data.csv', target_column_name='Outcome')\n",
    "datasets2.set_from_file(dataset_type=\"reference\", file='./data/test_data.csv', target_column_name='Outcome')\n",
    "datasets2.set_from_file(dataset_type=\"testing\", file='./data/test_data_shifted_1.6.csv', target_column_name='Outcome')\n"
   ]
  },
  {
   "cell_type": "markdown",
   "metadata": {},
   "source": [
    "## Step 2: Configuring the Model\n",
    "Next, utilize the `ModelFactory` to load a pre-trained model, and set it as the base model for the experiment. Alternatively, you can train your own model and use it:\n"
   ]
  },
  {
   "cell_type": "code",
   "execution_count": 2,
   "metadata": {},
   "outputs": [],
   "source": [
    "from MED3pa.models import BaseModelManager, ModelFactory\n",
    "\n",
    "# Initialize the model factory and load the pre-trained model\n",
    "factory = ModelFactory()\n",
    "model = factory.create_model_from_pickled(\"./models/diabetes_xgb_model.pkl\")\n",
    "\n",
    "# Set the base model using BaseModelManager\n",
    "base_model_manager = BaseModelManager()\n",
    "base_model_manager.set_base_model(model=model)\n"
   ]
  },
  {
   "cell_type": "markdown",
   "metadata": {},
   "source": [
    "## Step 3: Running the MED3pa Experiment\n",
    "Execute the MED3PA experiment with the specified datasets and base model. You can also specify other parameters as needed. See the documentation of the subpackage for more information about the parameters.\n",
    "\n",
    "The experiment outputs two structure one for the reference set and the other for the testing set, both containing files indicating the extracted profiles at different declaration rates, the performance of the model on these profiles..etc.\n"
   ]
  },
  {
   "cell_type": "code",
   "execution_count": 3,
   "metadata": {},
   "outputs": [
    {
     "name": "stdout",
     "output_type": "stream",
     "text": [
      "Running MED3pa Experiment on the reference set:\n",
      "IPC Model training complete.\n",
      "IPC Model optimization complete.\n",
      "Individualized confidence scores calculated.\n",
      "APC Model training complete.\n",
      "APC Model optimization complete.\n",
      "Aggregated confidence scores calculated.\n",
      "Mixed confidence scores calculated.\n",
      "Results extracted for minimum_samples_ratio =  0\n",
      "Results extracted for minimum_samples_ratio =  5\n",
      "Results extracted for minimum_samples_ratio =  10\n",
      "Running MED3pa Experiment on the test set:\n",
      "IPC Model training complete.\n",
      "IPC Model optimization complete.\n",
      "Individualized confidence scores calculated.\n",
      "APC Model training complete.\n",
      "APC Model optimization complete.\n",
      "Aggregated confidence scores calculated.\n",
      "Mixed confidence scores calculated.\n",
      "Results extracted for minimum_samples_ratio =  0\n",
      "Results extracted for minimum_samples_ratio =  5\n",
      "Results extracted for minimum_samples_ratio =  10\n",
      "Running MED3pa Experiment on the reference set:\n",
      "IPC Model training complete.\n",
      "IPC Model optimization complete.\n",
      "Individualized confidence scores calculated.\n",
      "APC Model training complete.\n",
      "APC Model optimization complete.\n",
      "Aggregated confidence scores calculated.\n",
      "Mixed confidence scores calculated.\n",
      "Results extracted for minimum_samples_ratio =  0\n",
      "Results extracted for minimum_samples_ratio =  5\n",
      "Results extracted for minimum_samples_ratio =  10\n",
      "Running MED3pa Experiment on the test set:\n",
      "IPC Model training complete.\n",
      "IPC Model optimization complete.\n",
      "Individualized confidence scores calculated.\n",
      "APC Model training complete.\n",
      "APC Model optimization complete.\n",
      "Aggregated confidence scores calculated.\n",
      "Mixed confidence scores calculated.\n",
      "Results extracted for minimum_samples_ratio =  0\n",
      "Results extracted for minimum_samples_ratio =  5\n",
      "Results extracted for minimum_samples_ratio =  10\n"
     ]
    }
   ],
   "source": [
    "from MED3pa.med3pa import Med3paExperiment\n",
    "from MED3pa.med3pa.uncertainty import AbsoluteError\n",
    "\n",
    "# Define parameters for the experiment\n",
    "ipc_params = {'n_estimators': 100}\n",
    "ipc_grid = {\n",
    "    'n_estimators': [50, 100, 200],\n",
    "    'max_depth': [2, 3, 4, 5],\n",
    "    'min_samples_leaf':[1, 2, 4]\n",
    "\n",
    "}\n",
    "apc_grid = {\n",
    "    'max_depth': [2, 3, 4, 5],\n",
    "    'min_samples_leaf':[1, 2, 4]\n",
    "}\n",
    "apc_params = {'max_depth': 3}\n",
    "med3pa_metrics = ['Auc', 'Accuracy', 'BalancedAccuracy']\n",
    "\n",
    "apc_grid2 = {\n",
    "    'max_depth': [2, 3, 4, 5],\n",
    "    'min_samples_leaf':[1, 2, 4]\n",
    "}\n",
    "apc_params2 = {'max_depth': 3}\n",
    "\n",
    "# Execute the MED3PA experiment\n",
    "results = Med3paExperiment.run(\n",
    "                                datasets_manager=datasets,\n",
    "                                base_model_manager=base_model_manager,\n",
    "                                uncertainty_metric=\"absolute_error\",\n",
    "                                ipc_type='RandomForestRegressor',\n",
    "                                ipc_params=ipc_params,\n",
    "                                apc_params=apc_params,\n",
    "                                ipc_grid_params=ipc_grid,\n",
    "                                apc_grid_params=apc_grid,\n",
    "                                samples_ratio_min=0,\n",
    "                                samples_ratio_max=10,\n",
    "                                samples_ratio_step=5,\n",
    "                                med3pa_metrics=med3pa_metrics,\n",
    "                                evaluate_models=True,\n",
    "                                )\n",
    "\n",
    "BaseModelManager.reset()\n",
    "# Initialize the model factory and load the pre-trained model\n",
    "factory = ModelFactory()\n",
    "model = factory.create_model_from_pickled(\"./models/diabetes_xgb_model.pkl\")\n",
    "\n",
    "# Set the base model using BaseModelManager\n",
    "base_model_manager = BaseModelManager()\n",
    "base_model_manager.set_base_model(model=model)\n",
    "\n",
    "results2 = Med3paExperiment.run(\n",
    "                                datasets_manager=datasets2,\n",
    "                                base_model_manager=base_model_manager,\n",
    "                                uncertainty_metric=\"absolute_error\",\n",
    "                                ipc_type='RandomForestRegressor',\n",
    "                                ipc_params=ipc_params,\n",
    "                                apc_params=apc_params2,\n",
    "                                ipc_grid_params=ipc_grid,\n",
    "                                apc_grid_params=apc_grid2,\n",
    "                                samples_ratio_min=0,\n",
    "                                samples_ratio_max=10,\n",
    "                                samples_ratio_step=5,\n",
    "                                med3pa_metrics=med3pa_metrics,\n",
    "                                evaluate_models=True,\n",
    "                                )"
   ]
  },
  {
   "cell_type": "markdown",
   "metadata": {},
   "source": [
    "## Step 4: Analyzing and Saving the Results\n",
    "After running the experiment, you can analyze and save the results using the returned `Med3paResults` instance:\n"
   ]
  },
  {
   "cell_type": "code",
   "execution_count": 4,
   "metadata": {},
   "outputs": [],
   "source": [
    "# Save the results to a specified directory\n",
    "results.save(file_path='./med3pa_experiment_results')\n",
    "results2.save(file_path='./med3pa_experiment_results_2')"
   ]
  },
  {
   "cell_type": "markdown",
   "metadata": {},
   "source": [
    "Additonnally, you can save the instances the IPC and APC models as pickled files:\n"
   ]
  },
  {
   "cell_type": "code",
   "execution_count": 5,
   "metadata": {},
   "outputs": [],
   "source": [
    "results.save_models(file_path='./med3pa_experiment_results_models')"
   ]
  },
  {
   "cell_type": "markdown",
   "metadata": {},
   "source": [
    "## Step 5: Running experiments from pretrained models\n",
    "If you don't want to re-train new APC and IPC models in your experiment, you can directly use a previously saved instances. as follows:"
   ]
  },
  {
   "cell_type": "code",
   "execution_count": 6,
   "metadata": {},
   "outputs": [
    {
     "name": "stdout",
     "output_type": "stream",
     "text": [
      "Running MED3pa Experiment on the reference set:\n",
      "Loaded a pretrained IPC model.\n",
      "Individualized confidence scores calculated.\n",
      "Loaded a pretrained APC model.\n",
      "Aggregated confidence scores calculated.\n",
      "Mixed confidence scores calculated.\n",
      "Results extracted for minimum_samples_ratio =  0\n",
      "Results extracted for minimum_samples_ratio =  5\n",
      "Results extracted for minimum_samples_ratio =  10\n",
      "Running MED3pa Experiment on the test set:\n",
      "Loaded a pretrained IPC model.\n",
      "Individualized confidence scores calculated.\n",
      "Loaded a pretrained APC model.\n",
      "Aggregated confidence scores calculated.\n",
      "Mixed confidence scores calculated.\n",
      "Results extracted for minimum_samples_ratio =  0\n",
      "Results extracted for minimum_samples_ratio =  5\n",
      "Results extracted for minimum_samples_ratio =  10\n",
      "Running MED3pa Experiment on the reference set:\n",
      "Loaded a pretrained IPC model.\n",
      "Individualized confidence scores calculated.\n",
      "Loaded a pretrained APC model.\n",
      "Aggregated confidence scores calculated.\n",
      "Mixed confidence scores calculated.\n",
      "Results extracted for minimum_samples_ratio =  0\n",
      "Results extracted for minimum_samples_ratio =  5\n",
      "Results extracted for minimum_samples_ratio =  10\n",
      "Running MED3pa Experiment on the test set:\n",
      "Loaded a pretrained IPC model.\n",
      "Individualized confidence scores calculated.\n",
      "Loaded a pretrained APC model.\n",
      "Aggregated confidence scores calculated.\n",
      "Mixed confidence scores calculated.\n",
      "Results extracted for minimum_samples_ratio =  0\n",
      "Results extracted for minimum_samples_ratio =  5\n",
      "Results extracted for minimum_samples_ratio =  10\n"
     ]
    }
   ],
   "source": [
    "from MED3pa.med3pa import Med3paExperiment\n",
    "from MED3pa.med3pa.uncertainty import AbsoluteError\n",
    "\n",
    "# Define parameters for the experiment\n",
    "ipc_params = {'n_estimators': 100}\n",
    "apc_params = {'max_depth': 3}\n",
    "med3pa_metrics = ['Auc', 'Accuracy', 'BalancedAccuracy']\n",
    "\n",
    "# Execute the MED3PA experiment\n",
    "results = Med3paExperiment.run(\n",
    "                                datasets_manager=datasets,\n",
    "                                base_model_manager=base_model_manager,\n",
    "                                uncertainty_metric=\"absolute_error\",\n",
    "                                ipc_type='RandomForestRegressor',\n",
    "                                pretrained_ipc='./med3pa_experiment_results_models/ipc_model.pkl',\n",
    "                                pretrained_apc='./med3pa_experiment_results_models/apc_model.pkl',\n",
    "                                samples_ratio_min=0,\n",
    "                                samples_ratio_max=10,\n",
    "                                samples_ratio_step=5,\n",
    "                                med3pa_metrics=med3pa_metrics,\n",
    "                                evaluate_models=True,\n",
    "                                use_ref_models=True\n",
    "                                )\n",
    "\n",
    "results2 = Med3paExperiment.run(\n",
    "                                datasets_manager=datasets2,\n",
    "                                base_model_manager=base_model_manager,\n",
    "                                uncertainty_metric=\"absolute_error\",\n",
    "                                ipc_type='RandomForestRegressor',\n",
    "                                pretrained_ipc='./med3pa_experiment_results_models/ipc_model.pkl',\n",
    "                                pretrained_apc='./med3pa_experiment_results_models/apc_model.pkl',\n",
    "                                samples_ratio_min=0,\n",
    "                                samples_ratio_max=10,\n",
    "                                samples_ratio_step=5,\n",
    "                                med3pa_metrics=med3pa_metrics,\n",
    "                                evaluate_models=True,\n",
    "                                use_ref_models=True\n",
    "                                )"
   ]
  },
  {
   "cell_type": "code",
   "execution_count": 7,
   "metadata": {},
   "outputs": [],
   "source": [
    "# Save the results to a specified directory\n",
    "results.save(file_path='./med3pa_experiment_results_pretrained')\n",
    "results2.save(file_path='./med3pa_experiment_results_2_pretrained')"
   ]
  },
  {
   "cell_type": "markdown",
   "metadata": {},
   "source": [
    "## Step 6: Comparing two experiments\n",
    "You can compare between two experiments bu using the ``Med3paComparaison`` class, this class works as follows:\n",
    "- the two experiments need to be of the same type, either ``Med3paExperiment`` or ``Med3paDetectronExperiment``.\n",
    "- if the two experiments were executed using the same tree structure, or the same apc/ipc models, the profiles will also be compared.\n",
    "- if the experiments are of type ``Med3paDetectronExperiment``, the detectron results will be also compared."
   ]
  },
  {
   "cell_type": "code",
   "execution_count": 13,
   "metadata": {},
   "outputs": [],
   "source": [
    "from MED3pa.med3pa.comparaison import Med3paComparison\n",
    "\n",
    "comparaison = Med3paComparison('./med3pa_experiment_results_pretrained', './med3pa_experiment_results_2_pretrained')\n",
    "comparaison.compare_experiments()\n",
    "comparaison.save('./med3pa_comparaison_results')"
   ]
  },
  {
   "cell_type": "markdown",
   "metadata": {},
   "source": [
    "## Running the MED3pa and Detectron Experiment\n",
    "You can also run an experiment that combines the forces of Detectron in covariate shift detection with MED3pa problematic profiles extraction using the `Med3paDetectronExperiment` class. To be able to run this experiment, all datasets of the `DatasetsManager` should be set, alongside the ``BaseModelManager``. This experiment will run MED3pa experiment on the `testing` and `reference` sets and then run the `detectron` experiment on the `testing` set as a whole, and then on the **extracted profiles** from MED3pa:\n"
   ]
  },
  {
   "cell_type": "code",
   "execution_count": 9,
   "metadata": {},
   "outputs": [],
   "source": [
    "# We will add the training and validation set to the datasets\n",
    "datasets.set_from_file(dataset_type=\"training\", file='./data/train_data.csv', target_column_name='Outcome')\n",
    "datasets.set_from_file(dataset_type=\"validation\", file='./data/val_data.csv', target_column_name='Outcome')\n"
   ]
  },
  {
   "cell_type": "code",
   "execution_count": 10,
   "metadata": {},
   "outputs": [
    {
     "name": "stdout",
     "output_type": "stream",
     "text": [
      "Running MED3pa Experiment on the reference set:\n",
      "IPC Model training complete.\n",
      "Individualized confidence scores calculated.\n",
      "APC Model training complete.\n",
      "Aggregated confidence scores calculated.\n",
      "Mixed confidence scores calculated.\n",
      "Results extracted for minimum_samples_ratio =  0\n",
      "Results extracted for minimum_samples_ratio =  5\n",
      "Results extracted for minimum_samples_ratio =  10\n",
      "Running MED3pa Experiment on the test set:\n",
      "IPC Model training complete.\n",
      "Individualized confidence scores calculated.\n",
      "APC Model training complete.\n",
      "Aggregated confidence scores calculated.\n",
      "Mixed confidence scores calculated.\n",
      "Results extracted for minimum_samples_ratio =  0\n",
      "Results extracted for minimum_samples_ratio =  5\n",
      "Results extracted for minimum_samples_ratio =  10\n",
      "Running Global Detectron Experiment:\n"
     ]
    },
    {
     "name": "stderr",
     "output_type": "stream",
     "text": [
      "running seeds: 100%|██████████| 100/100 [00:13<00:00,  7.46it/s]\n"
     ]
    },
    {
     "name": "stdout",
     "output_type": "stream",
     "text": [
      "Detectron execution on reference set completed.\n"
     ]
    },
    {
     "name": "stderr",
     "output_type": "stream",
     "text": [
      "running seeds: 100%|██████████| 100/100 [00:13<00:00,  7.24it/s]\n"
     ]
    },
    {
     "name": "stdout",
     "output_type": "stream",
     "text": [
      "Detectron execution on testing set completed.\n",
      "Running Profiled Detectron Experiment:\n",
      "Running Detectron on Profile: *, \n"
     ]
    },
    {
     "name": "stderr",
     "output_type": "stream",
     "text": [
      "running seeds:  69%|██████▉   | 69/100 [00:11<00:05,  5.80it/s]\n"
     ]
    },
    {
     "ename": "KeyboardInterrupt",
     "evalue": "",
     "output_type": "error",
     "traceback": [
      "\u001b[1;31m---------------------------------------------------------------------------\u001b[0m",
      "\u001b[1;31mKeyboardInterrupt\u001b[0m                         Traceback (most recent call last)",
      "Cell \u001b[1;32mIn[10], line 5\u001b[0m\n\u001b[0;32m      2\u001b[0m \u001b[38;5;28;01mfrom\u001b[39;00m \u001b[38;5;21;01mMED3pa\u001b[39;00m\u001b[38;5;21;01m.\u001b[39;00m\u001b[38;5;21;01mdetectron\u001b[39;00m\u001b[38;5;21;01m.\u001b[39;00m\u001b[38;5;21;01mstrategies\u001b[39;00m \u001b[38;5;28;01mimport\u001b[39;00m EnhancedDisagreementStrategy\n\u001b[0;32m      4\u001b[0m \u001b[38;5;66;03m# Execute the integrated MED3PA and Detectron experiment\u001b[39;00m\n\u001b[1;32m----> 5\u001b[0m med3pa_detectron_results \u001b[38;5;241m=\u001b[39m Med3paDetectronExperiment\u001b[38;5;241m.\u001b[39mrun(\n\u001b[0;32m      6\u001b[0m     datasets\u001b[38;5;241m=\u001b[39mdatasets,\n\u001b[0;32m      7\u001b[0m     base_model_manager\u001b[38;5;241m=\u001b[39mbase_model_manager,\n\u001b[0;32m      8\u001b[0m     uncertainty_metric\u001b[38;5;241m=\u001b[39m\u001b[38;5;124m\"\u001b[39m\u001b[38;5;124mabsolute_error\u001b[39m\u001b[38;5;124m\"\u001b[39m,\n\u001b[0;32m      9\u001b[0m     samples_size\u001b[38;5;241m=\u001b[39m\u001b[38;5;241m20\u001b[39m,\n\u001b[0;32m     10\u001b[0m     ensemble_size\u001b[38;5;241m=\u001b[39m\u001b[38;5;241m10\u001b[39m,\n\u001b[0;32m     11\u001b[0m     num_calibration_runs\u001b[38;5;241m=\u001b[39m\u001b[38;5;241m100\u001b[39m,\n\u001b[0;32m     12\u001b[0m     patience\u001b[38;5;241m=\u001b[39m\u001b[38;5;241m3\u001b[39m,\n\u001b[0;32m     13\u001b[0m     test_strategies\u001b[38;5;241m=\u001b[39m\u001b[38;5;124m\"\u001b[39m\u001b[38;5;124menhanced_disagreement_strategy\u001b[39m\u001b[38;5;124m\"\u001b[39m,\n\u001b[0;32m     14\u001b[0m     allow_margin\u001b[38;5;241m=\u001b[39m\u001b[38;5;28;01mFalse\u001b[39;00m,\n\u001b[0;32m     15\u001b[0m     margin\u001b[38;5;241m=\u001b[39m\u001b[38;5;241m0.05\u001b[39m,\n\u001b[0;32m     16\u001b[0m     ipc_params\u001b[38;5;241m=\u001b[39mipc_params,\n\u001b[0;32m     17\u001b[0m     apc_params\u001b[38;5;241m=\u001b[39mapc_params,\n\u001b[0;32m     18\u001b[0m     samples_ratio_min\u001b[38;5;241m=\u001b[39m\u001b[38;5;241m0\u001b[39m,\n\u001b[0;32m     19\u001b[0m     samples_ratio_max\u001b[38;5;241m=\u001b[39m\u001b[38;5;241m10\u001b[39m,\n\u001b[0;32m     20\u001b[0m     samples_ratio_step\u001b[38;5;241m=\u001b[39m\u001b[38;5;241m5\u001b[39m,\n\u001b[0;32m     21\u001b[0m     med3pa_metrics\u001b[38;5;241m=\u001b[39mmed3pa_metrics,\n\u001b[0;32m     22\u001b[0m     evaluate_models\u001b[38;5;241m=\u001b[39m\u001b[38;5;28;01mTrue\u001b[39;00m,\n\u001b[0;32m     23\u001b[0m     models_metrics\u001b[38;5;241m=\u001b[39m[\u001b[38;5;124m'\u001b[39m\u001b[38;5;124mMSE\u001b[39m\u001b[38;5;124m'\u001b[39m, \u001b[38;5;124m'\u001b[39m\u001b[38;5;124mRMSE\u001b[39m\u001b[38;5;124m'\u001b[39m]\n\u001b[0;32m     24\u001b[0m )\n",
      "File \u001b[1;32md:\\MED3pa-package\\MED3pa\\MED3pa\\med3pa\\experiment.py:607\u001b[0m, in \u001b[0;36mMed3paDetectronExperiment.run\u001b[1;34m(datasets, base_model_manager, uncertainty_metric, training_params, samples_size, samples_size_profiles, ensemble_size, num_calibration_runs, patience, test_strategies, allow_margin, margin, ipc_type, ipc_params, ipc_grid_params, ipc_cv, pretrained_ipc, apc_params, apc_grid_params, apc_cv, fixed_tree, pretrained_apc, samples_ratio_min, samples_ratio_max, samples_ratio_step, med3pa_metrics, evaluate_models, use_ref_models, models_metrics, mode, all_dr)\u001b[0m\n\u001b[0;32m    604\u001b[0m detectron_results\u001b[38;5;241m.\u001b[39manalyze_results(test_strategies)\n\u001b[0;32m    606\u001b[0m \u001b[38;5;28mprint\u001b[39m(\u001b[38;5;124m\"\u001b[39m\u001b[38;5;124mRunning Profiled Detectron Experiment:\u001b[39m\u001b[38;5;124m\"\u001b[39m)\n\u001b[1;32m--> 607\u001b[0m detectron_profiles_res \u001b[38;5;241m=\u001b[39m MDRCalculator\u001b[38;5;241m.\u001b[39mdetectron_by_profiles(datasets\u001b[38;5;241m=\u001b[39mdatasets, profiles_manager\u001b[38;5;241m=\u001b[39mmed3pa_results\u001b[38;5;241m.\u001b[39mtest_record\u001b[38;5;241m.\u001b[39mget_profiles_manager(),training_params\u001b[38;5;241m=\u001b[39mtraining_params, \n\u001b[0;32m    608\u001b[0m                                                              base_model_manager\u001b[38;5;241m=\u001b[39mbase_model_manager,\n\u001b[0;32m    609\u001b[0m                                                              samples_size\u001b[38;5;241m=\u001b[39msamples_size_profiles, num_calibration_runs\u001b[38;5;241m=\u001b[39mnum_calibration_runs, ensemble_size\u001b[38;5;241m=\u001b[39mensemble_size,\n\u001b[0;32m    610\u001b[0m                                                              patience\u001b[38;5;241m=\u001b[39mpatience, strategies\u001b[38;5;241m=\u001b[39mtest_strategies,\n\u001b[0;32m    611\u001b[0m                                                              allow_margin\u001b[38;5;241m=\u001b[39mallow_margin, margin\u001b[38;5;241m=\u001b[39mmargin, all_dr\u001b[38;5;241m=\u001b[39mall_dr)\n\u001b[0;32m    613\u001b[0m med3pa_detectron_params \u001b[38;5;241m=\u001b[39m {\n\u001b[0;32m    614\u001b[0m     \u001b[38;5;124m'\u001b[39m\u001b[38;5;124muncertainty_metric\u001b[39m\u001b[38;5;124m'\u001b[39m: uncertainty_metric,\n\u001b[0;32m    615\u001b[0m     \u001b[38;5;124m'\u001b[39m\u001b[38;5;124msamples_ratio_min\u001b[39m\u001b[38;5;124m'\u001b[39m: samples_ratio_min,\n\u001b[1;32m   (...)\u001b[0m\n\u001b[0;32m    630\u001b[0m \n\u001b[0;32m    631\u001b[0m }\n\u001b[0;32m    633\u001b[0m experiment_config \u001b[38;5;241m=\u001b[39m {\n\u001b[0;32m    634\u001b[0m     \u001b[38;5;124m'\u001b[39m\u001b[38;5;124mexperiment_name\u001b[39m\u001b[38;5;124m'\u001b[39m: \u001b[38;5;124m\"\u001b[39m\u001b[38;5;124mMed3paDetectronExperiment\u001b[39m\u001b[38;5;124m\"\u001b[39m,\n\u001b[0;32m    635\u001b[0m     \u001b[38;5;124m'\u001b[39m\u001b[38;5;124mexperiment_params\u001b[39m\u001b[38;5;124m'\u001b[39m: med3pa_detectron_params,            \n\u001b[0;32m    636\u001b[0m }\n",
      "File \u001b[1;32md:\\MED3pa-package\\MED3pa\\MED3pa\\med3pa\\mdr.py:503\u001b[0m, in \u001b[0;36mMDRCalculator.detectron_by_profiles\u001b[1;34m(datasets, profiles_manager, training_params, base_model_manager, strategies, samples_size, ensemble_size, num_calibration_runs, patience, allow_margin, margin, all_dr)\u001b[0m\n\u001b[0;32m    501\u001b[0m \u001b[38;5;28mprint\u001b[39m(\u001b[38;5;124m\"\u001b[39m\u001b[38;5;124mRunning Detectron on Profile:\u001b[39m\u001b[38;5;124m\"\u001b[39m, path_description)\n\u001b[0;32m    502\u001b[0m \u001b[38;5;28;01mif\u001b[39;00m experiment_det \u001b[38;5;129;01mis\u001b[39;00m \u001b[38;5;28;01mNone\u001b[39;00m:\n\u001b[1;32m--> 503\u001b[0m     experiment_det\u001b[38;5;241m=\u001b[39m DetectronExperiment\u001b[38;5;241m.\u001b[39mrun(\n\u001b[0;32m    504\u001b[0m     datasets\u001b[38;5;241m=\u001b[39mprofile_set, training_params\u001b[38;5;241m=\u001b[39mtraining_params, base_model_manager\u001b[38;5;241m=\u001b[39mbase_model_manager,\n\u001b[0;32m    505\u001b[0m     samples_size\u001b[38;5;241m=\u001b[39msamples_size, num_calibration_runs\u001b[38;5;241m=\u001b[39mnum_calibration_runs, ensemble_size\u001b[38;5;241m=\u001b[39mensemble_size,\n\u001b[0;32m    506\u001b[0m     patience\u001b[38;5;241m=\u001b[39mpatience, allow_margin\u001b[38;5;241m=\u001b[39mallow_margin, margin\u001b[38;5;241m=\u001b[39mmargin)\n\u001b[0;32m    507\u001b[0m \u001b[38;5;28;01melse\u001b[39;00m:\n\u001b[0;32m    508\u001b[0m     experiment_det\u001b[38;5;241m=\u001b[39mDetectronExperiment\u001b[38;5;241m.\u001b[39mrun(\n\u001b[0;32m    509\u001b[0m     datasets\u001b[38;5;241m=\u001b[39mprofile_set, calib_result\u001b[38;5;241m=\u001b[39mexperiment_det\u001b[38;5;241m.\u001b[39mcal_record, training_params\u001b[38;5;241m=\u001b[39mtraining_params, \n\u001b[0;32m    510\u001b[0m     base_model_manager\u001b[38;5;241m=\u001b[39mbase_model_manager,\n\u001b[0;32m    511\u001b[0m     samples_size\u001b[38;5;241m=\u001b[39msamples_size, num_calibration_runs\u001b[38;5;241m=\u001b[39mnum_calibration_runs, ensemble_size\u001b[38;5;241m=\u001b[39mensemble_size,\n\u001b[0;32m    512\u001b[0m     patience\u001b[38;5;241m=\u001b[39mpatience, allow_margin\u001b[38;5;241m=\u001b[39mallow_margin, margin\u001b[38;5;241m=\u001b[39mmargin)\n",
      "File \u001b[1;32md:\\MED3pa-package\\MED3pa\\MED3pa\\detectron\\experiment.py:203\u001b[0m, in \u001b[0;36mDetectronExperiment.run\u001b[1;34m(datasets, base_model_manager, training_params, samples_size, calib_result, ensemble_size, num_calibration_runs, patience, allow_margin, margin)\u001b[0m\n\u001b[0;32m    199\u001b[0m     cal_record \u001b[38;5;241m=\u001b[39m calib_result\n\u001b[0;32m    200\u001b[0m \u001b[38;5;28;01melse\u001b[39;00m:\n\u001b[0;32m    201\u001b[0m \n\u001b[0;32m    202\u001b[0m \u001b[38;5;66;03m# evaluate the calibration ensemble\u001b[39;00m\n\u001b[1;32m--> 203\u001b[0m     cal_record \u001b[38;5;241m=\u001b[39m calibration_ensemble\u001b[38;5;241m.\u001b[39mevaluate_ensemble(datasets\u001b[38;5;241m=\u001b[39mdatasets, \n\u001b[0;32m    204\u001b[0m                                                         n_runs\u001b[38;5;241m=\u001b[39mnum_calibration_runs,\n\u001b[0;32m    205\u001b[0m                                                         samples_size\u001b[38;5;241m=\u001b[39msamples_size, \n\u001b[0;32m    206\u001b[0m                                                         training_params\u001b[38;5;241m=\u001b[39mtraining_params, \n\u001b[0;32m    207\u001b[0m                                                         \u001b[38;5;28mset\u001b[39m\u001b[38;5;241m=\u001b[39m\u001b[38;5;124m'\u001b[39m\u001b[38;5;124mreference\u001b[39m\u001b[38;5;124m'\u001b[39m, \n\u001b[0;32m    208\u001b[0m                                                         patience\u001b[38;5;241m=\u001b[39mpatience, \n\u001b[0;32m    209\u001b[0m                                                         allow_margin\u001b[38;5;241m=\u001b[39mallow_margin,\n\u001b[0;32m    210\u001b[0m                                                         margin\u001b[38;5;241m=\u001b[39mmargin)\n\u001b[0;32m    211\u001b[0m     \u001b[38;5;28mprint\u001b[39m(\u001b[38;5;124m\"\u001b[39m\u001b[38;5;124mDetectron execution on reference set completed.\u001b[39m\u001b[38;5;124m\"\u001b[39m)\n\u001b[0;32m    213\u001b[0m test_record \u001b[38;5;241m=\u001b[39m testing_ensemble\u001b[38;5;241m.\u001b[39mevaluate_ensemble(datasets\u001b[38;5;241m=\u001b[39mdatasets, \n\u001b[0;32m    214\u001b[0m                                                 n_runs\u001b[38;5;241m=\u001b[39mnum_calibration_runs, \n\u001b[0;32m    215\u001b[0m                                                 samples_size\u001b[38;5;241m=\u001b[39msamples_size, \n\u001b[1;32m   (...)\u001b[0m\n\u001b[0;32m    219\u001b[0m                                                 allow_margin\u001b[38;5;241m=\u001b[39mallow_margin,\n\u001b[0;32m    220\u001b[0m                                                 margin\u001b[38;5;241m=\u001b[39mmargin)\n",
      "File \u001b[1;32md:\\MED3pa-package\\MED3pa\\MED3pa\\detectron\\ensemble.py:143\u001b[0m, in \u001b[0;36mDetectronEnsemble.evaluate_ensemble\u001b[1;34m(self, datasets, n_runs, samples_size, training_params, set, patience, allow_margin, margin)\u001b[0m\n\u001b[0;32m    135\u001b[0m cdc\u001b[38;5;241m.\u001b[39mtrain_to_disagree(x_train\u001b[38;5;241m=\u001b[39mtraining_data\u001b[38;5;241m.\u001b[39mget_observations(), y_train\u001b[38;5;241m=\u001b[39mtraining_data\u001b[38;5;241m.\u001b[39mget_true_labels(), \n\u001b[0;32m    136\u001b[0m                       x_validation\u001b[38;5;241m=\u001b[39mvalidation_data\u001b[38;5;241m.\u001b[39mget_observations(), y_validation\u001b[38;5;241m=\u001b[39mvalidation_data\u001b[38;5;241m.\u001b[39mget_true_labels(), \n\u001b[0;32m    137\u001b[0m                       x_test\u001b[38;5;241m=\u001b[39mtesting_set\u001b[38;5;241m.\u001b[39mget_observations(), y_test\u001b[38;5;241m=\u001b[39mtesting_set\u001b[38;5;241m.\u001b[39mget_pseudo_labels(),\n\u001b[0;32m    138\u001b[0m                       training_parameters\u001b[38;5;241m=\u001b[39mtraining_params,\n\u001b[0;32m    139\u001b[0m                       balance_train_classes\u001b[38;5;241m=\u001b[39m\u001b[38;5;28;01mTrue\u001b[39;00m, \n\u001b[0;32m    140\u001b[0m                       N\u001b[38;5;241m=\u001b[39mupdated_count)\n\u001b[0;32m    142\u001b[0m \u001b[38;5;66;03m# predict probabilities using this cdc\u001b[39;00m\n\u001b[1;32m--> 143\u001b[0m cdc_probabilities \u001b[38;5;241m=\u001b[39m cdc\u001b[38;5;241m.\u001b[39mpredict(testing_set\u001b[38;5;241m.\u001b[39mget_observations(), \u001b[38;5;28;01mTrue\u001b[39;00m)\n\u001b[0;32m    144\u001b[0m cdc_probabilities_original_set \u001b[38;5;241m=\u001b[39m cdc\u001b[38;5;241m.\u001b[39mpredict(cloned_testing_set\u001b[38;5;241m.\u001b[39mget_observations(), \u001b[38;5;28;01mTrue\u001b[39;00m)\n\u001b[0;32m    146\u001b[0m \u001b[38;5;66;03m# deduct the predictions of this cdc\u001b[39;00m\n",
      "File \u001b[1;32md:\\MED3pa-package\\MED3pa\\MED3pa\\models\\concrete_classifiers.py:135\u001b[0m, in \u001b[0;36mXGBoostModel.predict\u001b[1;34m(self, X, return_proba, threshold)\u001b[0m\n\u001b[0;32m    132\u001b[0m     \u001b[38;5;28;01mraise\u001b[39;00m \u001b[38;5;167;01mValueError\u001b[39;00m(\u001b[38;5;124mf\u001b[39m\u001b[38;5;124m\"\u001b[39m\u001b[38;5;124mThe \u001b[39m\u001b[38;5;132;01m{\u001b[39;00m\u001b[38;5;28mself\u001b[39m\u001b[38;5;241m.\u001b[39mmodel_class\u001b[38;5;241m.\u001b[39m\u001b[38;5;18m__name__\u001b[39m\u001b[38;5;132;01m}\u001b[39;00m\u001b[38;5;124m model has not been initialized.\u001b[39m\u001b[38;5;124m\"\u001b[39m)\n\u001b[0;32m    134\u001b[0m \u001b[38;5;28;01mif\u001b[39;00m \u001b[38;5;28mself\u001b[39m\u001b[38;5;241m.\u001b[39mmodel_class \u001b[38;5;129;01mis\u001b[39;00m xgb\u001b[38;5;241m.\u001b[39mBooster:\n\u001b[1;32m--> 135\u001b[0m     dtest \u001b[38;5;241m=\u001b[39m \u001b[38;5;28mself\u001b[39m\u001b[38;5;241m.\u001b[39m_ensure_dmatrix(X)\n\u001b[0;32m    136\u001b[0m     preds \u001b[38;5;241m=\u001b[39m \u001b[38;5;28mself\u001b[39m\u001b[38;5;241m.\u001b[39mmodel\u001b[38;5;241m.\u001b[39mpredict(dtest)\n\u001b[0;32m    137\u001b[0m \u001b[38;5;28;01melif\u001b[39;00m \u001b[38;5;28mself\u001b[39m\u001b[38;5;241m.\u001b[39mmodel_class \u001b[38;5;129;01mis\u001b[39;00m xgb\u001b[38;5;241m.\u001b[39mXGBClassifier:\n",
      "File \u001b[1;32md:\\MED3pa-package\\MED3pa\\MED3pa\\models\\concrete_classifiers.py:54\u001b[0m, in \u001b[0;36mXGBoostModel._ensure_dmatrix\u001b[1;34m(self, features, labels, weights)\u001b[0m\n\u001b[0;32m     42\u001b[0m \u001b[38;5;250m\u001b[39m\u001b[38;5;124;03m\"\"\"\u001b[39;00m\n\u001b[0;32m     43\u001b[0m \u001b[38;5;124;03mEnsures that the input data is converted to a DMatrix format, using the defined data preparation strategy.\u001b[39;00m\n\u001b[0;32m     44\u001b[0m \n\u001b[1;32m   (...)\u001b[0m\n\u001b[0;32m     51\u001b[0m \u001b[38;5;124;03m    xgb.DMatrix: A DMatrix object.\u001b[39;00m\n\u001b[0;32m     52\u001b[0m \u001b[38;5;124;03m\"\"\"\u001b[39;00m\n\u001b[0;32m     53\u001b[0m \u001b[38;5;28;01mif\u001b[39;00m \u001b[38;5;129;01mnot\u001b[39;00m \u001b[38;5;28misinstance\u001b[39m(features, xgb\u001b[38;5;241m.\u001b[39mDMatrix):\n\u001b[1;32m---> 54\u001b[0m     \u001b[38;5;28;01mreturn\u001b[39;00m \u001b[38;5;28mself\u001b[39m\u001b[38;5;241m.\u001b[39mdata_preparation_strategy\u001b[38;5;241m.\u001b[39mexecute(features, labels, weights)\n\u001b[0;32m     55\u001b[0m \u001b[38;5;28;01melse\u001b[39;00m:\n\u001b[0;32m     56\u001b[0m     \u001b[38;5;28;01mreturn\u001b[39;00m features\n",
      "File \u001b[1;32md:\\MED3pa-package\\MED3pa\\MED3pa\\models\\data_strategies.py:76\u001b[0m, in \u001b[0;36mToDmatrixStrategy.execute\u001b[1;34m(observations, labels, weights)\u001b[0m\n\u001b[0;32m     74\u001b[0m \u001b[38;5;28;01mif\u001b[39;00m \u001b[38;5;129;01mnot\u001b[39;00m ToDmatrixStrategy\u001b[38;5;241m.\u001b[39mis_supported_data(observations, labels, weights):\n\u001b[0;32m     75\u001b[0m     \u001b[38;5;28;01mraise\u001b[39;00m \u001b[38;5;167;01mValueError\u001b[39;00m(\u001b[38;5;124m\"\u001b[39m\u001b[38;5;124mUnsupported data type provided for creating DMatrix.\u001b[39m\u001b[38;5;124m\"\u001b[39m)\n\u001b[1;32m---> 76\u001b[0m \u001b[38;5;28;01mreturn\u001b[39;00m xgb\u001b[38;5;241m.\u001b[39mDMatrix(data\u001b[38;5;241m=\u001b[39mobservations, label\u001b[38;5;241m=\u001b[39mlabels, weight\u001b[38;5;241m=\u001b[39mweights)\n",
      "File \u001b[1;32mc:\\Users\\lyna\\anaconda3\\envs\\MED3pa\\Lib\\site-packages\\xgboost\\core.py:730\u001b[0m, in \u001b[0;36mrequire_keyword_args.<locals>.throw_if.<locals>.inner_f\u001b[1;34m(*args, **kwargs)\u001b[0m\n\u001b[0;32m    728\u001b[0m \u001b[38;5;28;01mfor\u001b[39;00m k, arg \u001b[38;5;129;01min\u001b[39;00m \u001b[38;5;28mzip\u001b[39m(sig\u001b[38;5;241m.\u001b[39mparameters, args):\n\u001b[0;32m    729\u001b[0m     kwargs[k] \u001b[38;5;241m=\u001b[39m arg\n\u001b[1;32m--> 730\u001b[0m \u001b[38;5;28;01mreturn\u001b[39;00m func(\u001b[38;5;241m*\u001b[39m\u001b[38;5;241m*\u001b[39mkwargs)\n",
      "File \u001b[1;32mc:\\Users\\lyna\\anaconda3\\envs\\MED3pa\\Lib\\site-packages\\xgboost\\core.py:857\u001b[0m, in \u001b[0;36mDMatrix.__init__\u001b[1;34m(self, data, label, weight, base_margin, missing, silent, feature_names, feature_types, nthread, group, qid, label_lower_bound, label_upper_bound, feature_weights, enable_categorical, data_split_mode)\u001b[0m\n\u001b[0;32m    854\u001b[0m     \u001b[38;5;28;01massert\u001b[39;00m \u001b[38;5;28mself\u001b[39m\u001b[38;5;241m.\u001b[39mhandle \u001b[38;5;129;01mis\u001b[39;00m \u001b[38;5;129;01mnot\u001b[39;00m \u001b[38;5;28;01mNone\u001b[39;00m\n\u001b[0;32m    855\u001b[0m     \u001b[38;5;28;01mreturn\u001b[39;00m\n\u001b[1;32m--> 857\u001b[0m handle, feature_names, feature_types \u001b[38;5;241m=\u001b[39m dispatch_data_backend(\n\u001b[0;32m    858\u001b[0m     data,\n\u001b[0;32m    859\u001b[0m     missing\u001b[38;5;241m=\u001b[39m\u001b[38;5;28mself\u001b[39m\u001b[38;5;241m.\u001b[39mmissing,\n\u001b[0;32m    860\u001b[0m     threads\u001b[38;5;241m=\u001b[39m\u001b[38;5;28mself\u001b[39m\u001b[38;5;241m.\u001b[39mnthread,\n\u001b[0;32m    861\u001b[0m     feature_names\u001b[38;5;241m=\u001b[39mfeature_names,\n\u001b[0;32m    862\u001b[0m     feature_types\u001b[38;5;241m=\u001b[39mfeature_types,\n\u001b[0;32m    863\u001b[0m     enable_categorical\u001b[38;5;241m=\u001b[39menable_categorical,\n\u001b[0;32m    864\u001b[0m     data_split_mode\u001b[38;5;241m=\u001b[39mdata_split_mode,\n\u001b[0;32m    865\u001b[0m )\n\u001b[0;32m    866\u001b[0m \u001b[38;5;28;01massert\u001b[39;00m handle \u001b[38;5;129;01mis\u001b[39;00m \u001b[38;5;129;01mnot\u001b[39;00m \u001b[38;5;28;01mNone\u001b[39;00m\n\u001b[0;32m    867\u001b[0m \u001b[38;5;28mself\u001b[39m\u001b[38;5;241m.\u001b[39mhandle \u001b[38;5;241m=\u001b[39m handle\n",
      "File \u001b[1;32mc:\\Users\\lyna\\anaconda3\\envs\\MED3pa\\Lib\\site-packages\\xgboost\\data.py:1075\u001b[0m, in \u001b[0;36mdispatch_data_backend\u001b[1;34m(data, missing, threads, feature_names, feature_types, enable_categorical, data_split_mode)\u001b[0m\n\u001b[0;32m   1071\u001b[0m     \u001b[38;5;28;01mreturn\u001b[39;00m _from_scipy_csr(\n\u001b[0;32m   1072\u001b[0m         data\u001b[38;5;241m.\u001b[39mtocsr(), missing, threads, feature_names, feature_types\n\u001b[0;32m   1073\u001b[0m     )\n\u001b[0;32m   1074\u001b[0m \u001b[38;5;28;01mif\u001b[39;00m _is_np_array_like(data):\n\u001b[1;32m-> 1075\u001b[0m     \u001b[38;5;28;01mreturn\u001b[39;00m _from_numpy_array(\n\u001b[0;32m   1076\u001b[0m         data, missing, threads, feature_names, feature_types, data_split_mode\n\u001b[0;32m   1077\u001b[0m     )\n\u001b[0;32m   1078\u001b[0m \u001b[38;5;28;01mif\u001b[39;00m _is_uri(data):\n\u001b[0;32m   1079\u001b[0m     \u001b[38;5;28;01mreturn\u001b[39;00m _from_uri(data, missing, feature_names, feature_types, data_split_mode)\n",
      "File \u001b[1;32mc:\\Users\\lyna\\anaconda3\\envs\\MED3pa\\Lib\\site-packages\\xgboost\\data.py:208\u001b[0m, in \u001b[0;36m_from_numpy_array\u001b[1;34m(data, missing, nthread, feature_names, feature_types, data_split_mode)\u001b[0m\n\u001b[0;32m    205\u001b[0m data, _ \u001b[38;5;241m=\u001b[39m _ensure_np_dtype(data, data\u001b[38;5;241m.\u001b[39mdtype)\n\u001b[0;32m    206\u001b[0m handle \u001b[38;5;241m=\u001b[39m ctypes\u001b[38;5;241m.\u001b[39mc_void_p()\n\u001b[0;32m    207\u001b[0m _check_call(\n\u001b[1;32m--> 208\u001b[0m     _LIB\u001b[38;5;241m.\u001b[39mXGDMatrixCreateFromDense(\n\u001b[0;32m    209\u001b[0m         _array_interface(data),\n\u001b[0;32m    210\u001b[0m         make_jcargs(\n\u001b[0;32m    211\u001b[0m             missing\u001b[38;5;241m=\u001b[39m\u001b[38;5;28mfloat\u001b[39m(missing),\n\u001b[0;32m    212\u001b[0m             nthread\u001b[38;5;241m=\u001b[39m\u001b[38;5;28mint\u001b[39m(nthread),\n\u001b[0;32m    213\u001b[0m             data_split_mode\u001b[38;5;241m=\u001b[39m\u001b[38;5;28mint\u001b[39m(data_split_mode),\n\u001b[0;32m    214\u001b[0m         ),\n\u001b[0;32m    215\u001b[0m         ctypes\u001b[38;5;241m.\u001b[39mbyref(handle),\n\u001b[0;32m    216\u001b[0m     )\n\u001b[0;32m    217\u001b[0m )\n\u001b[0;32m    218\u001b[0m \u001b[38;5;28;01mreturn\u001b[39;00m handle, feature_names, feature_types\n",
      "\u001b[1;31mKeyboardInterrupt\u001b[0m: "
     ]
    }
   ],
   "source": [
    "from MED3pa.med3pa import Med3paDetectronExperiment\n",
    "from MED3pa.detectron.strategies import EnhancedDisagreementStrategy\n",
    "\n",
    "# Execute the integrated MED3PA and Detectron experiment\n",
    "med3pa_detectron_results = Med3paDetectronExperiment.run(\n",
    "    datasets=datasets,\n",
    "    base_model_manager=base_model_manager,\n",
    "    uncertainty_metric=\"absolute_error\",\n",
    "    samples_size=20,\n",
    "    ensemble_size=10,\n",
    "    num_calibration_runs=100,\n",
    "    patience=3,\n",
    "    test_strategies=\"enhanced_disagreement_strategy\",\n",
    "    allow_margin=False,\n",
    "    margin=0.05,\n",
    "    ipc_params=ipc_params,\n",
    "    apc_params=apc_params,\n",
    "    samples_ratio_min=0,\n",
    "    samples_ratio_max=10,\n",
    "    samples_ratio_step=5,\n",
    "    med3pa_metrics=med3pa_metrics,\n",
    "    evaluate_models=True,\n",
    "    models_metrics=['MSE', 'RMSE']\n",
    ")\n"
   ]
  },
  {
   "cell_type": "code",
   "execution_count": null,
   "metadata": {},
   "outputs": [],
   "source": [
    "# Save the results to a specified directory\n",
    "med3pa_detectron_results.save(file_path='./med3pa_detectron_experiment_results/')\n",
    "\n"
   ]
  }
 ],
 "metadata": {
  "kernelspec": {
   "display_name": "det3pa",
   "language": "python",
   "name": "python3"
  },
  "language_info": {
   "codemirror_mode": {
    "name": "ipython",
    "version": 3
   },
   "file_extension": ".py",
   "mimetype": "text/x-python",
   "name": "python",
   "nbconvert_exporter": "python",
   "pygments_lexer": "ipython3",
   "version": "3.11.9"
  }
 },
 "nbformat": 4,
 "nbformat_minor": 2
}
