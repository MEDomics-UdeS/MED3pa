{
 "cells": [
  {
   "cell_type": "markdown",
   "metadata": {},
   "source": [
    "# Covariate Shift Detection in diabetes prediction task\n",
    "\n",
    "## Introduction\n",
    "This notebook demonstrates the process of training an XGBoost model to predict diabetes. Additionally, we simulate covariate shifts in some important features and use the Detectron method to detect these shifts using different statistical tests. \n"
   ]
  },
  {
   "cell_type": "markdown",
   "metadata": {},
   "source": [
    "## Data Preparation\n",
    "\n",
    "**1. Import Necessary Libraries**  \n",
    "\n",
    "We start by importing the essential libraries for our experiment. These libraries include:\n",
    "- `pandas` for data manipulation and analysis.\n",
    "- `sklearn.model_selection` for splitting the dataset.\n",
    "- `sklearn.preprocessing` for feature scaling.\n",
    "\n",
    "**2. Load the Dataset**  \n",
    "\n",
    "We load the diabetes dataset from a CSV file named `diabetes.csv`.\n",
    "\n",
    "**3. Check for Missing Values**  \n",
    "\n",
    "To ensure data quality, we check for any missing values in the dataset and display the count of missing values for each column.\n",
    "\n",
    "**4. Split the Data into Features and Target**  \n",
    "\n",
    "We separate the features (X) from the target variable (y). The target variable is 'Outcome', which indicates the presence of diabetes.\n",
    "\n",
    "**5. Split the Data into Train, Validation, and Test Sets**  \n",
    "\n",
    "We split the data into training, validation, and test sets using a two-step process:\n",
    "1. Split the data into 70% training and 30% temporary (X_temp, y_temp).\n",
    "2. Further split the temporary set into 50% validation and 50% test sets.\n",
    "\n",
    "**6. Feature Scaling**  \n",
    "\n",
    "We standardize the features by removing the mean and scaling to unit variance. This is done to ensure that the features have similar scales, which helps in model training.\n",
    "\n",
    "**7. Save the Datasets as CSV Files**  \n",
    "\n",
    "We save the obtained DataFrames as CSV files for training, validation, and testing.\n"
   ]
  },
  {
   "cell_type": "code",
   "execution_count": 1,
   "metadata": {},
   "outputs": [
    {
     "name": "stdout",
     "output_type": "stream",
     "text": [
      "Pregnancies                 0\n",
      "Glucose                     0\n",
      "BloodPressure               0\n",
      "SkinThickness               0\n",
      "Insulin                     0\n",
      "BMI                         0\n",
      "DiabetesPedigreeFunction    0\n",
      "Age                         0\n",
      "Outcome                     0\n",
      "dtype: int64\n"
     ]
    }
   ],
   "source": [
    "# Import necessary libraries\n",
    "from sklearn.model_selection import train_test_split\n",
    "from sklearn.preprocessing import StandardScaler\n",
    "import pandas as pd\n",
    "\n",
    "# Load the dataset\n",
    "# The dataset is loaded from a CSV file named 'diabetes.csv'\n",
    "data = pd.read_csv('./datasets/diabetes.csv')\n",
    "\n",
    "# Check for missing values\n",
    "# Display the count of missing values in each column\n",
    "print(data.isnull().sum())\n",
    "\n",
    "# Split the data into features and target\n",
    "# Separate the features (X) from the target (y)\n",
    "X = data.drop(columns=['Outcome'])\n",
    "y = data['Outcome']\n",
    "\n",
    "# Split the data into train, validation, and test sets\n",
    "# The data is split into 70% training and 30% temporary (X_temp, y_temp)\n",
    "# The temporary set is further split into 50% validation and 50% test sets\n",
    "X_train, X_temp, y_train, y_temp = train_test_split(X, y, test_size=0.3, random_state=42)\n",
    "X_val, X_test, y_val, y_test = train_test_split(X_temp, y_temp, test_size=0.5, random_state=42)\n",
    "\n",
    "# Feature scaling\n",
    "# Standardize features by removing the mean and scaling to unit variance\n",
    "scaler = StandardScaler()\n",
    "X_train_scaled = scaler.fit_transform(X_train)\n",
    "X_val_scaled = scaler.transform(X_val)\n",
    "X_test_scaled = scaler.transform(X_test)\n",
    "\n",
    "# Convert scaled arrays back to DataFrames and reset indices\n",
    "# Convert the scaled arrays to DataFrames and reset their indices for consistency\n",
    "X_train_scaled_df = pd.DataFrame(X_train_scaled, columns=X.columns).reset_index(drop=True)\n",
    "X_val_scaled_df = pd.DataFrame(X_val_scaled, columns=X.columns).reset_index(drop=True)\n",
    "X_test_scaled_df = pd.DataFrame(X_test_scaled, columns=X.columns).reset_index(drop=True)\n",
    "\n",
    "# Reset indices of the target variables\n",
    "y_train_df = y_train.reset_index(drop=True)\n",
    "y_val_df = y_val.reset_index(drop=True)\n",
    "y_test_df = y_test.reset_index(drop=True)\n",
    "\n",
    "# Save the datasets as CSV files\n",
    "# Combine the scaled feature DataFrames with their corresponding target variables\n",
    "# Save the combined DataFrames as CSV files for training, validation, and testing\n",
    "train_data = pd.concat([X_train_scaled_df, y_train_df], axis=1)\n",
    "val_data = pd.concat([X_val_scaled_df, y_val_df], axis=1)\n",
    "test_data = pd.concat([X_test_scaled_df, y_test_df], axis=1)\n",
    "train_data.to_csv('./datasets/train_data.csv', index=False)\n",
    "val_data.to_csv('./datasets/val_data.csv', index=False)\n",
    "test_data.to_csv('./datasets/test_data.csv', index=False)\n"
   ]
  },
  {
   "cell_type": "markdown",
   "metadata": {},
   "source": [
    "## Model Training and Evaluation\n",
    "\n",
    "**Create a DMatrix for Training, Validation, and Test Data**    \n",
    "\n",
    "We use XGBoost's `DMatrix` for training, validation, and test data. `DMatrix` is an optimized data structure that XGBoost uses for efficient training and prediction.\n",
    "\n",
    "**Set Hyperparameters for the XGBoost Model**  \n",
    "\n",
    "We set the hyperparameters for the XGBoost model based on a hyperparameter tuning process. The parameters include:\n",
    "- `colsample_bytree`: Subsample ratio of columns when constructing each tree.\n",
    "- `gamma`: Minimum loss reduction required to make a further partition on a leaf node of the tree.\n",
    "- `learning_rate`: Step size shrinkage used in update to prevent overfitting.\n",
    "- `max_depth`: Maximum depth of a tree.\n",
    "- `subsample`: Subsample ratio of the training instances.\n",
    "- `eval_metric`: Evaluation metric used to monitor the training performance.\n",
    "\n",
    "**Train the Model with the Best Parameters**  \n",
    "\n",
    "We train the XGBoost model with the defined parameters using 100 boosting rounds. Early stopping is applied with 10 rounds to prevent overfitting.\n",
    "\n",
    "**Evaluate the Model on the Test Set**  \n",
    "\n",
    "We evaluate the trained model on the test set using the following metrics:\n",
    "- `Accuracy`: The proportion of correctly classified instances.\n",
    "- `ROC AUC`: The area under the receiver operating characteristic curve.\n",
    "- `Log Loss`: The negative log-likelihood of the true labels given the predicted probabilities.\n",
    "\n",
    "**Save the Model**  \n",
    "\n",
    "We save the trained model in JSON format and also use `pickle` to serialize the model for future use.\n"
   ]
  },
  {
   "cell_type": "code",
   "execution_count": 2,
   "metadata": {},
   "outputs": [
    {
     "name": "stdout",
     "output_type": "stream",
     "text": [
      "[0]\teval-auc:0.66771\n",
      "[1]\teval-auc:0.72332\n",
      "[2]\teval-auc:0.75901\n",
      "[3]\teval-auc:0.76975\n",
      "[4]\teval-auc:0.76386\n",
      "[5]\teval-auc:0.76698\n",
      "[6]\teval-auc:0.76091\n",
      "[7]\teval-auc:0.77062\n",
      "[8]\teval-auc:0.76784\n",
      "[9]\teval-auc:0.76646\n",
      "[10]\teval-auc:0.76369\n",
      "[11]\teval-auc:0.76923\n",
      "[12]\teval-auc:0.77755\n",
      "[13]\teval-auc:0.77755\n",
      "[14]\teval-auc:0.77581\n",
      "[15]\teval-auc:0.78170\n",
      "[16]\teval-auc:0.78933\n",
      "[17]\teval-auc:0.78760\n",
      "[18]\teval-auc:0.78621\n",
      "[19]\teval-auc:0.79071\n",
      "[20]\teval-auc:0.78621\n",
      "[21]\teval-auc:0.78725\n",
      "[22]\teval-auc:0.78933\n",
      "[23]\teval-auc:0.78586\n",
      "[24]\teval-auc:0.78517\n",
      "[25]\teval-auc:0.78552\n",
      "[26]\teval-auc:0.78552\n",
      "[27]\teval-auc:0.78725\n",
      "[28]\teval-auc:0.78552\n",
      "Accuracy: 0.7845\n",
      "ROC AUC: 0.8214\n",
      "Log Loss: 0.5025\n",
      "Model trained and evaluated successfully!\n"
     ]
    }
   ],
   "source": [
    "from sklearn.metrics import accuracy_score, roc_auc_score, log_loss\n",
    "import xgboost as xgb\n",
    "import pickle\n",
    "\n",
    "# Create a DMatrix for training, validation, and test data\n",
    "# DMatrix is an optimized data structure that XGBoost uses to train and predict\n",
    "dtrain = xgb.DMatrix(data=X_train_scaled, label=y_train)\n",
    "dval = xgb.DMatrix(data=X_val_scaled, label=y_val)\n",
    "dtest = xgb.DMatrix(data=X_test_scaled, label=y_test)\n",
    "\n",
    "# Set the hyperparameters for the XGBoost model\n",
    "params = {\"colsample_bytree\": 0.8247176589617523, \n",
    "          \"gamma\": 0.30255939244569324, \n",
    "          \"learning_rate\": 0.07102942639067696, \n",
    "          \"max_depth\": 9, \n",
    "          \"subsample\": 0.8171213407907597, \n",
    "          \"eval_metric\": \"auc\"}\n",
    "\n",
    "num_round = 100  # Number of boosting rounds\n",
    "# Train the model with the best parameters\n",
    "evallist = [(dval, 'eval')]  # Evaluation set\n",
    "bst = xgb.train(params, dtrain, num_round, evals=evallist, early_stopping_rounds=10)\n",
    "\n",
    "# Evaluate the model on the test set\n",
    "preds = bst.predict(dtest)  # Predict probabilities\n",
    "predictions = [round(value) for value in preds]  # Convert probabilities to binary predictions\n",
    "\n",
    "# Calculate evaluation metrics\n",
    "accuracy = accuracy_score(y_test, predictions)\n",
    "roc_auc = roc_auc_score(y_test, preds)\n",
    "logloss = log_loss(y_test, preds)\n",
    "\n",
    "# Print the evaluation metrics\n",
    "print(f\"Accuracy: {accuracy:.4f}\")\n",
    "print(f\"ROC AUC: {roc_auc:.4f}\")\n",
    "print(f\"Log Loss: {logloss:.4f}\")\n",
    "\n",
    "# Save the model in JSON format\n",
    "bst.save_model('./models/diabetes_xgb_model.json')\n",
    "print(\"Model trained and evaluated successfully!\")\n",
    "\n",
    "# Save the model using pickle\n",
    "with open('./models/diabetes_xgb_model.pkl', 'wb') as f:\n",
    "    pickle.dump(bst, f)\n"
   ]
  },
  {
   "cell_type": "markdown",
   "metadata": {},
   "source": [
    "## Features Importance\n",
    "\n",
    "**Get Feature Importances**  \n",
    "\n",
    "We retrieve the feature importances from the trained XGBoost model using the `get_score` method with the importance type set to 'weight'. This indicates the number of times a feature appears in the trees.\n",
    "\n",
    "**Sort Features by Importance**  \n",
    "\n",
    "The features are sorted by their importance in descending order to identify the most influential features.\n",
    "\n",
    "The top three most important features are:\n",
    "- `Glucose`\n",
    "- `BMI`\n",
    "- `DiabetesPedigreeFunction`"
   ]
  },
  {
   "cell_type": "code",
   "execution_count": 3,
   "metadata": {},
   "outputs": [
    {
     "data": {
      "text/plain": [
       "[('f1', 116.0),\n",
       " ('f5', 115.0),\n",
       " ('f6', 103.0),\n",
       " ('f2', 85.0),\n",
       " ('f7', 80.0),\n",
       " ('f4', 72.0),\n",
       " ('f0', 64.0),\n",
       " ('f3', 43.0)]"
      ]
     },
     "execution_count": 3,
     "metadata": {},
     "output_type": "execute_result"
    }
   ],
   "source": [
    "feature_importances = bst.get_score(importance_type='weight')\n",
    "\n",
    "# Sort features by importance\n",
    "sorted_features = sorted(feature_importances.items(), key=lambda x: x[1], reverse=True)\n",
    "sorted_features"
   ]
  },
  {
   "cell_type": "markdown",
   "metadata": {},
   "source": [
    "## Simulating Covariate Shift and Model Evaluation\n",
    "\n",
    "**1. Load the Model**  \n",
    "\n",
    "We begin by loading the pre-trained XGBoost model from a pickle file.\n",
    "\n",
    "**2. Function to Simulate Covariate Shift**  \n",
    "\n",
    "We define a function `simulate_covariate_shift` to add Gaussian noise to selected features in the dataset, simulating a covariate shift. The magnitude of the shift can be controlled by the `shift_magnitude` parameter.\n",
    "\n",
    "**3. Select Features to Shift**\n",
    "\n",
    "We select specific features to introduce covariate shift. In this case, we choose the most important features : `Glucose`, `BMI`, and `DiabetesPedigreeFunction`.\n",
    "\n",
    "**4. Define Shift Magnitudes**  \n",
    "\n",
    "We define different magnitudes of covariate shift to evaluate the model's robustness against varying degrees of shift. The magnitudes chosen are 0.1, 0.6, and 1.6.\n",
    "\n",
    "**5. Simulate Covariate Shift and Evaluate the Model**  \n",
    "\n",
    "For each shift magnitude, we:\n",
    "1. Simulate the covariate shift on the test set.\n",
    "2. Scale the shifted test set.\n",
    "3. Save the shifted test set as a CSV file.\n",
    "4. Evaluate the model on the shifted test set using accuracy, ROC AUC, and log loss as metrics.\n",
    "5. Print and store the evaluation metrics.\n"
   ]
  },
  {
   "cell_type": "code",
   "execution_count": 4,
   "metadata": {},
   "outputs": [
    {
     "name": "stdout",
     "output_type": "stream",
     "text": [
      "   shift_magnitude  accuracy   roc_auc  log_loss\n",
      "0              0.1  0.775862  0.821281  0.500970\n",
      "1              0.6  0.741379  0.804078  0.525841\n",
      "2              1.6  0.706897  0.781778  0.542697\n"
     ]
    }
   ],
   "source": [
    "import numpy as np\n",
    "import pandas as pd\n",
    "from sklearn.preprocessing import StandardScaler\n",
    "from sklearn.metrics import accuracy_score, roc_auc_score, log_loss\n",
    "import xgboost as xgb\n",
    "import pickle\n",
    "\n",
    "\n",
    "# Load the model\n",
    "with open('./models/diabetes_xgb_model.pkl', 'rb') as f:\n",
    "    bst = pickle.load(f)\n",
    "\n",
    "# Function to simulate covariate shift by adding noise\n",
    "def simulate_covariate_shift(X, shift_magnitude=0.5, shift_features=None):\n",
    "    np.random.seed(0)\n",
    "    if shift_features is None:\n",
    "        shift_features = X.columns\n",
    "    \n",
    "    X_shifted = X.copy()\n",
    "    for feature in shift_features:\n",
    "        shift = np.random.normal(loc=0, scale=shift_magnitude, size=X[feature].shape)\n",
    "        X_shifted[feature] += shift\n",
    "    \n",
    "    return X_shifted\n",
    "\n",
    "# Select features to shift (for example, 'Glucose', 'BMI', 'DiabetesPedigreeFunction')\n",
    "shift_features = ['Glucose', 'BMI', 'DiabetesPedigreeFunction']\n",
    "\n",
    "# Define different magnitudes of covariate shift to evaluate\n",
    "shift_magnitudes = [0.1, 0.6, 1.6]\n",
    "# Loop through each shift magnitude, simulate the covariate shift, and evaluate the model\n",
    "results = []\n",
    "\n",
    "for shift_magnitude in shift_magnitudes:\n",
    "    # Simulate covariate shift on the test set\n",
    "    X_test_shifted = simulate_covariate_shift(pd.DataFrame(X_test, columns=X.columns), shift_magnitude=shift_magnitude, shift_features=shift_features)\n",
    "    \n",
    "    # Scale the shifted test set\n",
    "    X_test_shifted_scaled = scaler.transform(X_test_shifted)\n",
    "    \n",
    "    # Save the shifted test set as a CSV file\n",
    "    X_test_shifted_df = pd.DataFrame(X_test_shifted_scaled, columns=X.columns).reset_index(drop=True)\n",
    "    y_shifted_df = y_test.reset_index(drop=True)\n",
    "    \n",
    "    shifted_data = pd.concat([X_test_shifted_df, y_shifted_df], axis=1)\n",
    "    shifted_data.to_csv(f'./datasets/test_data_shifted_{shift_magnitude}.csv', index=False)\n",
    "    \n",
    "    # Evaluate the model on the shifted test set\n",
    "    dtest_shifted = xgb.DMatrix(data=X_test_shifted_scaled, label=y_test)\n",
    "    preds_shifted = bst.predict(dtest_shifted)\n",
    "    predictions_shifted = [round(value) for value in preds_shifted]\n",
    "    \n",
    "    # Calculate evaluation metrics for the shifted test set\n",
    "    accuracy_shifted = accuracy_score(y_test, predictions_shifted)\n",
    "    roc_auc_shifted = roc_auc_score(y_test, preds_shifted)\n",
    "    logloss_shifted = log_loss(y_test, preds_shifted)\n",
    "    \n",
    "    # Store the results\n",
    "    results.append({\n",
    "        'shift_magnitude': shift_magnitude,\n",
    "        'accuracy': accuracy_shifted,\n",
    "        'roc_auc': roc_auc_shifted,\n",
    "        'log_loss': logloss_shifted\n",
    "    })\n",
    "\n",
    "# Convert the results to a DataFrame for easy viewing\n",
    "results_df = pd.DataFrame(results)\n",
    "print(results_df)\n"
   ]
  },
  {
   "cell_type": "markdown",
   "metadata": {},
   "source": [
    "## Plotting Feature Distributions\n",
    "\n",
    "We visualize the effect of covariate shift by plotting the distributions of the original and shifted datasets for selected features. This helps in understanding how the feature distributions change with different magnitudes of shift.\n",
    "\n",
    "**Load the Original and Shifted Datasets**  \n",
    "\n",
    "We load the original test dataset and the shifted test datasets generated with different shift magnitudes.\n",
    "\n",
    "**Plot Distributions**  \n",
    "\n",
    "For each selected feature, we plot the kernel density estimates (KDE) to compare the distribution in the original dataset with the distributions in the shifted datasets.\n"
   ]
  },
  {
   "cell_type": "code",
   "execution_count": 5,
   "metadata": {},
   "outputs": [
    {
     "data": {
      "image/png": "[encoded data removed]",
      "text/plain": [
       "<Figure size 1200x800 with 1 Axes>"
      ]
     },
     "metadata": {},
     "output_type": "display_data"
    },
    {
     "data": {
      "image/png": "[encoded data removed]",
      "text/plain": [
       "<Figure size 1200x800 with 1 Axes>"
      ]
     },
     "metadata": {},
     "output_type": "display_data"
    },
    {
     "data": {
      "image/png": "[encoded data removed]",
      "text/plain": [
       "<Figure size 1200x800 with 1 Axes>"
      ]
     },
     "metadata": {},
     "output_type": "display_data"
    }
   ],
   "source": [
    "import matplotlib.pyplot as plt\n",
    "import seaborn as sns\n",
    "import pandas as pd\n",
    "\n",
    "# Load the original and shifted datasets\n",
    "original_test = pd.read_csv('./datasets/test_data.csv')\n",
    "shifted_datasets = {\n",
    "    0.1: pd.read_csv('./datasets/test_data_shifted_0.1.csv'),\n",
    "    0.6: pd.read_csv('./datasets/test_data_shifted_0.6.csv'),\n",
    "    1.6: pd.read_csv('./datasets/test_data_shifted_1.6.csv')\n",
    "}\n",
    "\n",
    "# Select features to plot\n",
    "shift_features = ['Glucose', 'BMI', 'DiabetesPedigreeFunction']\n",
    "\n",
    "# Plot distributions\n",
    "for feature in shift_features:\n",
    "    plt.figure(figsize=(12, 8))\n",
    "    \n",
    "    # Plot original dataset distribution\n",
    "    sns.kdeplot(original_test[feature], label='Original', color='blue')\n",
    "    \n",
    "    # Plot shifted datasets distributions\n",
    "    for shift_magnitude, shifted_data in shifted_datasets.items():\n",
    "        sns.kdeplot(shifted_data[feature], label=f'Shift {shift_magnitude}', linestyle='--')\n",
    "    \n",
    "    plt.title(f'Distribution of {feature}')\n",
    "    plt.xlabel(feature)\n",
    "    plt.ylabel('Density')\n",
    "    plt.legend()\n",
    "    plt.show()\n"
   ]
  },
  {
   "cell_type": "markdown",
   "metadata": {},
   "source": [
    "## Running Detectron Experiment\n",
    "\n",
    "**Load Necessary Libraries and Modules**  \n",
    "\n",
    "We begin by importing the necessary libraries and modules required for managing datasets, models, and running the Detectron experiment.\n",
    "\n",
    "**Prepare Datasets Manager and Model Factory**  \n",
    "\n",
    "We set up the datasets manager to handle different datasets (training, validation, reference, and testing) and initialize the model factory to create models from pickled files. The base model manager is used to manage the loaded model.\n",
    "\n",
    "**Loop Through Each Shift Magnitude**  \n",
    "\n",
    "For each shift magnitude, we:\n",
    "1. Load the shifted test dataset.\n",
    "2. Set the shifted test dataset in the datasets manager.\n",
    "3. Run the Detectron experiment using the datasets and base model manager.\n",
    "4. Print and store the results of the Detectron analysis using different disagreement strategies (`DisagreementStrategy_MW`, `DisagreementStrategy_z_mean`, and `DisagreementStrategy`).\n"
   ]
  },
  {
   "cell_type": "code",
   "execution_count": 6,
   "metadata": {},
   "outputs": [
    {
     "name": "stderr",
     "output_type": "stream",
     "text": [
      "running seeds: 100%|██████████| 100/100 [00:11<00:00,  8.50it/s]\n"
     ]
    },
    {
     "name": "stdout",
     "output_type": "stream",
     "text": [
      "Detectron execution on reference set completed.\n"
     ]
    },
    {
     "name": "stderr",
     "output_type": "stream",
     "text": [
      "running seeds: 100%|██████████| 100/100 [00:13<00:00,  7.54it/s]\n"
     ]
    },
    {
     "name": "stdout",
     "output_type": "stream",
     "text": [
      "Detectron execution on testing set completed.\n",
      "Results for shift magnitude: 0.1\n",
      "{'power': 0.03, 'auc': 0.53035, 'N': 20}\n",
      "[{'Strategy': 'OriginalDisagreementStrategy',\n",
      "  'baseline_mean': 12.47,\n",
      "  'baseline_std': 1.920702996301094,\n",
      "  'p_value': 0.04,\n",
      "  'test_statistic': 7},\n",
      " {'Strategy': 'MannWhitneyStrategy',\n",
      "  'p_value': 0.22518291651155886,\n",
      "  'shift significance': 'Small',\n",
      "  'u_statistic': 4696.5,\n",
      "  'z-score': 0.08330283250878949},\n",
      " {'Strategy': 'EnhancedDisagreementStrategy',\n",
      "  'baseline_mean': 7.4,\n",
      "  'baseline_std': 1.2631530214330944,\n",
      "  'shift_probability': 0.5777777777777777,\n",
      "  'significance_description': {'large': 12.91358024691358,\n",
      "                               'moderate': 12.506172839506172,\n",
      "                               'no shift': 56.148148148148145,\n",
      "                               'small': 18.432098765432098},\n",
      "  'test_statistic': 7.6}]\n"
     ]
    },
    {
     "name": "stderr",
     "output_type": "stream",
     "text": [
      "running seeds: 100%|██████████| 100/100 [00:11<00:00,  8.97it/s]\n"
     ]
    },
    {
     "name": "stdout",
     "output_type": "stream",
     "text": [
      "Detectron execution on reference set completed.\n"
     ]
    },
    {
     "name": "stderr",
     "output_type": "stream",
     "text": [
      "running seeds: 100%|██████████| 100/100 [00:13<00:00,  7.47it/s]\n"
     ]
    },
    {
     "name": "stdout",
     "output_type": "stream",
     "text": [
      "Detectron execution on testing set completed.\n",
      "Results for shift magnitude: 0.6\n",
      "{'power': 0.21250000000000002, 'auc': 0.6681000000000001, 'N': 20}\n",
      "[{'Strategy': 'OriginalDisagreementStrategy',\n",
      "  'baseline_mean': 12.71,\n",
      "  'baseline_std': 1.8237050200073475,\n",
      "  'p_value': 0.02,\n",
      "  'test_statistic': 7},\n",
      " {'Strategy': 'MannWhitneyStrategy',\n",
      "  'p_value': 1.6597615361841453e-05,\n",
      "  'shift significance': 'Small',\n",
      "  'u_statistic': 3319.0,\n",
      "  'z-score': 0.6251010922782932},\n",
      " {'Strategy': 'EnhancedDisagreementStrategy',\n",
      "  'baseline_mean': 7.2444444444444445,\n",
      "  'baseline_std': 1.2230300360726236,\n",
      "  'shift_probability': 0.8555555555555555,\n",
      "  'significance_description': {'large': 30.925925925925924,\n",
      "                               'moderate': 17.40740740740741,\n",
      "                               'no shift': 36.098765432098766,\n",
      "                               'small': 15.567901234567902},\n",
      "  'test_statistic': 8.466666666666667}]\n"
     ]
    },
    {
     "name": "stderr",
     "output_type": "stream",
     "text": [
      "running seeds: 100%|██████████| 100/100 [00:10<00:00,  9.89it/s]\n"
     ]
    },
    {
     "name": "stdout",
     "output_type": "stream",
     "text": [
      "Detectron execution on reference set completed.\n"
     ]
    },
    {
     "name": "stderr",
     "output_type": "stream",
     "text": [
      "running seeds: 100%|██████████| 100/100 [00:12<00:00,  8.33it/s]\n"
     ]
    },
    {
     "name": "stdout",
     "output_type": "stream",
     "text": [
      "Detectron execution on testing set completed.\n",
      "Results for shift magnitude: 1.6\n",
      "{'power': 0.45666666666666667, 'auc': 0.81095, 'N': 20}\n",
      "[{'Strategy': 'OriginalDisagreementStrategy',\n",
      "  'baseline_mean': 12.69,\n",
      "  'baseline_std': 1.9062790981385698,\n",
      "  'p_value': 0.04,\n",
      "  'test_statistic': 8},\n",
      " {'Strategy': 'MannWhitneyStrategy',\n",
      "  'p_value': 8.227042449197139e-15,\n",
      "  'shift significance': 'Moderate',\n",
      "  'u_statistic': 1890.5,\n",
      "  'z-score': 1.24850553222978},\n",
      " {'Strategy': 'EnhancedDisagreementStrategy',\n",
      "  'baseline_mean': 7.222222222222222,\n",
      "  'baseline_std': 1.2541289830686633,\n",
      "  'shift_probability': 0.9777777777777777,\n",
      "  'significance_description': {'large': 52.20987654320987,\n",
      "                               'moderate': 16.82716049382716,\n",
      "                               'no shift': 17.80246913580247,\n",
      "                               'small': 13.160493827160494},\n",
      "  'test_statistic': 9.722222222222221}]\n"
     ]
    }
   ],
   "source": [
    "import sys\n",
    "import os\n",
    "\n",
    "sys.path.insert(0, os.path.abspath(os.path.join(os.getcwd(), '..')))\n",
    "\n",
    "from pprint import pprint\n",
    "from det3pa.datasets import DatasetsManager\n",
    "from det3pa.models import BaseModelManager, ModelFactory\n",
    "from det3pa.detectron import DetectronExperiment, MannWhitneyStrategy, OriginalDisagreementStrategy, EnhancedDisagreementStrategy\n",
    "import pandas as pd\n",
    "\n",
    "# Define different magnitudes of covariate shift to evaluate\n",
    "shift_magnitudes = [0.1, 0.6, 1.6]\n",
    "\n",
    "# Prepare datasets manager and model factory\n",
    "datasets = DatasetsManager()\n",
    "datasets.set_from_file(\"training\", \"./datasets/train_data.csv\", \"Outcome\")\n",
    "datasets.set_from_file(\"validation\", \"./datasets/val_data.csv\", \"Outcome\")\n",
    "datasets.set_from_file(\"reference\", \"./datasets/test_data.csv\", \"Outcome\")\n",
    "\n",
    "factory = ModelFactory()\n",
    "loaded_model = factory.create_model_from_pickled(\"./models/diabetes_xgb_model.pkl\")\n",
    "\n",
    "bm_manager = BaseModelManager()\n",
    "bm_manager.set_base_model(loaded_model) \n",
    "\n",
    "# Loop through each shift magnitude, read the shifted dataset, and execute Detectron experiment\n",
    "for shift_magnitude in shift_magnitudes:\n",
    "    # Load the shifted test set\n",
    "    shifted_test_file = f'./datasets/test_data_shifted_{shift_magnitude}.csv'\n",
    "    datasets.set_from_file(\"testing\", shifted_test_file, \"Outcome\")\n",
    "    \n",
    "    # Run Detectron experiment\n",
    "    detectron_results = DetectronExperiment.run(datasets=datasets, base_model_manager=bm_manager)\n",
    "    \n",
    "    # Print and store the results\n",
    "    print(f\"Results for shift magnitude: {shift_magnitude}\")\n",
    "    pprint(detectron_results.analyze_results([OriginalDisagreementStrategy, MannWhitneyStrategy, EnhancedDisagreementStrategy]))\n",
    "\n"
   ]
  },
  {
   "cell_type": "markdown",
   "metadata": {},
   "source": [
    "The experiment results are as follows : \n",
    "| Shift Magnitude| Original Disagreement Test results | Mann Whitney test results | Improved Disagreement results\n",
    "|----------|----------|----------|----------|\n",
    "| 0.1 | p-value : 0.04 | p-value: 0.22 <br> shift significanc: Small | shift probability: 0.57 <br> shift significance: 56% not significant, 18% small, 12% large and moderate |\n",
    "| 0.6 | p-value : 0.02 | p-value: 1.6e-5 <br> shift significanc: Small | shift probability: 0.85 <br> shift significance: 36% not significant shift, 30% large, 17% small, 15% moderate |\n",
    "| 1.6 | p-value : 0.04 | p-value: 8.2e-15 <br> shift significanc: Moderate | shift probability: 0.97 <br> shift significance: 52% Large, 17% modereate, 16% not significant, 13% small |"
   ]
  },
  {
   "cell_type": "markdown",
   "metadata": {},
   "source": [
    "## Conclusion\n",
    "The results of the Mann Whitney test and the improved disagreement test align better with the shift magnitude, indicating more nuanced and accurate assessments of shift significance. The improved disagreement test, in particular, provides a more comprehensive view by detailing the percentage of not significant, small, moderate, and large shifts."
   ]
  },
  {
   "cell_type": "markdown",
   "metadata": {},
   "source": [
    "## Shifted Profiles detection\n",
    "In this part of the notebook we will simulate a covariate shift on a specific profile from the test dataset, and then run the Med3paDetectron Experiment to detect the presence of a covariate shift in the profiles"
   ]
  },
  {
   "cell_type": "code",
   "execution_count": 7,
   "metadata": {},
   "outputs": [
    {
     "name": "stdout",
     "output_type": "stream",
     "text": [
      "   shift_magnitude  accuracy   roc_auc  log_loss\n",
      "0              0.1  0.724138  0.733355  0.611080\n",
      "1              0.6  0.741379  0.743071  0.602146\n",
      "2              1.6  0.715517  0.735903  0.598544\n"
     ]
    }
   ],
   "source": [
    "import pandas as pd\n",
    "import numpy as np\n",
    "from sklearn.preprocessing import StandardScaler\n",
    "from sklearn.metrics import accuracy_score, roc_auc_score, log_loss\n",
    "import xgboost as xgb\n",
    "import pickle\n",
    "\n",
    "# Load the dataset\n",
    "file_path = './datasets/test_data.csv'\n",
    "data = pd.read_csv(file_path)\n",
    "\n",
    "# Calculate the mode for the DiabetesPedigreeFunction feature\n",
    "mode_age = data['Age'].mode().iloc[0]\n",
    "\n",
    "\n",
    "# Define the condition for the most common DiabetesPedigreeFunction with a tolerance range\n",
    "condition_dpf = (\n",
    "    (data['Age'] > -0.47749535739421844) \n",
    ")\n",
    "# Extract the data based on the condition\n",
    "most_frequent_dpf = data[condition_dpf]\n",
    "# Extract the rest of the data\n",
    "rest_of_data = data[~condition_dpf]\n",
    "\n",
    "# Load the model\n",
    "with open('./models/diabetes_xgb_model.pkl', 'rb') as f:\n",
    "    bst = pickle.load(f)\n",
    "\n",
    "# Function to simulate covariate shift by adding noise\n",
    "def simulate_covariate_shift(X, shift_magnitude=0.5, shift_features=None):\n",
    "    np.random.seed(0)\n",
    "    if shift_features is None:\n",
    "        shift_features = X.columns\n",
    "    \n",
    "    X_shifted = X.copy()\n",
    "    for feature in shift_features:\n",
    "        shift = np.random.normal(loc=0, scale=shift_magnitude, size=X[feature].shape)\n",
    "        X_shifted[feature] += shift\n",
    "    \n",
    "    return X_shifted\n",
    "\n",
    "# Select features to shift (for example, 'Glucose', 'BMI', 'DiabetesPedigreeFunction')\n",
    "shift_features = ['Glucose', 'BMI', 'DiabetesPedigreeFunction']\n",
    "\n",
    "# Define different magnitudes of covariate shift to evaluate\n",
    "shift_magnitudes = [0.1, 0.6, 1.6]\n",
    "\n",
    "# Loop through each shift magnitude, simulate the covariate shift, and evaluate the model\n",
    "results = []\n",
    "\n",
    "# Assuming X_test and y_test are your test features and labels\n",
    "X = most_frequent_dpf.drop(columns='Outcome')\n",
    "y = most_frequent_dpf['Outcome']\n",
    "\n",
    "scaler = StandardScaler()\n",
    "X_scaled = scaler.fit_transform(X)\n",
    "\n",
    "for shift_magnitude in shift_magnitudes:\n",
    "    # Simulate covariate shift on the most frequent profile data\n",
    "    X_shifted = simulate_covariate_shift(pd.DataFrame(X_scaled, columns=X.columns), shift_magnitude=shift_magnitude, shift_features=shift_features)\n",
    "    \n",
    "    # Scale the shifted data\n",
    "    X_shifted_scaled = scaler.transform(X_shifted)\n",
    "    \n",
    "    # Combine the shifted data with the rest of the original data\n",
    "    X_shifted_df = pd.DataFrame(X_shifted_scaled, columns=X.columns).reset_index(drop=True)\n",
    "    y_shifted_df = y.reset_index(drop=True)\n",
    "    \n",
    "    shifted_profile_data = pd.concat([X_shifted_df, y_shifted_df], axis=1)\n",
    "    combined_data = pd.concat([shifted_profile_data, rest_of_data], ignore_index=True)\n",
    "    \n",
    "    # Save the combined data as a CSV file\n",
    "    combined_data.to_csv(f'./datasets/test_data_shifted_{shift_magnitude}_profiled.csv', index=False)\n",
    "    \n",
    "    # Evaluate the model on the combined data\n",
    "    dtest_combined = xgb.DMatrix(data=combined_data.drop(columns='Outcome'), label=combined_data['Outcome'])\n",
    "    preds_combined = bst.predict(dtest_combined)\n",
    "    predictions_combined = [round(value) for value in preds_combined]\n",
    "    \n",
    "    # Calculate evaluation metrics for the combined data\n",
    "    accuracy_combined = accuracy_score(combined_data['Outcome'], predictions_combined)\n",
    "    roc_auc_combined = roc_auc_score(combined_data['Outcome'], preds_combined)\n",
    "    logloss_combined = log_loss(combined_data['Outcome'], preds_combined)\n",
    "    \n",
    "    # Store the results\n",
    "    results.append({\n",
    "        'shift_magnitude': shift_magnitude,\n",
    "        'accuracy': accuracy_combined,\n",
    "        'roc_auc': roc_auc_combined,\n",
    "        'log_loss': logloss_combined\n",
    "    })\n",
    "\n",
    "# Convert the results to a DataFrame for easy viewing\n",
    "results_df = pd.DataFrame(results)\n",
    "print(results_df)\n"
   ]
  },
  {
   "cell_type": "markdown",
   "metadata": {},
   "source": [
    "In this part, we run the DetectronMed3pa Experiment. Which will build a tree of data profiles according to the confidence level of the model when predicting on these profiles. For each profile we run the detectron experiment to detect if any covariate shift is present."
   ]
  },
  {
   "cell_type": "code",
   "execution_count": 10,
   "metadata": {},
   "outputs": [
    {
     "name": "stdout",
     "output_type": "stream",
     "text": [
      "Running MED3pa Experiment on the reference set:\n",
      "IPC Model training completed.\n",
      "APC Model training completed.\n",
      "Confidence scores calculated for minimum_samples_ratio =  1\n",
      "Results extracted for minimum_samples_ratio =  1\n",
      "Running MED3pa Experiment on the reference set:\n",
      "IPC Model training completed.\n",
      "APC Model training completed.\n",
      "Confidence scores calculated for minimum_samples_ratio =  1\n",
      "Results extracted for minimum_samples_ratio =  1\n",
      "Running Global Detectron Experiment:\n"
     ]
    },
    {
     "name": "stderr",
     "output_type": "stream",
     "text": [
      "running seeds: 100%|██████████| 100/100 [00:10<00:00,  9.12it/s]\n"
     ]
    },
    {
     "name": "stdout",
     "output_type": "stream",
     "text": [
      "Detectron execution on reference set completed.\n"
     ]
    },
    {
     "name": "stderr",
     "output_type": "stream",
     "text": [
      "running seeds: 100%|██████████| 100/100 [00:10<00:00,  9.56it/s]\n"
     ]
    },
    {
     "name": "stdout",
     "output_type": "stream",
     "text": [
      "Detectron execution on testing set completed.\n",
      "Running Profiled Detectron Experiment:\n",
      "Running Detectron on Profile: *, Age <= -0.47749535739421844 & BloodPressure <= 0.4599476158618927 & BMI <= 0.0016282238066196442\n"
     ]
    },
    {
     "name": "stderr",
     "output_type": "stream",
     "text": [
      "running seeds: 100%|██████████| 100/100 [00:08<00:00, 12.29it/s]\n"
     ]
    },
    {
     "name": "stdout",
     "output_type": "stream",
     "text": [
      "Detectron execution on reference set completed.\n"
     ]
    },
    {
     "name": "stderr",
     "output_type": "stream",
     "text": [
      "running seeds: 100%|██████████| 100/100 [00:04<00:00, 24.11it/s]\n"
     ]
    },
    {
     "name": "stdout",
     "output_type": "stream",
     "text": [
      "Detectron execution on testing set completed.\n",
      "updated with {'Executed': 'Yes', 'Tested Profile size': 24, 'Tests Results': [{'shift_probability': 0.0, 'test_statistic': 0.0, 'baseline_mean': 3.6555555555555554, 'baseline_std': 1.4541978400563975, 'significance_description': {'no shift': 100.0, 'small': 0, 'moderate': 0, 'large': 0}, 'Strategy': 'EnhancedDisagreementStrategy'}]}\n",
      "Running Detectron on Profile: *, Age <= -0.47749535739421844 & BloodPressure <= 0.4599476158618927 & BMI > 0.0016282238066196442\n",
      "Calibration record on reference set provided, skipping Detectron execution on reference set.\n"
     ]
    },
    {
     "name": "stderr",
     "output_type": "stream",
     "text": [
      "running seeds: 100%|██████████| 100/100 [00:07<00:00, 13.41it/s]\n"
     ]
    },
    {
     "name": "stdout",
     "output_type": "stream",
     "text": [
      "Detectron execution on testing set completed.\n",
      "updated with {'Executed': 'Yes', 'Tested Profile size': 15, 'Tests Results': [{'shift_probability': 0.4888888888888889, 'test_statistic': 3.2555555555555555, 'baseline_mean': 3.6555555555555554, 'baseline_std': 1.4541978400563975, 'significance_description': {'no shift': 68.7037037037037, 'small': 18.62962962962963, 'moderate': 9.790123456790123, 'large': 2.8765432098765435}, 'Strategy': 'EnhancedDisagreementStrategy'}]}\n",
      "Running Detectron on Profile: *, Age <= -0.47749535739421844 & BloodPressure <= 0.4599476158618927\n",
      "Calibration record on reference set provided, skipping Detectron execution on reference set.\n"
     ]
    },
    {
     "name": "stderr",
     "output_type": "stream",
     "text": [
      "running seeds: 100%|██████████| 100/100 [00:06<00:00, 15.65it/s]\n"
     ]
    },
    {
     "name": "stdout",
     "output_type": "stream",
     "text": [
      "Detectron execution on testing set completed.\n",
      "updated with {'Executed': 'Yes', 'Tested Profile size': 39, 'Tests Results': [{'shift_probability': 0.05555555555555555, 'test_statistic': 1.2, 'baseline_mean': 3.6555555555555554, 'baseline_std': 1.4541978400563975, 'significance_description': {'no shift': 97.69135802469135, 'small': 2.185185185185185, 'moderate': 0.12345679012345678, 'large': 0}, 'Strategy': 'EnhancedDisagreementStrategy'}]}\n",
      "updated with {'Executed': 'Not enough samples in tested profile', 'Tested Profile size': 6, 'Tests Results': None}\n",
      "updated with {'Executed': 'Not enough samples in tested profile', 'Tested Profile size': 6, 'Tests Results': None}\n",
      "Running Detectron on Profile: *, Age <= -0.47749535739421844 & BloodPressure > 0.4599476158618927\n",
      "Calibration record on reference set provided, skipping Detectron execution on reference set.\n"
     ]
    },
    {
     "name": "stderr",
     "output_type": "stream",
     "text": [
      "running seeds: 100%|██████████| 100/100 [00:08<00:00, 12.31it/s]\n"
     ]
    },
    {
     "name": "stdout",
     "output_type": "stream",
     "text": [
      "Detectron execution on testing set completed.\n",
      "updated with {'Executed': 'Yes', 'Tested Profile size': 12, 'Tests Results': [{'shift_probability': 0.8333333333333334, 'test_statistic': 5.088888888888889, 'baseline_mean': 3.6555555555555554, 'baseline_std': 1.4541978400563975, 'significance_description': {'no shift': 28.271604938271604, 'small': 21.02469135802469, 'moderate': 23.728395061728396, 'large': 26.97530864197531}, 'Strategy': 'EnhancedDisagreementStrategy'}]}\n",
      "Running Detectron on Profile: *, Age <= -0.47749535739421844\n",
      "Calibration record on reference set provided, skipping Detectron execution on reference set.\n"
     ]
    },
    {
     "name": "stderr",
     "output_type": "stream",
     "text": [
      "running seeds: 100%|██████████| 100/100 [00:06<00:00, 15.32it/s]\n"
     ]
    },
    {
     "name": "stdout",
     "output_type": "stream",
     "text": [
      "Detectron execution on testing set completed.\n",
      "updated with {'Executed': 'Yes', 'Tested Profile size': 51, 'Tests Results': [{'shift_probability': 0.05555555555555555, 'test_statistic': 1.9333333333333333, 'baseline_mean': 3.6555555555555554, 'baseline_std': 1.4541978400563975, 'significance_description': {'no shift': 90.90123456790124, 'small': 7.432098765432099, 'moderate': 1.6666666666666667, 'large': 0}, 'Strategy': 'EnhancedDisagreementStrategy'}]}\n",
      "Running Detectron on Profile: *, Age > -0.47749535739421844 & DiabetesPedigreeFunction <= -0.5517899990081787 & BloodPressure <= 0.07272632140666246\n",
      "Calibration record on reference set provided, skipping Detectron execution on reference set.\n"
     ]
    },
    {
     "name": "stderr",
     "output_type": "stream",
     "text": [
      "running seeds: 100%|██████████| 100/100 [00:09<00:00, 10.63it/s]\n"
     ]
    },
    {
     "name": "stdout",
     "output_type": "stream",
     "text": [
      "Detectron execution on testing set completed.\n",
      "updated with {'Executed': 'Yes', 'Tested Profile size': 11, 'Tests Results': [{'shift_probability': 1.0, 'test_statistic': 7.288888888888889, 'baseline_mean': 3.6555555555555554, 'baseline_std': 1.4541978400563975, 'significance_description': {'no shift': 0, 'small': 11.851851851851853, 'moderate': 11.925925925925926, 'large': 76.22222222222223}, 'Strategy': 'EnhancedDisagreementStrategy'}]}\n",
      "Running Detectron on Profile: *, Age > -0.47749535739421844 & DiabetesPedigreeFunction <= -0.5517899990081787 & BloodPressure > 0.07272632140666246\n",
      "Calibration record on reference set provided, skipping Detectron execution on reference set.\n"
     ]
    },
    {
     "name": "stderr",
     "output_type": "stream",
     "text": [
      "running seeds: 100%|██████████| 100/100 [00:11<00:00,  8.50it/s]\n"
     ]
    },
    {
     "name": "stdout",
     "output_type": "stream",
     "text": [
      "Detectron execution on testing set completed.\n",
      "updated with {'Executed': 'Yes', 'Tested Profile size': 14, 'Tests Results': [{'shift_probability': 1.0, 'test_statistic': 7.722222222222222, 'baseline_mean': 3.6555555555555554, 'baseline_std': 1.4541978400563975, 'significance_description': {'no shift': 2.0, 'small': 6.111111111111111, 'moderate': 11.925925925925926, 'large': 79.96296296296296}, 'Strategy': 'EnhancedDisagreementStrategy'}]}\n",
      "Running Detectron on Profile: *, Age > -0.47749535739421844 & DiabetesPedigreeFunction <= -0.5517899990081787\n",
      "Calibration record on reference set provided, skipping Detectron execution on reference set.\n"
     ]
    },
    {
     "name": "stderr",
     "output_type": "stream",
     "text": [
      "running seeds: 100%|██████████| 100/100 [00:09<00:00, 10.11it/s]\n"
     ]
    },
    {
     "name": "stdout",
     "output_type": "stream",
     "text": [
      "Detectron execution on testing set completed.\n",
      "updated with {'Executed': 'Yes', 'Tested Profile size': 25, 'Tests Results': [{'shift_probability': 1.0, 'test_statistic': 7.4, 'baseline_mean': 3.6555555555555554, 'baseline_std': 1.4541978400563975, 'significance_description': {'no shift': 2.037037037037037, 'small': 10.481481481481483, 'moderate': 10.580246913580247, 'large': 76.90123456790123}, 'Strategy': 'EnhancedDisagreementStrategy'}]}\n",
      "Running Detectron on Profile: *, Age > -0.47749535739421844 & DiabetesPedigreeFunction > -0.5517899990081787 & DiabetesPedigreeFunction <= 1.5236715078353882\n",
      "Calibration record on reference set provided, skipping Detectron execution on reference set.\n"
     ]
    },
    {
     "name": "stderr",
     "output_type": "stream",
     "text": [
      "running seeds: 100%|██████████| 100/100 [00:10<00:00,  9.98it/s]\n"
     ]
    },
    {
     "name": "stdout",
     "output_type": "stream",
     "text": [
      "Detectron execution on testing set completed.\n",
      "updated with {'Executed': 'Yes', 'Tested Profile size': 34, 'Tests Results': [{'shift_probability': 0.4888888888888889, 'test_statistic': 3.8666666666666667, 'baseline_mean': 3.6555555555555554, 'baseline_std': 1.4541978400563975, 'significance_description': {'no shift': 55.74074074074075, 'small': 17.308641975308642, 'moderate': 13.975308641975309, 'large': 12.975308641975309}, 'Strategy': 'EnhancedDisagreementStrategy'}]}\n",
      "updated with {'Executed': 'Not enough samples in tested profile', 'Tested Profile size': 6, 'Tests Results': None}\n",
      "Running Detectron on Profile: *, Age > -0.47749535739421844 & DiabetesPedigreeFunction > -0.5517899990081787\n",
      "Calibration record on reference set provided, skipping Detectron execution on reference set.\n"
     ]
    },
    {
     "name": "stderr",
     "output_type": "stream",
     "text": [
      "running seeds: 100%|██████████| 100/100 [00:10<00:00,  9.98it/s]\n"
     ]
    },
    {
     "name": "stdout",
     "output_type": "stream",
     "text": [
      "Detectron execution on testing set completed.\n",
      "updated with {'Executed': 'Yes', 'Tested Profile size': 40, 'Tests Results': [{'shift_probability': 0.7333333333333333, 'test_statistic': 4.211111111111111, 'baseline_mean': 3.6555555555555554, 'baseline_std': 1.4541978400563975, 'significance_description': {'no shift': 46.901234567901234, 'small': 17.358024691358025, 'moderate': 17.074074074074076, 'large': 18.666666666666668}, 'Strategy': 'EnhancedDisagreementStrategy'}]}\n",
      "Running Detectron on Profile: *, Age > -0.47749535739421844\n",
      "Calibration record on reference set provided, skipping Detectron execution on reference set.\n"
     ]
    },
    {
     "name": "stderr",
     "output_type": "stream",
     "text": [
      "running seeds: 100%|██████████| 100/100 [00:10<00:00,  9.53it/s]\n"
     ]
    },
    {
     "name": "stdout",
     "output_type": "stream",
     "text": [
      "Detectron execution on testing set completed.\n",
      "updated with {'Executed': 'Yes', 'Tested Profile size': 65, 'Tests Results': [{'shift_probability': 0.8333333333333334, 'test_statistic': 5.777777777777778, 'baseline_mean': 3.6555555555555554, 'baseline_std': 1.4541978400563975, 'significance_description': {'no shift': 20.641975308641975, 'small': 15.54320987654321, 'moderate': 19.024691358024693, 'large': 44.79012345679012}, 'Strategy': 'EnhancedDisagreementStrategy'}]}\n",
      "Running Detectron on Profile: *, \n",
      "Calibration record on reference set provided, skipping Detectron execution on reference set.\n"
     ]
    },
    {
     "name": "stderr",
     "output_type": "stream",
     "text": [
      "running seeds: 100%|██████████| 100/100 [00:09<00:00, 11.02it/s]\n"
     ]
    },
    {
     "name": "stdout",
     "output_type": "stream",
     "text": [
      "Detectron execution on testing set completed.\n",
      "updated with {'Executed': 'Yes', 'Tested Profile size': 116, 'Tests Results': [{'shift_probability': 0.4888888888888889, 'test_statistic': 3.811111111111111, 'baseline_mean': 3.6555555555555554, 'baseline_std': 1.4541978400563975, 'significance_description': {'no shift': 56.358024691358025, 'small': 17.358024691358025, 'moderate': 13.185185185185185, 'large': 13.098765432098766}, 'Strategy': 'EnhancedDisagreementStrategy'}]}\n",
      "Running MED3pa Experiment on the reference set:\n",
      "IPC Model training completed.\n",
      "APC Model training completed.\n",
      "Confidence scores calculated for minimum_samples_ratio =  1\n",
      "Results extracted for minimum_samples_ratio =  1\n",
      "Running MED3pa Experiment on the reference set:\n",
      "IPC Model training completed.\n",
      "APC Model training completed.\n",
      "Confidence scores calculated for minimum_samples_ratio =  1\n",
      "Results extracted for minimum_samples_ratio =  1\n",
      "Running Global Detectron Experiment:\n"
     ]
    },
    {
     "name": "stderr",
     "output_type": "stream",
     "text": [
      "running seeds: 100%|██████████| 100/100 [00:09<00:00, 10.12it/s]\n"
     ]
    },
    {
     "name": "stdout",
     "output_type": "stream",
     "text": [
      "Detectron execution on reference set completed.\n"
     ]
    },
    {
     "name": "stderr",
     "output_type": "stream",
     "text": [
      "running seeds: 100%|██████████| 100/100 [00:11<00:00,  8.54it/s]\n"
     ]
    },
    {
     "name": "stdout",
     "output_type": "stream",
     "text": [
      "Detectron execution on testing set completed.\n",
      "Running Profiled Detectron Experiment:\n",
      "Running Detectron on Profile: *, Age <= -0.47749535739421844 & BloodPressure <= 0.4599476158618927 & BMI <= -0.006243214942514896\n"
     ]
    },
    {
     "name": "stderr",
     "output_type": "stream",
     "text": [
      "running seeds: 100%|██████████| 100/100 [00:08<00:00, 12.26it/s]\n"
     ]
    },
    {
     "name": "stdout",
     "output_type": "stream",
     "text": [
      "Detectron execution on reference set completed.\n"
     ]
    },
    {
     "name": "stderr",
     "output_type": "stream",
     "text": [
      "running seeds: 100%|██████████| 100/100 [00:04<00:00, 20.26it/s]\n"
     ]
    },
    {
     "name": "stdout",
     "output_type": "stream",
     "text": [
      "Detectron execution on testing set completed.\n",
      "updated with {'Executed': 'Yes', 'Tested Profile size': 24, 'Tests Results': [{'shift_probability': 0.0, 'test_statistic': 0.4222222222222222, 'baseline_mean': 3.6555555555555554, 'baseline_std': 1.4541978400563975, 'significance_description': {'no shift': 100.0, 'small': 0, 'moderate': 0, 'large': 0}, 'Strategy': 'EnhancedDisagreementStrategy'}]}\n",
      "Running Detectron on Profile: *, Age <= -0.47749535739421844 & BloodPressure <= 0.4599476158618927 & BMI > -0.006243214942514896\n",
      "Calibration record on reference set provided, skipping Detectron execution on reference set.\n"
     ]
    },
    {
     "name": "stderr",
     "output_type": "stream",
     "text": [
      "running seeds: 100%|██████████| 100/100 [00:09<00:00, 10.92it/s]\n"
     ]
    },
    {
     "name": "stdout",
     "output_type": "stream",
     "text": [
      "Detectron execution on testing set completed.\n",
      "updated with {'Executed': 'Yes', 'Tested Profile size': 15, 'Tests Results': [{'shift_probability': 0.7333333333333333, 'test_statistic': 4.377777777777778, 'baseline_mean': 3.6555555555555554, 'baseline_std': 1.4541978400563975, 'significance_description': {'no shift': 43.45679012345679, 'small': 21.62962962962963, 'moderate': 19.012345679012345, 'large': 15.901234567901234}, 'Strategy': 'EnhancedDisagreementStrategy'}]}\n",
      "Running Detectron on Profile: *, Age <= -0.47749535739421844 & BloodPressure <= 0.4599476158618927\n",
      "Calibration record on reference set provided, skipping Detectron execution on reference set.\n"
     ]
    },
    {
     "name": "stderr",
     "output_type": "stream",
     "text": [
      "running seeds: 100%|██████████| 100/100 [00:06<00:00, 14.80it/s]\n"
     ]
    },
    {
     "name": "stdout",
     "output_type": "stream",
     "text": [
      "Detectron execution on testing set completed.\n",
      "updated with {'Executed': 'Yes', 'Tested Profile size': 39, 'Tests Results': [{'shift_probability': 0.05555555555555555, 'test_statistic': 1.711111111111111, 'baseline_mean': 3.6555555555555554, 'baseline_std': 1.4541978400563975, 'significance_description': {'no shift': 92.28395061728395, 'small': 6.172839506172839, 'moderate': 1.5432098765432098, 'large': 0}, 'Strategy': 'EnhancedDisagreementStrategy'}]}\n",
      "updated with {'Executed': 'Not enough samples in tested profile', 'Tested Profile size': 7, 'Tests Results': None}\n",
      "updated with {'Executed': 'Not enough samples in tested profile', 'Tested Profile size': 5, 'Tests Results': None}\n",
      "Running Detectron on Profile: *, Age <= -0.47749535739421844 & BloodPressure > 0.4599476158618927\n",
      "Calibration record on reference set provided, skipping Detectron execution on reference set.\n"
     ]
    },
    {
     "name": "stderr",
     "output_type": "stream",
     "text": [
      "running seeds: 100%|██████████| 100/100 [00:10<00:00,  9.30it/s]\n"
     ]
    },
    {
     "name": "stdout",
     "output_type": "stream",
     "text": [
      "Detectron execution on testing set completed.\n",
      "updated with {'Executed': 'Yes', 'Tested Profile size': 12, 'Tests Results': [{'shift_probability': 0.8333333333333334, 'test_statistic': 5.7, 'baseline_mean': 3.6555555555555554, 'baseline_std': 1.4541978400563975, 'significance_description': {'no shift': 18.851851851851855, 'small': 16.913580246913583, 'moderate': 23.14814814814815, 'large': 41.08641975308642}, 'Strategy': 'EnhancedDisagreementStrategy'}]}\n",
      "Running Detectron on Profile: *, Age <= -0.47749535739421844\n",
      "Calibration record on reference set provided, skipping Detectron execution on reference set.\n"
     ]
    },
    {
     "name": "stderr",
     "output_type": "stream",
     "text": [
      "running seeds: 100%|██████████| 100/100 [00:08<00:00, 12.09it/s]\n"
     ]
    },
    {
     "name": "stdout",
     "output_type": "stream",
     "text": [
      "Detectron execution on testing set completed.\n",
      "updated with {'Executed': 'Yes', 'Tested Profile size': 51, 'Tests Results': [{'shift_probability': 0.23333333333333334, 'test_statistic': 2.6666666666666665, 'baseline_mean': 3.6555555555555554, 'baseline_std': 1.4541978400563975, 'significance_description': {'no shift': 80.2962962962963, 'small': 13.604938271604938, 'moderate': 5.234567901234568, 'large': 0.8641975308641975}, 'Strategy': 'EnhancedDisagreementStrategy'}]}\n",
      "updated with {'Executed': 'Not enough samples in tested profile', 'Tested Profile size': 3, 'Tests Results': None}\n",
      "updated with {'Executed': 'Not enough samples in tested profile', 'Tested Profile size': 2, 'Tests Results': None}\n",
      "updated with {'Executed': 'Not enough samples in tested profile', 'Tested Profile size': 5, 'Tests Results': None}\n",
      "updated with {'Executed': 'Not enough samples in tested profile', 'Tested Profile size': 7, 'Tests Results': None}\n",
      "Running Detectron on Profile: *, Age > -0.47749535739421844 & Glucose > -1.1047597527503967 & BMI > -0.6403318643569946\n",
      "Calibration record on reference set provided, skipping Detectron execution on reference set.\n"
     ]
    },
    {
     "name": "stderr",
     "output_type": "stream",
     "text": [
      "running seeds: 100%|██████████| 100/100 [00:11<00:00,  8.91it/s]\n"
     ]
    },
    {
     "name": "stdout",
     "output_type": "stream",
     "text": [
      "Detectron execution on testing set completed.\n",
      "updated with {'Executed': 'Yes', 'Tested Profile size': 53, 'Tests Results': [{'shift_probability': 1.0, 'test_statistic': 6.4222222222222225, 'baseline_mean': 3.6555555555555554, 'baseline_std': 1.4541978400563975, 'significance_description': {'no shift': 13.234567901234568, 'small': 13.604938271604938, 'moderate': 16.97530864197531, 'large': 56.18518518518518}, 'Strategy': 'EnhancedDisagreementStrategy'}]}\n",
      "Running Detectron on Profile: *, Age > -0.47749535739421844 & Glucose > -1.1047597527503967\n",
      "Calibration record on reference set provided, skipping Detectron execution on reference set.\n"
     ]
    },
    {
     "name": "stderr",
     "output_type": "stream",
     "text": [
      "running seeds: 100%|██████████| 100/100 [00:10<00:00,  9.13it/s]\n"
     ]
    },
    {
     "name": "stdout",
     "output_type": "stream",
     "text": [
      "Detectron execution on testing set completed.\n",
      "updated with {'Executed': 'Yes', 'Tested Profile size': 60, 'Tests Results': [{'shift_probability': 1.0, 'test_statistic': 6.177777777777778, 'baseline_mean': 3.6555555555555554, 'baseline_std': 1.4541978400563975, 'significance_description': {'no shift': 15.135802469135804, 'small': 15.88888888888889, 'moderate': 17.567901234567902, 'large': 51.40740740740741}, 'Strategy': 'EnhancedDisagreementStrategy'}]}\n",
      "Running Detectron on Profile: *, Age > -0.47749535739421844\n",
      "Calibration record on reference set provided, skipping Detectron execution on reference set.\n"
     ]
    },
    {
     "name": "stderr",
     "output_type": "stream",
     "text": [
      "running seeds: 100%|██████████| 100/100 [00:11<00:00,  8.60it/s]\n"
     ]
    },
    {
     "name": "stdout",
     "output_type": "stream",
     "text": [
      "Detectron execution on testing set completed.\n",
      "updated with {'Executed': 'Yes', 'Tested Profile size': 65, 'Tests Results': [{'shift_probability': 1.0, 'test_statistic': 6.177777777777778, 'baseline_mean': 3.6555555555555554, 'baseline_std': 1.4541978400563975, 'significance_description': {'no shift': 15.308641975308642, 'small': 15.493827160493828, 'moderate': 16.76543209876543, 'large': 52.4320987654321}, 'Strategy': 'EnhancedDisagreementStrategy'}]}\n",
      "Running Detectron on Profile: *, \n",
      "Calibration record on reference set provided, skipping Detectron execution on reference set.\n"
     ]
    },
    {
     "name": "stderr",
     "output_type": "stream",
     "text": [
      "running seeds: 100%|██████████| 100/100 [00:10<00:00,  9.71it/s]\n"
     ]
    },
    {
     "name": "stdout",
     "output_type": "stream",
     "text": [
      "Detectron execution on testing set completed.\n",
      "updated with {'Executed': 'Yes', 'Tested Profile size': 116, 'Tests Results': [{'shift_probability': 0.7333333333333333, 'test_statistic': 4.411111111111111, 'baseline_mean': 3.6555555555555554, 'baseline_std': 1.4541978400563975, 'significance_description': {'no shift': 45.80246913580247, 'small': 18.19753086419753, 'moderate': 14.506172839506174, 'large': 21.49382716049383}, 'Strategy': 'EnhancedDisagreementStrategy'}]}\n",
      "Running MED3pa Experiment on the reference set:\n",
      "IPC Model training completed.\n",
      "APC Model training completed.\n",
      "Confidence scores calculated for minimum_samples_ratio =  1\n",
      "Results extracted for minimum_samples_ratio =  1\n",
      "Running MED3pa Experiment on the reference set:\n",
      "IPC Model training completed.\n",
      "APC Model training completed.\n",
      "Confidence scores calculated for minimum_samples_ratio =  1\n",
      "Results extracted for minimum_samples_ratio =  1\n",
      "Running Global Detectron Experiment:\n"
     ]
    },
    {
     "name": "stderr",
     "output_type": "stream",
     "text": [
      "running seeds: 100%|██████████| 100/100 [00:09<00:00, 10.31it/s]\n"
     ]
    },
    {
     "name": "stdout",
     "output_type": "stream",
     "text": [
      "Detectron execution on reference set completed.\n"
     ]
    },
    {
     "name": "stderr",
     "output_type": "stream",
     "text": [
      "running seeds: 100%|██████████| 100/100 [00:11<00:00,  9.01it/s]\n"
     ]
    },
    {
     "name": "stdout",
     "output_type": "stream",
     "text": [
      "Detectron execution on testing set completed.\n",
      "Running Profiled Detectron Experiment:\n",
      "Running Detectron on Profile: *, Age <= -0.47749535739421844 & BloodPressure <= 0.6258995831012726 & BMI <= -0.11787476763129234\n"
     ]
    },
    {
     "name": "stderr",
     "output_type": "stream",
     "text": [
      "running seeds: 100%|██████████| 100/100 [00:08<00:00, 12.05it/s]\n"
     ]
    },
    {
     "name": "stdout",
     "output_type": "stream",
     "text": [
      "Detectron execution on reference set completed.\n"
     ]
    },
    {
     "name": "stderr",
     "output_type": "stream",
     "text": [
      "running seeds: 100%|██████████| 100/100 [00:06<00:00, 16.21it/s]\n"
     ]
    },
    {
     "name": "stdout",
     "output_type": "stream",
     "text": [
      "Detectron execution on testing set completed.\n",
      "updated with {'Executed': 'Yes', 'Tested Profile size': 22, 'Tests Results': [{'shift_probability': 0.0, 'test_statistic': 0.5777777777777777, 'baseline_mean': 3.6555555555555554, 'baseline_std': 1.4541978400563975, 'significance_description': {'no shift': 99.38271604938271, 'small': 0.6172839506172839, 'moderate': 0, 'large': 0}, 'Strategy': 'EnhancedDisagreementStrategy'}]}\n",
      "Running Detectron on Profile: *, Age <= -0.47749535739421844 & BloodPressure <= 0.6258995831012726 & BMI > -0.11787476763129234\n",
      "Calibration record on reference set provided, skipping Detectron execution on reference set.\n"
     ]
    },
    {
     "name": "stderr",
     "output_type": "stream",
     "text": [
      "running seeds: 100%|██████████| 100/100 [00:10<00:00,  9.34it/s]\n"
     ]
    },
    {
     "name": "stdout",
     "output_type": "stream",
     "text": [
      "Detectron execution on testing set completed.\n",
      "updated with {'Executed': 'Yes', 'Tested Profile size': 18, 'Tests Results': [{'shift_probability': 0.7333333333333333, 'test_statistic': 4.955555555555556, 'baseline_mean': 3.6555555555555554, 'baseline_std': 1.4541978400563975, 'significance_description': {'no shift': 31.320987654320987, 'small': 20.938271604938272, 'moderate': 22.88888888888889, 'large': 24.85185185185185}, 'Strategy': 'EnhancedDisagreementStrategy'}]}\n",
      "Running Detectron on Profile: *, Age <= -0.47749535739421844 & BloodPressure <= 0.6258995831012726\n",
      "Calibration record on reference set provided, skipping Detectron execution on reference set.\n"
     ]
    },
    {
     "name": "stderr",
     "output_type": "stream",
     "text": [
      "running seeds: 100%|██████████| 100/100 [00:08<00:00, 12.09it/s]\n"
     ]
    },
    {
     "name": "stdout",
     "output_type": "stream",
     "text": [
      "Detectron execution on testing set completed.\n",
      "updated with {'Executed': 'Yes', 'Tested Profile size': 40, 'Tests Results': [{'shift_probability': 0.23333333333333334, 'test_statistic': 2.3666666666666667, 'baseline_mean': 3.6555555555555554, 'baseline_std': 1.4541978400563975, 'significance_description': {'no shift': 86.0246913580247, 'small': 11.074074074074074, 'moderate': 2.9012345679012346, 'large': 0}, 'Strategy': 'EnhancedDisagreementStrategy'}]}\n",
      "Running Detectron on Profile: *, Age <= -0.47749535739421844 & BloodPressure > 0.6258995831012726 & DiabetesPedigreeFunction <= 4.561587452888489\n",
      "Calibration record on reference set provided, skipping Detectron execution on reference set.\n"
     ]
    },
    {
     "name": "stderr",
     "output_type": "stream",
     "text": [
      "running seeds: 100%|██████████| 100/100 [00:09<00:00, 10.11it/s]\n"
     ]
    },
    {
     "name": "stdout",
     "output_type": "stream",
     "text": [
      "Detectron execution on testing set completed.\n",
      "updated with {'Executed': 'Yes', 'Tested Profile size': 10, 'Tests Results': [{'shift_probability': 0.8333333333333334, 'test_statistic': 6.0, 'baseline_mean': 3.6555555555555554, 'baseline_std': 1.4541978400563975, 'significance_description': {'no shift': 16.666666666666664, 'small': 10.0, 'moderate': 24.444444444444443, 'large': 48.888888888888886}, 'Strategy': 'EnhancedDisagreementStrategy'}]}\n",
      "Running Detectron on Profile: *, Age <= -0.47749535739421844 & BloodPressure > 0.6258995831012726\n",
      "Calibration record on reference set provided, skipping Detectron execution on reference set.\n"
     ]
    },
    {
     "name": "stderr",
     "output_type": "stream",
     "text": [
      "running seeds: 100%|██████████| 100/100 [00:11<00:00,  8.98it/s]\n"
     ]
    },
    {
     "name": "stdout",
     "output_type": "stream",
     "text": [
      "Detectron execution on testing set completed.\n",
      "updated with {'Executed': 'Yes', 'Tested Profile size': 11, 'Tests Results': [{'shift_probability': 0.8333333333333334, 'test_statistic': 5.6, 'baseline_mean': 3.6555555555555554, 'baseline_std': 1.4541978400563975, 'significance_description': {'no shift': 20.25925925925926, 'small': 18.14814814814815, 'moderate': 22.814814814814817, 'large': 38.77777777777778}, 'Strategy': 'EnhancedDisagreementStrategy'}]}\n",
      "Running Detectron on Profile: *, Age <= -0.47749535739421844\n",
      "Calibration record on reference set provided, skipping Detectron execution on reference set.\n"
     ]
    },
    {
     "name": "stderr",
     "output_type": "stream",
     "text": [
      "running seeds: 100%|██████████| 100/100 [00:08<00:00, 12.06it/s]\n"
     ]
    },
    {
     "name": "stdout",
     "output_type": "stream",
     "text": [
      "Detectron execution on testing set completed.\n",
      "updated with {'Executed': 'Yes', 'Tested Profile size': 51, 'Tests Results': [{'shift_probability': 0.23333333333333334, 'test_statistic': 2.8444444444444446, 'baseline_mean': 3.6555555555555554, 'baseline_std': 1.4541978400563975, 'significance_description': {'no shift': 76.30864197530865, 'small': 14.790123456790125, 'moderate': 6.962962962962963, 'large': 1.9382716049382713}, 'Strategy': 'EnhancedDisagreementStrategy'}]}\n",
      "updated with {'Executed': 'Not enough samples in tested profile', 'Tested Profile size': 6, 'Tests Results': None}\n",
      "updated with {'Executed': 'Not enough samples in tested profile', 'Tested Profile size': 5, 'Tests Results': None}\n",
      "Running Detectron on Profile: *, Age > -0.47749535739421844 & Glucose <= -0.5681067705154419\n",
      "Calibration record on reference set provided, skipping Detectron execution on reference set.\n"
     ]
    },
    {
     "name": "stderr",
     "output_type": "stream",
     "text": [
      "running seeds: 100%|██████████| 100/100 [00:09<00:00, 10.07it/s]\n"
     ]
    },
    {
     "name": "stdout",
     "output_type": "stream",
     "text": [
      "Detectron execution on testing set completed.\n",
      "updated with {'Executed': 'Yes', 'Tested Profile size': 11, 'Tests Results': [{'shift_probability': 0.7333333333333333, 'test_statistic': 4.1, 'baseline_mean': 3.6555555555555554, 'baseline_std': 1.4541978400563975, 'significance_description': {'no shift': 49.54320987654321, 'small': 22.97530864197531, 'moderate': 17.22222222222222, 'large': 10.25925925925926}, 'Strategy': 'EnhancedDisagreementStrategy'}]}\n",
      "Running Detectron on Profile: *, Age > -0.47749535739421844 & Glucose > -0.5681067705154419 & DiabetesPedigreeFunction <= 2.236921191215515\n",
      "Calibration record on reference set provided, skipping Detectron execution on reference set.\n"
     ]
    },
    {
     "name": "stderr",
     "output_type": "stream",
     "text": [
      "running seeds: 100%|██████████| 100/100 [00:11<00:00,  8.50it/s]\n"
     ]
    },
    {
     "name": "stdout",
     "output_type": "stream",
     "text": [
      "Detectron execution on testing set completed.\n",
      "updated with {'Executed': 'Yes', 'Tested Profile size': 35, 'Tests Results': [{'shift_probability': 1.0, 'test_statistic': 7.4, 'baseline_mean': 3.6555555555555554, 'baseline_std': 1.4541978400563975, 'significance_description': {'no shift': 2.9629629629629632, 'small': 9.555555555555555, 'moderate': 11.975308641975309, 'large': 75.50617283950616}, 'Strategy': 'EnhancedDisagreementStrategy'}]}\n",
      "Running Detectron on Profile: *, Age > -0.47749535739421844 & Glucose > -0.5681067705154419 & DiabetesPedigreeFunction > 2.236921191215515\n",
      "Calibration record on reference set provided, skipping Detectron execution on reference set.\n"
     ]
    },
    {
     "name": "stderr",
     "output_type": "stream",
     "text": [
      "running seeds: 100%|██████████| 100/100 [00:09<00:00, 10.47it/s]\n"
     ]
    },
    {
     "name": "stdout",
     "output_type": "stream",
     "text": [
      "Detectron execution on testing set completed.\n",
      "updated with {'Executed': 'Yes', 'Tested Profile size': 19, 'Tests Results': [{'shift_probability': 1.0, 'test_statistic': 8.4, 'baseline_mean': 3.6555555555555554, 'baseline_std': 1.4541978400563975, 'significance_description': {'no shift': 0, 'small': 5.0, 'moderate': 6.148148148148149, 'large': 88.85185185185185}, 'Strategy': 'EnhancedDisagreementStrategy'}]}\n",
      "Running Detectron on Profile: *, Age > -0.47749535739421844 & Glucose > -0.5681067705154419\n",
      "Calibration record on reference set provided, skipping Detectron execution on reference set.\n"
     ]
    },
    {
     "name": "stderr",
     "output_type": "stream",
     "text": [
      "running seeds: 100%|██████████| 100/100 [00:10<00:00,  9.87it/s]\n"
     ]
    },
    {
     "name": "stdout",
     "output_type": "stream",
     "text": [
      "Detectron execution on testing set completed.\n",
      "updated with {'Executed': 'Yes', 'Tested Profile size': 54, 'Tests Results': [{'shift_probability': 1.0, 'test_statistic': 7.7444444444444445, 'baseline_mean': 3.6555555555555554, 'baseline_std': 1.4541978400563975, 'significance_description': {'no shift': 4.444444444444445, 'small': 6.839506172839506, 'moderate': 11.135802469135802, 'large': 77.58024691358024}, 'Strategy': 'EnhancedDisagreementStrategy'}]}\n",
      "Running Detectron on Profile: *, Age > -0.47749535739421844\n",
      "Calibration record on reference set provided, skipping Detectron execution on reference set.\n"
     ]
    },
    {
     "name": "stderr",
     "output_type": "stream",
     "text": [
      "running seeds: 100%|██████████| 100/100 [00:10<00:00,  9.53it/s]\n"
     ]
    },
    {
     "name": "stdout",
     "output_type": "stream",
     "text": [
      "Detectron execution on testing set completed.\n",
      "updated with {'Executed': 'Yes', 'Tested Profile size': 65, 'Tests Results': [{'shift_probability': 1.0, 'test_statistic': 7.266666666666667, 'baseline_mean': 3.6555555555555554, 'baseline_std': 1.4541978400563975, 'significance_description': {'no shift': 6.555555555555556, 'small': 10.246913580246913, 'moderate': 13.839506172839505, 'large': 69.35802469135803}, 'Strategy': 'EnhancedDisagreementStrategy'}]}\n",
      "Running Detectron on Profile: *, \n",
      "Calibration record on reference set provided, skipping Detectron execution on reference set.\n"
     ]
    },
    {
     "name": "stderr",
     "output_type": "stream",
     "text": [
      "running seeds: 100%|██████████| 100/100 [00:09<00:00, 10.82it/s]\n"
     ]
    },
    {
     "name": "stdout",
     "output_type": "stream",
     "text": [
      "Detectron execution on testing set completed.\n",
      "updated with {'Executed': 'Yes', 'Tested Profile size': 116, 'Tests Results': [{'shift_probability': 0.8333333333333334, 'test_statistic': 5.033333333333333, 'baseline_mean': 3.6555555555555554, 'baseline_std': 1.4541978400563975, 'significance_description': {'no shift': 33.839506172839506, 'small': 18.28395061728395, 'moderate': 18.02469135802469, 'large': 29.85185185185185}, 'Strategy': 'EnhancedDisagreementStrategy'}]}\n"
     ]
    }
   ],
   "source": [
    "import sys\n",
    "import os\n",
    "\n",
    "sys.path.insert(0, os.path.abspath(os.path.join(os.getcwd(), '..')))\n",
    "\n",
    "from pprint import pprint\n",
    "from det3pa.datasets import DatasetsManager\n",
    "from det3pa.models import BaseModelManager, ModelFactory\n",
    "from det3pa.med3pa import Med3paDetectronExperiment\n",
    "from det3pa.detectron.strategies import *\n",
    "import pandas as pd\n",
    "\n",
    "# Define different magnitudes of covariate shift to evaluate\n",
    "shift_magnitudes = [0.1, 0.6, 1.6]\n",
    "\n",
    "# Prepare datasets manager and model factory\n",
    "datasets = DatasetsManager()\n",
    "datasets.set_from_file(\"training\", \"./datasets/train_data.csv\", \"Outcome\")\n",
    "datasets.set_from_file(\"validation\", \"./datasets/val_data.csv\", \"Outcome\")\n",
    "datasets.set_from_file(\"reference\", \"./datasets/test_data.csv\", \"Outcome\")\n",
    "\n",
    "factory = ModelFactory()\n",
    "loaded_model = factory.create_model_from_pickled(\"./models/diabetes_xgb_model.pkl\")\n",
    "\n",
    "bm_manager = BaseModelManager()\n",
    "#bm_manager.set_base_model(loaded_model) \n",
    "\n",
    "# Loop through each shift magnitude, read the shifted dataset, and execute Detectron experiment\n",
    "for shift_magnitude in shift_magnitudes:\n",
    "    # Load the shifted test set\n",
    "    shifted_test_file = f'./datasets/test_data_shifted_{shift_magnitude}.csv'\n",
    "    datasets.set_from_file(\"testing\", shifted_test_file, \"Outcome\")\n",
    "    \n",
    "    # Run Detectron experiment\n",
    "    ref_results, test_results, detectron_results = Med3paDetectronExperiment.run(datasets=datasets, base_model_manager=bm_manager, samples_ratio_min=1, samples_ratio_max=1, samples_ratio_step=2)\n",
    "\n",
    "    ref_path = f'./results/med3pa_reference_set_results_profiles_{shift_magnitude}_ref'\n",
    "    test_path = f'./results/med3pa_test_set_results_profiles_{shift_magnitude}_ref'\n",
    "    detectron_path = f'./results/detectron_results_profiles_{shift_magnitude}_ref'\n",
    "\n",
    "    ref_results.save(ref_path)\n",
    "    test_results.save(test_path)\n",
    "    detectron_results.save(detectron_path)\n"
   ]
  },
  {
   "cell_type": "markdown",
   "metadata": {},
   "source": [
    "## Detectron Experiment Results\n",
    "\n",
    "### Results for Each Shift Magnitude\n",
    "\n",
    "**Shift Magnitude : 0.1**\n",
    "\n",
    "| Profile | AUC  | Accuracy | Shift Probability | Significance Distribution                                |\n",
    "|---------|------|----------|-------------------|---------------------------------------------------------|\n",
    "| Non-Shifted (Age <= -0.47749535739421844) | 0.8341 | 0.8431   | 0.0556            | Insignificant: 90.90%, Small: 7.43%, Moderate: 1.67%, Large: 0%          |\n",
    "| Shifted (Age > -0.47749535739421844)  | 0.7604 | 0.7231   | 0.8333            | Insignificant: 20.64%, Small: 15.54%, Moderate: 19.02%, Large: 44.79%    |\n",
    "\n",
    "At a small shift magnitude of 0.1, the non-shifted profile shows high AUC and accuracy, and a low shift probability (5.56%), indicating no significant shift. In contrast, the shifted profile exhibits a noticeable drop in AUC and accuracy, with a high shift probability (83.33%) and a substantial portion of the data experiencing a large shift.\n",
    "\n",
    "**Shift Magnitude : 0.6**\n",
    "\n",
    "| Profile | AUC  | Accuracy | Shift Probability | Significance Distribution                                |\n",
    "|---------|------|----------|-------------------|---------------------------------------------------------|\n",
    "| Non-Shifted (Age <= -0.47749535739421844) | 0.8182 | 0.8431   | 0.2333            | Insignificant: 80.30%, Small: 13.60%, Moderate: 5.23%, Large: 0.86%      |\n",
    "| Shifted (Age > -0.47749535739421844)  | 0.7216 | 0.6615   | 1.0000            | Insignificant: 15.31%, Small: 15.49%, Moderate: 16.77%, Large: 52.43%    |\n",
    "\n",
    "As the shift magnitude increases to 0.6, the non-shifted profile still maintains high AUC and accuracy, with a relatively low shift probability (23.33%), showing stability and no significant shift. However, the shifted profile's performance degrades further, with lower AUC and accuracy, a 100% shift probability, and more than half of the shifts classified as large (52.43%).\n",
    "\n",
    "**Shift Magnitude : 1.6**\n",
    "\n",
    "| Profile | AUC  | Accuracy | Shift Probability | Significance Distribution                                |\n",
    "|---------|------|----------|-------------------|---------------------------------------------------------|\n",
    "| Non-Shifted (Age <= -0.47749535739421844) | 0.8045 | 0.8235   | 0.2333            | Insignificant: 76.31%, Small: 14.79%, Moderate: 6.96%, Large: 1.94%      |\n",
    "| Shifted (Age > -0.47749535739421844)  | 0.6818 | 0.6154   | 1.0000            | Insignificant: 6.56%, Small: 10.25%, Moderate: 13.84%, Large: 69.36%     |\n",
    "\n",
    "At the highest shift magnitude of 1.6, the non-shifted profile continues to show robustness, maintaining relatively high AUC and accuracy, with a low shift probability (23.33%) and most shifts categorized as \"No shift\" (76.31%). Conversely, the shifted profile experiences significant performance deterioration, with the lowest AUC and accuracy scores, a 100% shift probability, and the majority of shifts classified as large (69.36%)."
   ]
  },
  {
   "cell_type": "markdown",
   "metadata": {},
   "source": [
    "## Conclusion\n",
    "This experiment correctly demonstrates how the model performs on different profiles and accurately identifies whether these profiles are shifted or not. By investigating profile by profile, Med3paDetectron provides a more granular and detailed understanding of model performance than global metrics alone, which might not capture the nuanced behavior of the model under different conditions. "
   ]
  }
 ],
 "metadata": {
  "kernelspec": {
   "display_name": "det3pa",
   "language": "python",
   "name": "python3"
  },
  "language_info": {
   "codemirror_mode": {
    "name": "ipython",
    "version": 3
   },
   "file_extension": ".py",
   "mimetype": "text/x-python",
   "name": "python",
   "nbconvert_exporter": "python",
   "pygments_lexer": "ipython3",
   "version": "3.12.3"
  }
 },
 "nbformat": 4,
 "nbformat_minor": 2
}
